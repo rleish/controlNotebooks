{
 "cells": [
  {
   "cell_type": "code",
   "execution_count": null,
   "metadata": {},
   "outputs": [],
   "source": [
    "# ONLY RUN THIS CELL ON GOOGLE COLAB ######################3\n",
    "\n",
    "# Install necessary libraries in python: \n",
    "!pip install gitPython control\n",
    "import git #import Repo\\n\",\n",
    "\n",
    "# Clone the repo, to get the files that we need. \\n\",\n",
    "git_dir = 'https://github.com/rleish/controlNotebooks.git'\n",
    "g = git.cmd.Git()\n",
    "g.clone(git_dir)\n",
    "#repo = Repo('./controlNotebooks/') #can be used to manipulate the repository \n",
    "import sys\n",
    "sys.path.append('./controlNotebooks')"
   ]
  },
  {
   "cell_type": "code",
   "execution_count": 1,
   "metadata": {},
   "outputs": [],
   "source": [
    "# Imports for the notebook\n",
    "import sys\n",
    "import numpy as np\n",
    "import control as c\n",
    "from control.matlab import *\n",
    "import matplotlib.pyplot as plt\n",
    "from IPython.display import Latex"
   ]
  },
  {
   "cell_type": "code",
   "execution_count": null,
   "metadata": {},
   "outputs": [],
   "source": [
    "# Figures"
   ]
  }
 ],
 "metadata": {
  "kernelspec": {
   "display_name": "Python 3",
   "language": "python",
   "name": "python3"
  },
  "language_info": {
   "codemirror_mode": {
    "name": "ipython",
    "version": 3
   },
   "file_extension": ".py",
   "mimetype": "text/x-python",
   "name": "python",
   "nbconvert_exporter": "python",
   "pygments_lexer": "ipython3",
   "version": "3.5.5"
  }
 },
 "nbformat": 4,
 "nbformat_minor": 2
}
