{
  "nbformat": 4,
  "nbformat_minor": 0,
  "metadata": {
    "colab": {
      "name": "7_PID_PolePlacement_solution.ipynb",
      "version": "0.3.2",
      "provenance": [],
      "toc_visible": true,
      "include_colab_link": true
    },
    "kernelspec": {
      "display_name": "Python 3",
      "language": "python",
      "name": "python3"
    }
  },
  "cells": [
    {
      "cell_type": "markdown",
      "metadata": {
        "id": "view-in-github",
        "colab_type": "text"
      },
      "source": [
        "[![Open In Colab](https://colab.research.google.com/assets/colab-badge.svg)](https://colab.research.google.com/github/rleish/controlNotebooks/blob/feature/colab/7_PID_PolePlacement_solution.ipynb)"
      ]
    },
    {
      "metadata": {
        "id": "mth8rzV-CTI-",
        "colab_type": "code",
        "colab": {
          "base_uri": "https://localhost:8080/",
          "height": 278
        },
        "outputId": "320bde26-b9b2-4da6-f7e4-3540250c1122"
      },
      "cell_type": "code",
      "source": [
        "# Install dependencies above what is automatic\n",
        "!apt-get install libmagickwand-dev\n",
        "\n",
        "!pip install control wand\n"
      ],
      "execution_count": 2,
      "outputs": [
        {
          "output_type": "stream",
          "text": [
            "Reading package lists... Done\n",
            "Building dependency tree       \n",
            "Reading state information... Done\n",
            "libmagickwand-dev is already the newest version (8:6.9.7.4+dfsg-16ubuntu6.4).\n",
            "0 upgraded, 0 newly installed, 0 to remove and 3 not upgraded.\n",
            "Requirement already satisfied: control in /usr/local/lib/python3.6/dist-packages (0.8.0)\n",
            "Requirement already satisfied: wand in /usr/local/lib/python3.6/dist-packages (0.4.4)\n",
            "Requirement already satisfied: scipy in /usr/local/lib/python3.6/dist-packages (from control) (0.19.1)\n",
            "Requirement already satisfied: numpy in /usr/local/lib/python3.6/dist-packages (from control) (1.14.6)\n",
            "Requirement already satisfied: matplotlib in /usr/local/lib/python3.6/dist-packages (from control) (2.1.2)\n",
            "Requirement already satisfied: six>=1.10 in /usr/local/lib/python3.6/dist-packages (from matplotlib->control) (1.11.0)\n",
            "Requirement already satisfied: pyparsing!=2.0.4,!=2.1.2,!=2.1.6,>=2.0.1 in /usr/local/lib/python3.6/dist-packages (from matplotlib->control) (2.2.2)\n",
            "Requirement already satisfied: cycler>=0.10 in /usr/local/lib/python3.6/dist-packages (from matplotlib->control) (0.10.0)\n",
            "Requirement already satisfied: pytz in /usr/local/lib/python3.6/dist-packages (from matplotlib->control) (2018.5)\n",
            "Requirement already satisfied: python-dateutil>=2.1 in /usr/local/lib/python3.6/dist-packages (from matplotlib->control) (2.5.3)\n"
          ],
          "name": "stdout"
        }
      ]
    },
    {
      "metadata": {
        "id": "Pc4UIQq8_kxZ",
        "colab_type": "code",
        "colab": {}
      },
      "cell_type": "code",
      "source": [
        "from IPython.display import Latex\n",
        "# Add images here, show them where needed below: \n",
        "from wand.image import Image as WImage"
      ],
      "execution_count": 0,
      "outputs": []
    },
    {
      "metadata": {
        "id": "TC-OviRY_s7b",
        "colab_type": "code",
        "colab": {}
      },
      "cell_type": "code",
      "source": [
        "# Retrieve the image files using wget\n",
        "!wget -o pid_PD_control.pdf https://github.com/rleish/controlNotebooks/blob/master/figures_ch7/pid_PD_control.pdf\n"
      ],
      "execution_count": 0,
      "outputs": []
    },
    {
      "metadata": {
        "id": "7i5TpvYiEfIX",
        "colab_type": "code",
        "colab": {
          "base_uri": "https://localhost:8080/",
          "height": 121
        },
        "outputId": "42de023d-0903-4d0d-ca96-8afcc9a090c0"
      },
      "cell_type": "code",
      "source": [
        "!chmod 777 pid_PD_control.pdf\n",
        "!ls -l\n"
      ],
      "execution_count": 25,
      "outputs": [
        {
          "output_type": "stream",
          "text": [
            "total 64\n",
            "-rw-r--r-- 1 root root  2490 Oct 17 03:12 adc.json\n",
            "drwx------ 3 root root  4096 Oct 17 03:10 gdrive\n",
            "-rwxrwxrwx 1 root root   521 Oct 17 03:31 pid_PD_control.pdf\n",
            "-rw-r--r-- 1 root root 40970 Oct 17 03:31 pid_PD_control.pdf.1\n",
            "drwxr-xr-x 2 root root  4096 Oct 15 20:47 sample_data\n"
          ],
          "name": "stdout"
        }
      ]
    },
    {
      "metadata": {
        "id": "gqYACLAc_kxo",
        "colab_type": "code",
        "colab": {
          "base_uri": "https://localhost:8080/",
          "height": 600
        },
        "outputId": "59fc3c4d-8a5f-4f3d-ce48-976de78ae75b"
      },
      "cell_type": "code",
      "source": [
        "#img1 = WImage(filename='./pid_proportional_control.pdf')\n",
        "#img2 = WImage(filename='./figures_ch7/pid_PI_control.pdf')\n",
        "img3 = WImage(filename='./pid_PD_control.pdf')\n",
        "#img4 = WImage(filename='./figures_ch7/pid_PID_control.pdf')\n",
        "#img5 = WImage(filename='./figures_ch7/pid_meaning.pdf')\n",
        "#img6 = WImage(filename='./figures_ch7/pid_PD_control_2.pdf')\n",
        "#img7 = WImage(filename='./figures_ch7/pid_PD_control_3.pdf')"
      ],
      "execution_count": 26,
      "outputs": [
        {
          "output_type": "error",
          "ename": "PolicyError",
          "evalue": "ignored",
          "traceback": [
            "\u001b[0;31m---------------------------------------------------------------------------\u001b[0m",
            "\u001b[0;31mPolicyError\u001b[0m                               Traceback (most recent call last)",
            "\u001b[0;32m<ipython-input-26-1e79153e53a3>\u001b[0m in \u001b[0;36m<module>\u001b[0;34m()\u001b[0m\n\u001b[0;32m----> 1\u001b[0;31m \u001b[0mimg3\u001b[0m \u001b[0;34m=\u001b[0m \u001b[0mWImage\u001b[0m\u001b[0;34m(\u001b[0m\u001b[0mfilename\u001b[0m\u001b[0;34m=\u001b[0m\u001b[0;34m'./pid_PD_control.pdf'\u001b[0m\u001b[0;34m)\u001b[0m\u001b[0;34m\u001b[0m\u001b[0m\n\u001b[0m\u001b[1;32m      2\u001b[0m \u001b[0;31m#img4 = WImage(filename='./figures_ch7/pid_PID_control.pdf')\u001b[0m\u001b[0;34m\u001b[0m\u001b[0;34m\u001b[0m\u001b[0m\n\u001b[1;32m      3\u001b[0m \u001b[0;31m#img5 = WImage(filename='./figures_ch7/pid_meaning.pdf')\u001b[0m\u001b[0;34m\u001b[0m\u001b[0;34m\u001b[0m\u001b[0m\n\u001b[1;32m      4\u001b[0m \u001b[0;31m#img6 = WImage(filename='./figures_ch7/pid_PD_control_2.pdf')\u001b[0m\u001b[0;34m\u001b[0m\u001b[0;34m\u001b[0m\u001b[0m\n\u001b[1;32m      5\u001b[0m \u001b[0;31m#img7 = WImage(filename='./figures_ch7/pid_PD_control_3.pdf')\u001b[0m\u001b[0;34m\u001b[0m\u001b[0;34m\u001b[0m\u001b[0m\n",
            "\u001b[0;32m/usr/local/lib/python3.6/dist-packages/wand/image.py\u001b[0m in \u001b[0;36m__init__\u001b[0;34m(self, image, blob, file, filename, format, width, height, depth, background, resolution)\u001b[0m\n\u001b[1;32m   2742\u001b[0m                     \u001b[0mself\u001b[0m\u001b[0;34m.\u001b[0m\u001b[0mread\u001b[0m\u001b[0;34m(\u001b[0m\u001b[0mblob\u001b[0m\u001b[0;34m=\u001b[0m\u001b[0mblob\u001b[0m\u001b[0;34m,\u001b[0m \u001b[0mresolution\u001b[0m\u001b[0;34m=\u001b[0m\u001b[0mresolution\u001b[0m\u001b[0;34m)\u001b[0m\u001b[0;34m\u001b[0m\u001b[0m\n\u001b[1;32m   2743\u001b[0m                 \u001b[0;32melif\u001b[0m \u001b[0mfilename\u001b[0m \u001b[0;32mis\u001b[0m \u001b[0;32mnot\u001b[0m \u001b[0;32mNone\u001b[0m\u001b[0;34m:\u001b[0m\u001b[0;34m\u001b[0m\u001b[0m\n\u001b[0;32m-> 2744\u001b[0;31m                     \u001b[0mself\u001b[0m\u001b[0;34m.\u001b[0m\u001b[0mread\u001b[0m\u001b[0;34m(\u001b[0m\u001b[0mfilename\u001b[0m\u001b[0;34m=\u001b[0m\u001b[0mfilename\u001b[0m\u001b[0;34m,\u001b[0m \u001b[0mresolution\u001b[0m\u001b[0;34m=\u001b[0m\u001b[0mresolution\u001b[0m\u001b[0;34m)\u001b[0m\u001b[0;34m\u001b[0m\u001b[0m\n\u001b[0m\u001b[1;32m   2745\u001b[0m                 \u001b[0;31m# clear the wand format, otherwise any subsequent call to\u001b[0m\u001b[0;34m\u001b[0m\u001b[0;34m\u001b[0m\u001b[0m\n\u001b[1;32m   2746\u001b[0m                 \u001b[0;31m# MagickGetImageBlob will silently change the image to this\u001b[0m\u001b[0;34m\u001b[0m\u001b[0;34m\u001b[0m\u001b[0m\n",
            "\u001b[0;32m/usr/local/lib/python3.6/dist-packages/wand/image.py\u001b[0m in \u001b[0;36mread\u001b[0;34m(self, file, filename, blob, resolution)\u001b[0m\n\u001b[1;32m   2820\u001b[0m             \u001b[0mr\u001b[0m \u001b[0;34m=\u001b[0m \u001b[0mlibrary\u001b[0m\u001b[0;34m.\u001b[0m\u001b[0mMagickReadImage\u001b[0m\u001b[0;34m(\u001b[0m\u001b[0mself\u001b[0m\u001b[0;34m.\u001b[0m\u001b[0mwand\u001b[0m\u001b[0;34m,\u001b[0m \u001b[0mfilename\u001b[0m\u001b[0;34m)\u001b[0m\u001b[0;34m\u001b[0m\u001b[0m\n\u001b[1;32m   2821\u001b[0m         \u001b[0;32mif\u001b[0m \u001b[0;32mnot\u001b[0m \u001b[0mr\u001b[0m\u001b[0;34m:\u001b[0m\u001b[0;34m\u001b[0m\u001b[0m\n\u001b[0;32m-> 2822\u001b[0;31m             \u001b[0mself\u001b[0m\u001b[0;34m.\u001b[0m\u001b[0mraise_exception\u001b[0m\u001b[0;34m(\u001b[0m\u001b[0;34m)\u001b[0m\u001b[0;34m\u001b[0m\u001b[0m\n\u001b[0m\u001b[1;32m   2823\u001b[0m \u001b[0;34m\u001b[0m\u001b[0m\n\u001b[1;32m   2824\u001b[0m     \u001b[0;32mdef\u001b[0m \u001b[0mclose\u001b[0m\u001b[0;34m(\u001b[0m\u001b[0mself\u001b[0m\u001b[0;34m)\u001b[0m\u001b[0;34m:\u001b[0m\u001b[0;34m\u001b[0m\u001b[0m\n",
            "\u001b[0;32m/usr/local/lib/python3.6/dist-packages/wand/resource.py\u001b[0m in \u001b[0;36mraise_exception\u001b[0;34m(self, stacklevel)\u001b[0m\n\u001b[1;32m    220\u001b[0m             \u001b[0mwarnings\u001b[0m\u001b[0;34m.\u001b[0m\u001b[0mwarn\u001b[0m\u001b[0;34m(\u001b[0m\u001b[0me\u001b[0m\u001b[0;34m,\u001b[0m \u001b[0mstacklevel\u001b[0m\u001b[0;34m=\u001b[0m\u001b[0mstacklevel\u001b[0m \u001b[0;34m+\u001b[0m \u001b[0;36m1\u001b[0m\u001b[0;34m)\u001b[0m\u001b[0;34m\u001b[0m\u001b[0m\n\u001b[1;32m    221\u001b[0m         \u001b[0;32melif\u001b[0m \u001b[0misinstance\u001b[0m\u001b[0;34m(\u001b[0m\u001b[0me\u001b[0m\u001b[0;34m,\u001b[0m \u001b[0mException\u001b[0m\u001b[0;34m)\u001b[0m\u001b[0;34m:\u001b[0m\u001b[0;34m\u001b[0m\u001b[0m\n\u001b[0;32m--> 222\u001b[0;31m             \u001b[0;32mraise\u001b[0m \u001b[0me\u001b[0m\u001b[0;34m\u001b[0m\u001b[0m\n\u001b[0m\u001b[1;32m    223\u001b[0m \u001b[0;34m\u001b[0m\u001b[0m\n\u001b[1;32m    224\u001b[0m     \u001b[0;32mdef\u001b[0m \u001b[0m__enter__\u001b[0m\u001b[0;34m(\u001b[0m\u001b[0mself\u001b[0m\u001b[0;34m)\u001b[0m\u001b[0;34m:\u001b[0m\u001b[0;34m\u001b[0m\u001b[0m\n",
            "\u001b[0;31mPolicyError\u001b[0m: not authorized `./pid_PD_control.pdf' @ error/constitute.c/ReadImage/412"
          ]
        }
      ]
    },
    {
      "metadata": {
        "id": "M3zN3t2tGln-",
        "colab_type": "code",
        "colab": {
          "base_uri": "https://localhost:8080/",
          "height": 371
        },
        "outputId": "470f9a77-8527-4b9f-e4fa-72b31b96998d"
      },
      "cell_type": "code",
      "source": [
        "from IPython.display import IFrame\n",
        "IFrame('pid_PD_control.pdf', width=700, height=350)"
      ],
      "execution_count": 1,
      "outputs": [
        {
          "output_type": "execute_result",
          "data": {
            "text/html": [
              "\n",
              "        <iframe\n",
              "            width=\"700\"\n",
              "            height=\"350\"\n",
              "            src=\"pid_PD_control.pdf\"\n",
              "            frameborder=\"0\"\n",
              "            allowfullscreen\n",
              "        ></iframe>\n",
              "        "
            ],
            "text/plain": [
              "<IPython.lib.display.IFrame at 0x7fe34f28bfd0>"
            ]
          },
          "metadata": {
            "tags": []
          },
          "execution_count": 1
        }
      ]
    },
    {
      "metadata": {
        "id": "BVLY9czSGnSZ",
        "colab_type": "code",
        "colab": {}
      },
      "cell_type": "code",
      "source": [
        ""
      ],
      "execution_count": 0,
      "outputs": []
    },
    {
      "metadata": {
        "id": "yD2Fei--_kxw",
        "colab_type": "text"
      },
      "cell_type": "markdown",
      "source": [
        "# Part 3 PID Control Design\n",
        "## Chapter 7: Pole Placement for Second Order Systems\n",
        "\n",
        "This Notebook will contain the lecture materials and examples (except for a few things on the board) for Lecture 9 from the [text](http://controlbook.byu.edu/doku.php).  \n",
        "\n",
        "### Introduction\n",
        "Thus far we have covered modeling a system using differential equations, simplifying those models to allow for Linear, Time Invariant (LTI) control design principles and then two ways to express those simplified equations: transfer functions and state space.  Now we begin the key concept introduced in this class: **Feeback** \n",
        "\n",
        "The concept of feedback is illustrated in the block diagram below. *Note the positive and negative symbols next to the summing node, those are important.*  In this case, we are using **negative feedback**.  "
      ]
    },
    {
      "metadata": {
        "scrolled": false,
        "id": "jXWUKjll_kxz",
        "colab_type": "code",
        "colab": {},
        "outputId": "e979dd5d-c24f-432f-baa4-f7ee8cc2ca74"
      },
      "cell_type": "code",
      "source": [
        "img1"
      ],
      "execution_count": 0,
      "outputs": [
        {
          "output_type": "execute_result",
          "data": {
            "image/png": "[encoded data removed]",
            "text/plain": [
              "<wand.image.Image: a922cef 'PNG' (315x127)>"
            ]
          },
          "metadata": {
            "tags": []
          },
          "execution_count": 3
        }
      ]
    },
    {
      "metadata": {
        "id": "qbQCiHR7_kx_",
        "colab_type": "text"
      },
      "cell_type": "markdown",
      "source": [
        "***The most basic controller, called a proportional controller, gives commands to the physical system proportional to the error in the output variable y***"
      ]
    },
    {
      "metadata": {
        "id": "veDKmNEP_kyC",
        "colab_type": "text"
      },
      "cell_type": "markdown",
      "source": [
        "The output of the physical system is subtracted from the commanded reference output $y_r$, to produce the error $e = y_r - y$.  The *proportional* controller then creates the system input $u$ by multiplying the error by the gain $k_P$: $u = k_P e$.  \n",
        "\n",
        "The book discusses in the Section III overview *proportional* (P), *integral* (I), and *derivative* (D) control.  The combination, PID, is the most widely used form of controller around.  One of the main advantages is that you do not need to know anything about the system you want to control.  But one key note is that you cannot guarentee the stability and performance of the closed loop system unless the **original system is a second-order system**, thus the need to discuss scond-order systems in this chapert.   The block diagrams for each of these controllers are shown below: "
      ]
    },
    {
      "metadata": {
        "id": "MzlLupmB_kyE",
        "colab_type": "code",
        "colab": {},
        "outputId": "9bef0184-b8f2-44cc-ad99-4d57eaa64c08"
      },
      "cell_type": "code",
      "source": [
        "img2"
      ],
      "execution_count": 0,
      "outputs": [
        {
          "output_type": "execute_result",
          "data": {
            "image/png": "[encoded data removed]",
            "text/plain": [
              "<wand.image.Image: afe766f 'PNG' (427x207)>"
            ]
          },
          "metadata": {
            "tags": []
          },
          "execution_count": 4
        }
      ]
    },
    {
      "metadata": {
        "id": "XOrgLhF1_kyM",
        "colab_type": "text"
      },
      "cell_type": "markdown",
      "source": [
        "***Here is a Proportional-Integral (PI) controller.  This controller uses the error to correct itself directly - with the proportional control, and it also integrates the error so that the system responds to error that was in the system in the past.***"
      ]
    },
    {
      "metadata": {
        "id": "80ShILGr_kyP",
        "colab_type": "code",
        "colab": {},
        "outputId": "dcd621d4-4927-4d6d-bca2-d2728db16f70"
      },
      "cell_type": "code",
      "source": [
        "img3"
      ],
      "execution_count": 0,
      "outputs": [
        {
          "output_type": "execute_result",
          "data": {
            "image/png": "[encoded data removed]",
            "text/plain": [
              "<wand.image.Image: 6ae231b 'PNG' (427x161)>"
            ]
          },
          "metadata": {
            "tags": []
          },
          "execution_count": 5
        }
      ]
    },
    {
      "metadata": {
        "id": "GIhGIU7s_kyf",
        "colab_type": "text"
      },
      "cell_type": "markdown",
      "source": [
        "***This controller is a Proportional-Derivative (PD) controller.  Again, the control responds to the error in the system, but then we also take the derivative of the error.  The derivative provides the slope or trend of the error, giving the control an anticipatory response capability.***"
      ]
    },
    {
      "metadata": {
        "id": "tgnwp3wu_kyh",
        "colab_type": "code",
        "colab": {},
        "outputId": "c18aad70-7754-4ac5-91d2-692bcd2191fa"
      },
      "cell_type": "code",
      "source": [
        "img4"
      ],
      "execution_count": 0,
      "outputs": [
        {
          "output_type": "execute_result",
          "data": {
            "image/png": "[encoded data removed]",
            "text/plain": [
              "<wand.image.Image: bafadd5 'PNG' (430x242)>"
            ]
          },
          "metadata": {
            "tags": []
          },
          "execution_count": 6
        }
      ]
    },
    {
      "metadata": {
        "id": "bPny68OW_kyu",
        "colab_type": "text"
      },
      "cell_type": "markdown",
      "source": [
        "***Bringing the concepts from the above two figures together provides the classic PID controller.***"
      ]
    },
    {
      "metadata": {
        "id": "DPC3OsZa_ky1",
        "colab_type": "text"
      },
      "cell_type": "markdown",
      "source": [
        "The following plot demonstrates what sections of a step response curve are affected by the different portions of the PID controller.  This figure should help you develop an intuitive feel for how the different parameters in the controller can effect the system response. "
      ]
    },
    {
      "metadata": {
        "id": "7RQRdFjj_ky2",
        "colab_type": "code",
        "colab": {},
        "outputId": "074e34c6-e68c-49b9-9e12-fa3553793d9b"
      },
      "cell_type": "code",
      "source": [
        "img5"
      ],
      "execution_count": 0,
      "outputs": [
        {
          "output_type": "execute_result",
          "data": {
            "image/png": "[encoded data removed]",
            "text/plain": [
              "<wand.image.Image: 3608cdb 'PNG' (679x354)>"
            ]
          },
          "metadata": {
            "tags": []
          },
          "execution_count": 7
        }
      ]
    },
    {
      "metadata": {
        "id": "oXz50_Jr_ky-",
        "colab_type": "text"
      },
      "cell_type": "markdown",
      "source": [
        "TODO: make a code version of the above figure, using real data, and make it interactive!!"
      ]
    },
    {
      "metadata": {
        "id": "74_GwUXK_kzA",
        "colab_type": "text"
      },
      "cell_type": "markdown",
      "source": [
        "## Pole Placement Theory\n",
        "Suppose we have a model for a linearized physical system like so:"
      ]
    },
    {
      "metadata": {
        "id": "LxUl1MN-_kzB",
        "colab_type": "text"
      },
      "cell_type": "markdown",
      "source": [
        "$$P(s) = \\frac{b_0}{s^2 + a_1 s + a+0}$$"
      ]
    },
    {
      "metadata": {
        "id": "wUiQVS86_kzD",
        "colab_type": "text"
      },
      "cell_type": "markdown",
      "source": [
        "The open loop poles of $P(s)$ are the roots of the *open root characteristic polynomial*: $s^2 + a_1 s + a_0$, which are given by: "
      ]
    },
    {
      "metadata": {
        "id": "C6SQ_JkI_kzF",
        "colab_type": "text"
      },
      "cell_type": "markdown",
      "source": [
        "$$p_{ol} = - \\frac{a_1}{2} \\pm \\sqrt{\\left(\\frac{a_1}{2} \\right)^2 - a_0}$$"
      ]
    },
    {
      "metadata": {
        "id": "ASCiKBwG_kzG",
        "colab_type": "text"
      },
      "cell_type": "markdown",
      "source": [
        "### Add PD Control\n",
        "Next, if we add a PD controller, as shown in the figure below, we get a *new* characteristic polynomial, the *closed-loop characteristic polynomial*.  "
      ]
    },
    {
      "metadata": {
        "id": "nk23laNI_kzI",
        "colab_type": "code",
        "colab": {},
        "outputId": "9e1c8538-1548-40a8-ea40-2c8e49793c9e"
      },
      "cell_type": "code",
      "source": [
        "img6"
      ],
      "execution_count": 0,
      "outputs": [
        {
          "output_type": "execute_result",
          "data": {
            "image/png": "[encoded data removed]",
            "text/plain": [
              "<wand.image.Image: ee77b3d 'PNG' (436x127)>"
            ]
          },
          "metadata": {
            "tags": []
          },
          "execution_count": 8
        }
      ]
    },
    {
      "metadata": {
        "id": "hDmsRuyn_kzS",
        "colab_type": "text"
      },
      "cell_type": "markdown",
      "source": [
        "***PD Controller for the proposed system***"
      ]
    },
    {
      "metadata": {
        "id": "YNZ6mdUS_kzU",
        "colab_type": "text"
      },
      "cell_type": "markdown",
      "source": [
        "We get the following closed loop transfer function: "
      ]
    },
    {
      "metadata": {
        "id": "4mMTJyXc_kzW",
        "colab_type": "text"
      },
      "cell_type": "markdown",
      "source": [
        "$$ Y(s) = \\frac{b_0 k_D s + b_0 k_P}{s^2 + (a_1 + b_0 k_D) s + (a_0 + b_0 k_P)} Y_r(s) $$"
      ]
    },
    {
      "metadata": {
        "id": "EZlzQR71_kzX",
        "colab_type": "text"
      },
      "cell_type": "markdown",
      "source": [
        "Which gives the closed loop characteristic polynomial of $s^2 + (a_1 + b_0 k_D) s + (a_0 + b_0 k_P)$, with roots of: "
      ]
    },
    {
      "metadata": {
        "id": "0xM2ekun_kzZ",
        "colab_type": "text"
      },
      "cell_type": "markdown",
      "source": [
        "$$p_{cl} = - \\frac{a_1 + b_0 k_D}{2} \\pm \\sqrt{\\left(\\frac{a_1 + b_0 k_D}{2} \\right)^2 - (a_0 + b_0 k_P)}$$"
      ]
    },
    {
      "metadata": {
        "id": "lihl0RHp_kza",
        "colab_type": "text"
      },
      "cell_type": "markdown",
      "source": [
        "Now, we are getting somewhere!  We can *choose* where we want these poles to be located, by selecting $k_P$ and $k_D$ appropriately. \n",
        "\n",
        "### Choose Gains\n",
        "\n",
        "If we have some desired pole locations (we will get to how to find these later in the course) $-p_1^d$ and $-p_2^d$, then to form the desired characteristic polynomial $(s + p_1^d)(s+p_2^d) \\triangleq s^2 + \\alpha_1 s + \\alpha_0$.  Which we can then solve for what $k_P$ and $k_D$ should be: "
      ]
    },
    {
      "metadata": {
        "id": "pDEYoBqs_kzc",
        "colab_type": "text"
      },
      "cell_type": "markdown",
      "source": [
        "\n",
        "\\begin{eqnarray}\n",
        "k_P = & \\frac{\\alpha_0 -a_0}{b_0} \\\\\n",
        "k_D = & \\frac{\\alpha_1 - a_1}{b_0} \n",
        "\\end{eqnarray}"
      ]
    },
    {
      "metadata": {
        "id": "WcgnTWGw_kze",
        "colab_type": "text"
      },
      "cell_type": "markdown",
      "source": [
        "### Note: Implementation Concerns for $p_D$ Control\n",
        "If you implement a $p_D$ controller as described above, you end up introducing a *zero* (root of the numerator polynomial) that was not there before.  If instead, you implement a $p_D$ controller as illustrated in Figure below, by only differentiating the output $y$ instead of the error, you eliminate the zero. "
      ]
    },
    {
      "metadata": {
        "id": "hMnunwEC_kzl",
        "colab_type": "code",
        "colab": {},
        "outputId": "83d60185-b773-4bf2-cb9f-0a696eb897ab"
      },
      "cell_type": "code",
      "source": [
        "img7"
      ],
      "execution_count": 0,
      "outputs": [
        {
          "output_type": "execute_result",
          "data": {
            "image/png": "[encoded data removed]",
            "text/plain": [
              "<wand.image.Image: 8515196 'PNG' (436x127)>"
            ]
          },
          "metadata": {
            "tags": []
          },
          "execution_count": 9
        }
      ]
    },
    {
      "metadata": {
        "id": "Y1zQiS8i_kzv",
        "colab_type": "text"
      },
      "cell_type": "markdown",
      "source": [
        "So the new transfer function would look like this: "
      ]
    },
    {
      "metadata": {
        "id": "2Jeq9vL__kzx",
        "colab_type": "text"
      },
      "cell_type": "markdown",
      "source": [
        "\\begin{equation}\n",
        "Y(s) = \\frac{b_0 k_P}{s^2 + (a_1 + b_) k_D)s + (a_0 + b_0 k_P)}Y_r(s)\n",
        "\\end{equation}"
      ]
    },
    {
      "metadata": {
        "id": "aNwgxqaM_kz6",
        "colab_type": "text"
      },
      "cell_type": "markdown",
      "source": [
        "# Design Study A. Single Link Robot Arm Example\n",
        "(a) Given the open loop transfer function, find the open loop poles of the system, when the equilibrium angle is $\\theta_e = 0$. \n",
        "\n",
        "(b) Using the PD control architecture shown in Figure TODO, find the closed loop transfer function from $\\theta_r$ to $\\theta$ and find the closed loop poles as a function of $k_P$ and $k_D$. \n",
        "\n",
        "(c) Select $k_P$ and $k_D$ to place the closed loop poles at $p_1 = -3$ and $p_2 = -4$. \n",
        "\n",
        "(d) Using the gains from part (c), implement the PD control for the single link robot arm in python, simulink, or Matlab and plot the step response.  "
      ]
    },
    {
      "metadata": {
        "id": "OgapgLt1_kz-",
        "colab_type": "code",
        "colab": {}
      },
      "cell_type": "code",
      "source": [
        "import sys\n",
        "sys.path.append('./arm')  # add arm directory\n",
        "sys.path.append('./arm/hw7') # add hw directory we are using\n",
        "import matplotlib.pyplot as plt\n",
        "import numpy as np\n",
        "import armParam as P\n",
        "import control as c"
      ],
      "execution_count": 0,
      "outputs": []
    },
    {
      "metadata": {
        "id": "ekoXXf3N_k0C",
        "colab_type": "text"
      },
      "cell_type": "markdown",
      "source": [
        "## A Part (a): Find the open loop poles of the system\n",
        "Here is the open loop transfer function from Problem A.6: "
      ]
    },
    {
      "metadata": {
        "id": "cQWsd-jY_k0G",
        "colab_type": "text"
      },
      "cell_type": "markdown",
      "source": [
        "$$H(s) = \\frac{\\frac{3}{m l^2}}{s^2 + \\frac{3b}{m l^2}s}$$"
      ]
    },
    {
      "metadata": {
        "id": "tVvWSH4I_k0I",
        "colab_type": "code",
        "colab": {},
        "outputId": "31c224c9-b682-4c69-e2de-ce9f0186ce05"
      },
      "cell_type": "code",
      "source": [
        "num = 3./(P.m*P.ell*P.ell)\n",
        "den = [1., (3.*P.b)/(P.m*P.ell*P.ell), 0]\n",
        "\n",
        "H = c.tf(num,den)\n",
        "display(H)"
      ],
      "execution_count": 0,
      "outputs": [
        {
          "output_type": "display_data",
          "data": {
            "text/plain": [
              "\n",
              "    66.67\n",
              "-------------\n",
              "s^2 + 3.333 s"
            ]
          },
          "metadata": {
            "tags": []
          }
        }
      ]
    },
    {
      "metadata": {
        "id": "Kgr4SOna_k0U",
        "colab_type": "text"
      },
      "cell_type": "markdown",
      "source": [
        "Open Loop poles: "
      ]
    },
    {
      "metadata": {
        "id": "jOIvpym9_k0Y",
        "colab_type": "code",
        "colab": {},
        "outputId": "c8b53f9d-7235-4039-ebba-6186afbee720"
      },
      "cell_type": "code",
      "source": [
        "c.pole(H)"
      ],
      "execution_count": 0,
      "outputs": [
        {
          "output_type": "execute_result",
          "data": {
            "text/plain": [
              "array([-3.33333333,  0.        ])"
            ]
          },
          "metadata": {
            "tags": []
          },
          "execution_count": 12
        }
      ]
    },
    {
      "metadata": {
        "id": "oxmgpxwn_k0i",
        "colab_type": "text"
      },
      "cell_type": "markdown",
      "source": [
        "## A Part (b): Find the closed loop transfer function, assuming the second architecture approach"
      ]
    },
    {
      "metadata": {
        "id": "bzeWBxvc_k0o",
        "colab_type": "text"
      },
      "cell_type": "markdown",
      "source": [
        "Given equation 7.3, with $b_0 = 66.667$ and $a_1 = 3.333$ and $a_0 = 0.0$, we have: "
      ]
    },
    {
      "metadata": {
        "id": "lYv3Uo3g_k0s",
        "colab_type": "text"
      },
      "cell_type": "markdown",
      "source": [
        "\\begin{equation}\n",
        "H_{cl}(s) = \\frac{66.667 k_P}{s^2 + (3.333 + 66.667 k_D)s + 66.667 k_P}\n",
        "\\end{equation}"
      ]
    },
    {
      "metadata": {
        "id": "PmrgLA1x_k0t",
        "colab_type": "text"
      },
      "cell_type": "markdown",
      "source": [
        "\n",
        "$$p_{cl} = - \\frac{3.333 + 66.667 k_D}{2} \\pm \\sqrt{\\left(\\frac{3.333 + 66.667 k_D}{2} \\right)^2 - (66.667 k_P)}$$"
      ]
    },
    {
      "metadata": {
        "id": "ex3WgYSv_k0u",
        "colab_type": "text"
      },
      "cell_type": "markdown",
      "source": [
        "## A Part (c) Select $k_P$ and $k_D$"
      ]
    },
    {
      "metadata": {
        "id": "hwOfS95U_k0x",
        "colab_type": "code",
        "colab": {},
        "outputId": "3b2cddc9-7d2e-421f-b0e9-7600718ab91c"
      },
      "cell_type": "code",
      "source": [
        "from sympy import *\n",
        "\n",
        "s = Symbol('s')\n",
        "\n",
        "expand((s + 3)*(s+4))"
      ],
      "execution_count": 0,
      "outputs": [
        {
          "output_type": "execute_result",
          "data": {
            "text/plain": [
              "s**2 + 7*s + 12"
            ]
          },
          "metadata": {
            "tags": []
          },
          "execution_count": 13
        }
      ]
    },
    {
      "metadata": {
        "id": "xh4Zd4US_k07",
        "colab_type": "text"
      },
      "cell_type": "markdown",
      "source": [
        "So for $\\alpha_0 = 12$ and $\\alpha_1 = 7$.  This allows us to define $k_P$ and $k_D$ as"
      ]
    },
    {
      "metadata": {
        "id": "tcW1F1Sb_k08",
        "colab_type": "code",
        "colab": {},
        "outputId": "2dc36b04-076f-44c2-9412-d5f6efa8a734"
      },
      "cell_type": "code",
      "source": [
        "alp1 = 7.\n",
        "alp0 = 12.\n",
        "b0 = 66.667\n",
        "a0 = 0.\n",
        "a1 = 3.333\n",
        "\n",
        "kP = (alp0 - a0)/b0\n",
        "kD = (alp1 - a1)/b0\n",
        "\n",
        "display(kP)\n",
        "display(kD)"
      ],
      "execution_count": 0,
      "outputs": [
        {
          "output_type": "display_data",
          "data": {
            "text/plain": [
              "0.17999910000449998"
            ]
          },
          "metadata": {
            "tags": []
          }
        },
        {
          "output_type": "display_data",
          "data": {
            "text/plain": [
              "0.05500472497637511"
            ]
          },
          "metadata": {
            "tags": []
          }
        }
      ]
    },
    {
      "metadata": {
        "id": "xGZq5V-l_k1E",
        "colab_type": "text"
      },
      "cell_type": "markdown",
      "source": [
        "## A Part (d) Implement the PD Controller "
      ]
    },
    {
      "metadata": {
        "id": "HP8zPGF8_k1E",
        "colab_type": "code",
        "colab": {},
        "outputId": "738d784e-efd0-4297-d9d2-3d10593018c8"
      },
      "cell_type": "code",
      "source": [
        "import matplotlib.pyplot as plt\n",
        "%matplotlib tk  \n",
        "#Allows the images to come up as pop-up, so that the animations will occur properly\n",
        "import numpy as np\n",
        "import armParam as P\n",
        "from armDynamics import armDynamics\n",
        "from armController import armController\n",
        "from signalGenerator import signalGenerator\n",
        "from armAnimation import armAnimation\n",
        "from armPlotData import armPlotData\n",
        "\n",
        "# instantiate arm, controller, and reference classes\n",
        "arm = armDynamics()\n",
        "ctrl = armController()\n",
        "reference = signalGenerator(amplitude=30*np.pi/180.0, frequency=0.05)\n",
        "\n",
        "# instantiate the simulation plots and animation\n",
        "dataPlot = armPlotData()\n",
        "animation = armAnimation()\n",
        "\n",
        "t = P.t_start  # time starts at t_start\n",
        "while t < P.t_end:  # main simulation loop\n",
        "    # Get referenced inputs from signal generators\n",
        "    ref_input = reference.square(t)\n",
        "    # Propagate dynamics in between plot samples\n",
        "    t_next_plot = t + P.t_plot\n",
        "    while t < t_next_plot: # updates control and dynamics at faster simulation rate\n",
        "        u = ctrl.u(ref_input, arm.outputs())  # Calculate the control value\n",
        "        arm.propagateDynamics(u)  # Propagate the dynamics\n",
        "        t = t + P.Ts  # advance time by Ts\n",
        "    # update animation and data plots\n",
        "    animation.drawArm(arm.states())\n",
        "    dataPlot.updatePlots(t, ref_input, arm.states(), u)\n",
        "    plt.pause(0.0001)  # the pause causes the figure to be displayed during the simulation\n",
        "\n",
        "\n"
      ],
      "execution_count": 0,
      "outputs": [
        {
          "output_type": "stream",
          "text": [
            "kp:  0.18\n",
            "kd:  0.095\n"
          ],
          "name": "stdout"
        }
      ]
    },
    {
      "metadata": {
        "id": "4vGrHJjv_k1K",
        "colab_type": "code",
        "colab": {}
      },
      "cell_type": "code",
      "source": [
        ""
      ],
      "execution_count": 0,
      "outputs": []
    }
  ]
}