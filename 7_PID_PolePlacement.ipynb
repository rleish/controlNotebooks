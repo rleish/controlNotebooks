{
 "cells": [
  {
   "cell_type": "code",
   "execution_count": 1,
   "metadata": {},
   "outputs": [],
   "source": [
    "from IPython.display import Latex"
   ]
  },
  {
   "cell_type": "code",
   "execution_count": 3,
   "metadata": {},
   "outputs": [],
   "source": [
    "# Add images here, show them where needed below: \n",
    "from wand.image import Image as WImage"
   ]
  },
  {
   "cell_type": "code",
   "execution_count": 4,
   "metadata": {},
   "outputs": [
    {
     "ename": "DelegateError",
     "evalue": "FailedToExecuteCommand `\"gswin32c.exe\" -q -dQUIET -dSAFER -dBATCH -dNOPAUSE -dNOPROMPT -dMaxBitmap=500000000 -dAlignToPixels=0 -dGridFitTT=2 \"-sDEVICE=pngalpha\" -dTextAlphaBits=4 -dGraphicsAlphaBits=4 \"-r72x72\"  \"-sOutputFile=C:/Users/user/AppData/Local/Temp/magick-16524RVMj8tc5a358%d\" \"-fC:/Users/user/AppData/Local/Temp/magick-16524GyABpIG3yXsJ\" \"-fC:/Users/user/AppData/Local/Temp/magick-16524izWJJv_WHcv2\"' (The system cannot find the file specified.\r\n) @ error/delegate.c/ExternalDelegateCommand/459",
     "output_type": "error",
     "traceback": [
      "\u001b[1;31m---------------------------------------------------------------------------\u001b[0m",
      "\u001b[1;31mDelegateError\u001b[0m                             Traceback (most recent call last)",
      "\u001b[1;32m<ipython-input-4-e665007daf24>\u001b[0m in \u001b[0;36m<module>\u001b[1;34m()\u001b[0m\n\u001b[1;32m----> 1\u001b[1;33m \u001b[0mimg1\u001b[0m \u001b[1;33m=\u001b[0m \u001b[0mWImage\u001b[0m\u001b[1;33m(\u001b[0m\u001b[0mfilename\u001b[0m\u001b[1;33m=\u001b[0m\u001b[1;34m'./figures_ch7/pid_proportional_control.pdf'\u001b[0m\u001b[1;33m)\u001b[0m\u001b[1;33m\u001b[0m\u001b[0m\n\u001b[0m\u001b[0;32m      2\u001b[0m \u001b[0mimg2\u001b[0m \u001b[1;33m=\u001b[0m \u001b[0mWImage\u001b[0m\u001b[1;33m(\u001b[0m\u001b[0mfilename\u001b[0m\u001b[1;33m=\u001b[0m\u001b[1;34m'./figures_ch7/pid_PI_control.pdf'\u001b[0m\u001b[1;33m)\u001b[0m\u001b[1;33m\u001b[0m\u001b[0m\n\u001b[0;32m      3\u001b[0m \u001b[0mimg3\u001b[0m \u001b[1;33m=\u001b[0m \u001b[0mWImage\u001b[0m\u001b[1;33m(\u001b[0m\u001b[0mfilename\u001b[0m\u001b[1;33m=\u001b[0m\u001b[1;34m'./figures_ch7/pid_PD_control.pdf'\u001b[0m\u001b[1;33m)\u001b[0m\u001b[1;33m\u001b[0m\u001b[0m\n\u001b[0;32m      4\u001b[0m \u001b[0mimg4\u001b[0m \u001b[1;33m=\u001b[0m \u001b[0mWImage\u001b[0m\u001b[1;33m(\u001b[0m\u001b[0mfilename\u001b[0m\u001b[1;33m=\u001b[0m\u001b[1;34m'./figures_ch7/pid_PID_control.pdf'\u001b[0m\u001b[1;33m)\u001b[0m\u001b[1;33m\u001b[0m\u001b[0m\n\u001b[0;32m      5\u001b[0m \u001b[0mimg5\u001b[0m \u001b[1;33m=\u001b[0m \u001b[0mWImage\u001b[0m\u001b[1;33m(\u001b[0m\u001b[0mfilename\u001b[0m\u001b[1;33m=\u001b[0m\u001b[1;34m'./figures_ch7/pid_meaning.pdf'\u001b[0m\u001b[1;33m)\u001b[0m\u001b[1;33m\u001b[0m\u001b[0m\n",
      "\u001b[1;32m~\\Miniconda3\\envs\\controlenv\\lib\\site-packages\\wand\\image.py\u001b[0m in \u001b[0;36m__init__\u001b[1;34m(self, image, blob, file, filename, format, width, height, depth, background, resolution)\u001b[0m\n\u001b[0;32m   2742\u001b[0m                     \u001b[0mself\u001b[0m\u001b[1;33m.\u001b[0m\u001b[0mread\u001b[0m\u001b[1;33m(\u001b[0m\u001b[0mblob\u001b[0m\u001b[1;33m=\u001b[0m\u001b[0mblob\u001b[0m\u001b[1;33m,\u001b[0m \u001b[0mresolution\u001b[0m\u001b[1;33m=\u001b[0m\u001b[0mresolution\u001b[0m\u001b[1;33m)\u001b[0m\u001b[1;33m\u001b[0m\u001b[0m\n\u001b[0;32m   2743\u001b[0m                 \u001b[1;32melif\u001b[0m \u001b[0mfilename\u001b[0m \u001b[1;32mis\u001b[0m \u001b[1;32mnot\u001b[0m \u001b[1;32mNone\u001b[0m\u001b[1;33m:\u001b[0m\u001b[1;33m\u001b[0m\u001b[0m\n\u001b[1;32m-> 2744\u001b[1;33m                     \u001b[0mself\u001b[0m\u001b[1;33m.\u001b[0m\u001b[0mread\u001b[0m\u001b[1;33m(\u001b[0m\u001b[0mfilename\u001b[0m\u001b[1;33m=\u001b[0m\u001b[0mfilename\u001b[0m\u001b[1;33m,\u001b[0m \u001b[0mresolution\u001b[0m\u001b[1;33m=\u001b[0m\u001b[0mresolution\u001b[0m\u001b[1;33m)\u001b[0m\u001b[1;33m\u001b[0m\u001b[0m\n\u001b[0m\u001b[0;32m   2745\u001b[0m                 \u001b[1;31m# clear the wand format, otherwise any subsequent call to\u001b[0m\u001b[1;33m\u001b[0m\u001b[1;33m\u001b[0m\u001b[0m\n\u001b[0;32m   2746\u001b[0m                 \u001b[1;31m# MagickGetImageBlob will silently change the image to this\u001b[0m\u001b[1;33m\u001b[0m\u001b[1;33m\u001b[0m\u001b[0m\n",
      "\u001b[1;32m~\\Miniconda3\\envs\\controlenv\\lib\\site-packages\\wand\\image.py\u001b[0m in \u001b[0;36mread\u001b[1;34m(self, file, filename, blob, resolution)\u001b[0m\n\u001b[0;32m   2820\u001b[0m             \u001b[0mr\u001b[0m \u001b[1;33m=\u001b[0m \u001b[0mlibrary\u001b[0m\u001b[1;33m.\u001b[0m\u001b[0mMagickReadImage\u001b[0m\u001b[1;33m(\u001b[0m\u001b[0mself\u001b[0m\u001b[1;33m.\u001b[0m\u001b[0mwand\u001b[0m\u001b[1;33m,\u001b[0m \u001b[0mfilename\u001b[0m\u001b[1;33m)\u001b[0m\u001b[1;33m\u001b[0m\u001b[0m\n\u001b[0;32m   2821\u001b[0m         \u001b[1;32mif\u001b[0m \u001b[1;32mnot\u001b[0m \u001b[0mr\u001b[0m\u001b[1;33m:\u001b[0m\u001b[1;33m\u001b[0m\u001b[0m\n\u001b[1;32m-> 2822\u001b[1;33m             \u001b[0mself\u001b[0m\u001b[1;33m.\u001b[0m\u001b[0mraise_exception\u001b[0m\u001b[1;33m(\u001b[0m\u001b[1;33m)\u001b[0m\u001b[1;33m\u001b[0m\u001b[0m\n\u001b[0m\u001b[0;32m   2823\u001b[0m \u001b[1;33m\u001b[0m\u001b[0m\n\u001b[0;32m   2824\u001b[0m     \u001b[1;32mdef\u001b[0m \u001b[0mclose\u001b[0m\u001b[1;33m(\u001b[0m\u001b[0mself\u001b[0m\u001b[1;33m)\u001b[0m\u001b[1;33m:\u001b[0m\u001b[1;33m\u001b[0m\u001b[0m\n",
      "\u001b[1;32m~\\Miniconda3\\envs\\controlenv\\lib\\site-packages\\wand\\resource.py\u001b[0m in \u001b[0;36mraise_exception\u001b[1;34m(self, stacklevel)\u001b[0m\n\u001b[0;32m    220\u001b[0m             \u001b[0mwarnings\u001b[0m\u001b[1;33m.\u001b[0m\u001b[0mwarn\u001b[0m\u001b[1;33m(\u001b[0m\u001b[0me\u001b[0m\u001b[1;33m,\u001b[0m \u001b[0mstacklevel\u001b[0m\u001b[1;33m=\u001b[0m\u001b[0mstacklevel\u001b[0m \u001b[1;33m+\u001b[0m \u001b[1;36m1\u001b[0m\u001b[1;33m)\u001b[0m\u001b[1;33m\u001b[0m\u001b[0m\n\u001b[0;32m    221\u001b[0m         \u001b[1;32melif\u001b[0m \u001b[0misinstance\u001b[0m\u001b[1;33m(\u001b[0m\u001b[0me\u001b[0m\u001b[1;33m,\u001b[0m \u001b[0mException\u001b[0m\u001b[1;33m)\u001b[0m\u001b[1;33m:\u001b[0m\u001b[1;33m\u001b[0m\u001b[0m\n\u001b[1;32m--> 222\u001b[1;33m             \u001b[1;32mraise\u001b[0m \u001b[0me\u001b[0m\u001b[1;33m\u001b[0m\u001b[0m\n\u001b[0m\u001b[0;32m    223\u001b[0m \u001b[1;33m\u001b[0m\u001b[0m\n\u001b[0;32m    224\u001b[0m     \u001b[1;32mdef\u001b[0m \u001b[0m__enter__\u001b[0m\u001b[1;33m(\u001b[0m\u001b[0mself\u001b[0m\u001b[1;33m)\u001b[0m\u001b[1;33m:\u001b[0m\u001b[1;33m\u001b[0m\u001b[0m\n",
      "\u001b[1;31mDelegateError\u001b[0m: FailedToExecuteCommand `\"gswin32c.exe\" -q -dQUIET -dSAFER -dBATCH -dNOPAUSE -dNOPROMPT -dMaxBitmap=500000000 -dAlignToPixels=0 -dGridFitTT=2 \"-sDEVICE=pngalpha\" -dTextAlphaBits=4 -dGraphicsAlphaBits=4 \"-r72x72\"  \"-sOutputFile=C:/Users/user/AppData/Local/Temp/magick-16524RVMj8tc5a358%d\" \"-fC:/Users/user/AppData/Local/Temp/magick-16524GyABpIG3yXsJ\" \"-fC:/Users/user/AppData/Local/Temp/magick-16524izWJJv_WHcv2\"' (The system cannot find the file specified.\r\n) @ error/delegate.c/ExternalDelegateCommand/459"
     ]
    }
   ],
   "source": [
    "img1 = WImage(filename='./figures_ch7/pid_proportional_control.pdf')\n",
    "img2 = WImage(filename='./figures_ch7/pid_PI_control.pdf')\n",
    "img3 = WImage(filename='./figures_ch7/pid_PD_control.pdf')\n",
    "img4 = WImage(filename='./figures_ch7/pid_PID_control.pdf')\n",
    "img5 = WImage(filename='./figures_ch7/pid_meaning.pdf')\n",
    "img6 = WImage(filename='./figures_ch7/pid_PD_control_2.pdf')\n",
    "img7 = WImage(filename='./figures_ch7/pid_PD_control_3.pdf')"
   ]
  },
  {
   "cell_type": "markdown",
   "metadata": {},
   "source": [
    "# Part 3 PID Control Design\n",
    "## Chapter 7: Pole Placement for Second Order Systems\n",
    "\n",
    "This Notebook will contain the lecture materials and examples (except for a few things on the board) for Lecture 9.  \n",
    "\n",
    "### Introduction\n",
    "Thus far we have covered modeling a system using differential equations, simplifying those models to allow for Linear, Time Invariant (LTI) control design principles and then two ways to express those simplified equations: transfer functions and state space.  Now we begin the key concept introduced in this class: **Feeback** \n",
    "\n",
    "The concept of feedback is illustrated in the block diagram below. *Note the positive and negative symbols next to the summing node, those are important.*  In this case, we are using **negative feedback**.  "
   ]
  },
  {
   "cell_type": "code",
   "execution_count": 4,
   "metadata": {
    "scrolled": false
   },
   "outputs": [
    {
     "ename": "NameError",
     "evalue": "name 'img1' is not defined",
     "output_type": "error",
     "traceback": [
      "\u001b[1;31m---------------------------------------------------------------------------\u001b[0m",
      "\u001b[1;31mNameError\u001b[0m                                 Traceback (most recent call last)",
      "\u001b[1;32m<ipython-input-4-def0bfcf0ebd>\u001b[0m in \u001b[0;36m<module>\u001b[1;34m()\u001b[0m\n\u001b[1;32m----> 1\u001b[1;33m \u001b[0mimg1\u001b[0m\u001b[1;33m\u001b[0m\u001b[0m\n\u001b[0m",
      "\u001b[1;31mNameError\u001b[0m: name 'img1' is not defined"
     ]
    }
   ],
   "source": [
    "img1"
   ]
  },
  {
   "cell_type": "markdown",
   "metadata": {},
   "source": [
    "***The most basic controller, called a proportional controller, gives commands to the physical system proportional to the error in the output variable y***"
   ]
  },
  {
   "cell_type": "markdown",
   "metadata": {},
   "source": [
    "The output of the physical system is subtracted from the commanded reference output $y_r$, to produce the error $e = y_r - y$.  The *proportional* controller then creates the system input $u$ by multiplying the error by the gain $k_P$: $u = k_P e$.  \n",
    "\n",
    "The book discusses in the Section III overview *proportional* (P), *integral* (I), and *derivative* (D) control.  The combination, PID, is the most widely used form of controller around.  One of the main advantages is that you do not need to know anything about the system you want to control.  But one key note is that you cannot guarentee the stability and performance of the closed loop system unless the **original system is a second-order system**, thus the need to discuss scond-order systems in this chapert.   The block diagrams for each of these controllers are shown below: "
   ]
  },
  {
   "cell_type": "code",
   "execution_count": 5,
   "metadata": {},
   "outputs": [
    {
     "ename": "NameError",
     "evalue": "name 'img2' is not defined",
     "output_type": "error",
     "traceback": [
      "\u001b[1;31m---------------------------------------------------------------------------\u001b[0m",
      "\u001b[1;31mNameError\u001b[0m                                 Traceback (most recent call last)",
      "\u001b[1;32m<ipython-input-5-c2eb099f55b3>\u001b[0m in \u001b[0;36m<module>\u001b[1;34m()\u001b[0m\n\u001b[1;32m----> 1\u001b[1;33m \u001b[0mimg2\u001b[0m\u001b[1;33m\u001b[0m\u001b[0m\n\u001b[0m",
      "\u001b[1;31mNameError\u001b[0m: name 'img2' is not defined"
     ]
    }
   ],
   "source": [
    "img2"
   ]
  },
  {
   "cell_type": "markdown",
   "metadata": {},
   "source": [
    "***Here is a Proportional-Integral (PI) controller.  This controller uses the error to correct itself directly - with the proportional control, and it also integrates the error so that the system responds to error that was in the system in the past.***"
   ]
  },
  {
   "cell_type": "code",
   "execution_count": 6,
   "metadata": {},
   "outputs": [
    {
     "ename": "NameError",
     "evalue": "name 'img3' is not defined",
     "output_type": "error",
     "traceback": [
      "\u001b[1;31m---------------------------------------------------------------------------\u001b[0m",
      "\u001b[1;31mNameError\u001b[0m                                 Traceback (most recent call last)",
      "\u001b[1;32m<ipython-input-6-b7ed24ee5395>\u001b[0m in \u001b[0;36m<module>\u001b[1;34m()\u001b[0m\n\u001b[1;32m----> 1\u001b[1;33m \u001b[0mimg3\u001b[0m\u001b[1;33m\u001b[0m\u001b[0m\n\u001b[0m",
      "\u001b[1;31mNameError\u001b[0m: name 'img3' is not defined"
     ]
    }
   ],
   "source": [
    "img3"
   ]
  },
  {
   "cell_type": "markdown",
   "metadata": {},
   "source": [
    "***This controller is a Proportional-Derivative (PD) controller.  Again, the control responds to the error in the system, but then we also take the derivative of the error.  The derivative provides the slope or trend of the error, giving the control an anticipatory response capability.***"
   ]
  },
  {
   "cell_type": "code",
   "execution_count": 7,
   "metadata": {},
   "outputs": [
    {
     "ename": "NameError",
     "evalue": "name 'img4' is not defined",
     "output_type": "error",
     "traceback": [
      "\u001b[1;31m---------------------------------------------------------------------------\u001b[0m",
      "\u001b[1;31mNameError\u001b[0m                                 Traceback (most recent call last)",
      "\u001b[1;32m<ipython-input-7-992f550adbb7>\u001b[0m in \u001b[0;36m<module>\u001b[1;34m()\u001b[0m\n\u001b[1;32m----> 1\u001b[1;33m \u001b[0mimg4\u001b[0m\u001b[1;33m\u001b[0m\u001b[0m\n\u001b[0m",
      "\u001b[1;31mNameError\u001b[0m: name 'img4' is not defined"
     ]
    }
   ],
   "source": [
    "img4"
   ]
  },
  {
   "cell_type": "markdown",
   "metadata": {},
   "source": [
    "***Bringing the concepts from the above two figures together provides the classic PID controller.***"
   ]
  },
  {
   "cell_type": "markdown",
   "metadata": {},
   "source": [
    "The following plot demonstrates what sections of a step response curve are affected by the different portions of the PID controller.  This figure should help you develop an intuitive feel for how the different parameters in the controller can effect the system response. "
   ]
  },
  {
   "cell_type": "code",
   "execution_count": 8,
   "metadata": {},
   "outputs": [
    {
     "ename": "NameError",
     "evalue": "name 'img5' is not defined",
     "output_type": "error",
     "traceback": [
      "\u001b[1;31m---------------------------------------------------------------------------\u001b[0m",
      "\u001b[1;31mNameError\u001b[0m                                 Traceback (most recent call last)",
      "\u001b[1;32m<ipython-input-8-b3b530458fae>\u001b[0m in \u001b[0;36m<module>\u001b[1;34m()\u001b[0m\n\u001b[1;32m----> 1\u001b[1;33m \u001b[0mimg5\u001b[0m\u001b[1;33m\u001b[0m\u001b[0m\n\u001b[0m",
      "\u001b[1;31mNameError\u001b[0m: name 'img5' is not defined"
     ]
    }
   ],
   "source": [
    "img5"
   ]
  },
  {
   "cell_type": "markdown",
   "metadata": {},
   "source": [
    "TODO: make a code version of the above figure, using real data, and make it interactive!!"
   ]
  },
  {
   "cell_type": "markdown",
   "metadata": {},
   "source": [
    "## Pole Placement Theory\n",
    "Suppose we have a model for a linearized physical system like so:"
   ]
  },
  {
   "cell_type": "markdown",
   "metadata": {},
   "source": [
    "$$P(s) = \\frac{b_0}{s^2 + a_1 s + a+0}$$"
   ]
  },
  {
   "cell_type": "markdown",
   "metadata": {},
   "source": [
    "The open loop poles of $P(s)$ are the roots of the *open root characteristic polynomial*: $s^2 + a_1 s + a_0$, which are given by: "
   ]
  },
  {
   "cell_type": "markdown",
   "metadata": {},
   "source": [
    "$$p_{ol} = - \\frac{a_1}{2} \\pm \\sqrt{\\left(\\frac{a_1}{2} \\right)^2 - a_0}$$"
   ]
  },
  {
   "cell_type": "markdown",
   "metadata": {},
   "source": [
    "### Add PD Control\n",
    "Next, if we add a PD controller, as shown in the figure below, we get a *new* characteristic polynomial, the *closed-loop characteristic polynomial*.  "
   ]
  },
  {
   "cell_type": "code",
   "execution_count": 9,
   "metadata": {},
   "outputs": [
    {
     "ename": "NameError",
     "evalue": "name 'img6' is not defined",
     "output_type": "error",
     "traceback": [
      "\u001b[1;31m---------------------------------------------------------------------------\u001b[0m",
      "\u001b[1;31mNameError\u001b[0m                                 Traceback (most recent call last)",
      "\u001b[1;32m<ipython-input-9-235c7ce3aa3c>\u001b[0m in \u001b[0;36m<module>\u001b[1;34m()\u001b[0m\n\u001b[1;32m----> 1\u001b[1;33m \u001b[0mimg6\u001b[0m\u001b[1;33m\u001b[0m\u001b[0m\n\u001b[0m",
      "\u001b[1;31mNameError\u001b[0m: name 'img6' is not defined"
     ]
    }
   ],
   "source": [
    "img6"
   ]
  },
  {
   "cell_type": "markdown",
   "metadata": {},
   "source": [
    "***PD Controller for the proposed system***"
   ]
  },
  {
   "cell_type": "markdown",
   "metadata": {},
   "source": [
    "We get the following closed loop transfer function: "
   ]
  },
  {
   "cell_type": "markdown",
   "metadata": {},
   "source": [
    "$$ Y(s) = \\frac{b_0 k_D s + b_0 k_P}{s^2 + (a_1 + b_0 k_D) s + (a_0 + b_0 k_P)} Y_r(s) $$"
   ]
  },
  {
   "cell_type": "markdown",
   "metadata": {},
   "source": [
    "Which gives the closed loop characteristic polynomial of $s^2 + (a_1 + b_0 k_D) s + (a_0 + b_0 k_P)$, with roots of: "
   ]
  },
  {
   "cell_type": "markdown",
   "metadata": {},
   "source": [
    "$$p_{cl} = - \\frac{a_1 + b_0 k_D}{2} \\pm \\sqrt{\\left(\\frac{a_1 + b_0 k_D}{2} \\right)^2 - (a_0 + b_0 k_P)}$$"
   ]
  },
  {
   "cell_type": "markdown",
   "metadata": {},
   "source": [
    "Now, we are getting somewhere!  We can *choose* where we want these poles to be located, by selecting $k_P$ and $k_D$ appropriately. \n",
    "\n",
    "### Choose Gains\n",
    "\n",
    "If we have some desired pole locations (we will get to how to find these later in the course) $-p_1^d$ and $-p_2^d$, then to form the desired characteristic polynomial $(s + p_1^d)(s+p_2^d) \\triangleq s^2 + \\alpha_1 s + \\alpha_0$.  Which we can then solve for what $k_P$ and $k_D$ should be: "
   ]
  },
  {
   "cell_type": "markdown",
   "metadata": {},
   "source": [
    "\n",
    "\\begin{eqnarray}\n",
    "k_P = & \\frac{\\alpha_0 -a_0}{b_0} \\\\\n",
    "k_D = & \\frac{\\alpha_1 - a_1}{b_0} \n",
    "\\end{eqnarray}"
   ]
  },
  {
   "cell_type": "markdown",
   "metadata": {},
   "source": [
    "### Note: Implementation Concerns for $p_D$ Control\n",
    "If you implement a $p_D$ controller as described above, you end up introducing a *zero* (root of the numerator polynomial) that was not there before.  If instead, you implement a $p_D$ controller as illustrated in Figure below, by only differentiating the output $y$ instead of the error, you eliminate the zero. "
   ]
  },
  {
   "cell_type": "code",
   "execution_count": 10,
   "metadata": {},
   "outputs": [
    {
     "ename": "NameError",
     "evalue": "name 'img7' is not defined",
     "output_type": "error",
     "traceback": [
      "\u001b[1;31m---------------------------------------------------------------------------\u001b[0m",
      "\u001b[1;31mNameError\u001b[0m                                 Traceback (most recent call last)",
      "\u001b[1;32m<ipython-input-10-57b6cc73ba47>\u001b[0m in \u001b[0;36m<module>\u001b[1;34m()\u001b[0m\n\u001b[1;32m----> 1\u001b[1;33m \u001b[0mimg7\u001b[0m\u001b[1;33m\u001b[0m\u001b[0m\n\u001b[0m",
      "\u001b[1;31mNameError\u001b[0m: name 'img7' is not defined"
     ]
    }
   ],
   "source": [
    "img7"
   ]
  },
  {
   "cell_type": "markdown",
   "metadata": {},
   "source": [
    "So the new transfer function would look like this: "
   ]
  },
  {
   "cell_type": "markdown",
   "metadata": {},
   "source": [
    "\\begin{equation}\n",
    "Y(s) = \\frac{b_0 k_P}{s^2 + (a_1 + b_) k_D)s + (a_0 + b_0 k_P)}Y_r(s)\n",
    "\\end{equation}"
   ]
  },
  {
   "cell_type": "markdown",
   "metadata": {},
   "source": [
    "# Example: Design Study A. Single Link Robot Arm\n",
    "(a) Given the open loop transfer function, find the open loop poles of the system, when the equilibrium angle is $\\theta_e = 0$. \n",
    "\n",
    "(b) Using the PD control architecture shown in Figure TODO, find the closed loop transfer function from $\\theta_r$ to $\\theta$ and find the closed loop poles as a function of $k_P$ and $k_D$. \n",
    "\n",
    "(c) Select $k_P$ and $k_D$ to place the closed loop poles at $p_1 = -3$ and $p_2 = -4$. \n",
    "\n",
    "(d) Using the gains from part (c), implement the PD control for the single link robot arm in python, simulink, or Matlab and plot the step response.  "
   ]
  },
  {
   "cell_type": "code",
   "execution_count": 11,
   "metadata": {},
   "outputs": [],
   "source": [
    "import sys\n",
    "sys.path.append('./arm')  # add arm directory\n",
    "sys.path.append('./arm/hw7') # add hw directory we are using\n",
    "import matplotlib.pyplot as plt\n",
    "import numpy as np\n",
    "import armParam as P\n",
    "import control as c"
   ]
  },
  {
   "cell_type": "markdown",
   "metadata": {},
   "source": [
    "## (a): Find the open loop poles of the system\n",
    "Here is the open loop transfer function from Problem A.6: "
   ]
  },
  {
   "cell_type": "markdown",
   "metadata": {},
   "source": [
    "$$H(s) = \\frac{\\frac{3}{m l^2}}{s^2 + \\frac{3b}{m l^2}s}$$"
   ]
  },
  {
   "cell_type": "code",
   "execution_count": 13,
   "metadata": {},
   "outputs": [
    {
     "data": {
      "text/plain": [
       "\n",
       "    66.67\n",
       "-------------\n",
       "s^2 + 3.333 s"
      ]
     },
     "metadata": {},
     "output_type": "display_data"
    }
   ],
   "source": [
    "\n",
    "\n",
    "num = 3./(P.m*P.ell*P.ell)\n",
    "den = [1., (3.*P.b)/(P.m*P.ell*P.ell), 0]\n",
    "\n",
    "H = c.tf(num,den)\n",
    "display(H)"
   ]
  },
  {
   "cell_type": "markdown",
   "metadata": {},
   "source": [
    "Open Loop poles: "
   ]
  },
  {
   "cell_type": "code",
   "execution_count": 14,
   "metadata": {},
   "outputs": [
    {
     "data": {
      "text/plain": [
       "array([-3.33333333,  0.        ])"
      ]
     },
     "execution_count": 14,
     "metadata": {},
     "output_type": "execute_result"
    }
   ],
   "source": [
    "c.pole(H)"
   ]
  },
  {
   "cell_type": "markdown",
   "metadata": {},
   "source": [
    "## (b): Find the closed loop transfer function, assuming the second architecture approach"
   ]
  },
  {
   "cell_type": "markdown",
   "metadata": {},
   "source": [
    "Given equation 7.3, with $b_0 = 66.667$ and $a_1 = 3.333$ and $a_0 = 0.0$, we have: "
   ]
  },
  {
   "cell_type": "markdown",
   "metadata": {},
   "source": [
    "\\begin{equation}\n",
    "H_{cl}(s) = \\frac{66.667 k_P}{s^2 + (3.333 + 66.667 k_D)s + 66.667 k_P}\n",
    "\\end{equation}"
   ]
  },
  {
   "cell_type": "markdown",
   "metadata": {},
   "source": [
    "\n",
    "$$p_{cl} = - \\frac{3.333 + 66.667 k_D}{2} \\pm \\sqrt{\\left(\\frac{3.333 + 66.667 k_D}{2} \\right)^2 - (66.667 k_P)}$$"
   ]
  },
  {
   "cell_type": "markdown",
   "metadata": {},
   "source": [
    "## (c) Select $k_P$ and $k_D$"
   ]
  },
  {
   "cell_type": "code",
   "execution_count": 15,
   "metadata": {},
   "outputs": [
    {
     "data": {
      "text/plain": [
       "s**2 + 7*s + 12"
      ]
     },
     "execution_count": 15,
     "metadata": {},
     "output_type": "execute_result"
    }
   ],
   "source": [
    "from sympy import *\n",
    "\n",
    "s = Symbol('s')\n",
    "\n",
    "expand((s + 3)*(s+4))"
   ]
  },
  {
   "cell_type": "markdown",
   "metadata": {},
   "source": [
    "So for $\\alpha_0 = 12$ and $\\alpha_1 = 7$.  This allows us to define $k_P$ and $k_D$ as"
   ]
  },
  {
   "cell_type": "code",
   "execution_count": 16,
   "metadata": {},
   "outputs": [
    {
     "data": {
      "text/plain": [
       "0.17999910000449998"
      ]
     },
     "metadata": {},
     "output_type": "display_data"
    },
    {
     "data": {
      "text/plain": [
       "0.05500472497637511"
      ]
     },
     "metadata": {},
     "output_type": "display_data"
    }
   ],
   "source": [
    "alp1 = 7.\n",
    "alp0 = 12.\n",
    "b0 = 66.667\n",
    "a0 = 0.\n",
    "a1 = 3.333\n",
    "\n",
    "kP = (alp0 - a0)/b0\n",
    "kD = (alp1 - a1)/b0\n",
    "\n",
    "display(kP)\n",
    "display(kD)"
   ]
  },
  {
   "cell_type": "markdown",
   "metadata": {},
   "source": [
    "## (d) Implement the PD Controller "
   ]
  },
  {
   "cell_type": "code",
   "execution_count": 18,
   "metadata": {},
   "outputs": [
    {
     "name": "stdout",
     "output_type": "stream",
     "text": [
      "kp:  0.18\n",
      "kd:  0.095\n"
     ]
    }
   ],
   "source": [
    "import matplotlib.pyplot as plt\n",
    "%matplotlib tk  \n",
    "#Allows the images to come up as pop-up, so that the animations will occur properly\n",
    "import numpy as np\n",
    "import armParam as P\n",
    "from armDynamics import armDynamics\n",
    "from armController import armController\n",
    "from signalGenerator import signalGenerator\n",
    "from armAnimation import armAnimation\n",
    "from plotData import plotData\n",
    "\n",
    "# instantiate arm, controller, and reference classes\n",
    "arm = armDynamics()\n",
    "ctrl = armController()\n",
    "reference = signalGenerator(amplitude=30*np.pi/180.0, frequency=0.05)\n",
    "\n",
    "# instantiate the simulation plots and animation\n",
    "dataPlot = plotData()\n",
    "animation = armAnimation()\n",
    "\n",
    "t = P.t_start  # time starts at t_start\n",
    "while t < P.t_end:  # main simulation loop\n",
    "    # Get referenced inputs from signal generators\n",
    "    ref_input = reference.square(t)\n",
    "    # Propagate dynamics in between plot samples\n",
    "    t_next_plot = t + P.t_plot\n",
    "    while t < t_next_plot: # updates control and dynamics at faster simulation rate\n",
    "        u = ctrl.u(ref_input, arm.outputs())  # Calculate the control value\n",
    "        arm.propagateDynamics(u)  # Propagate the dynamics\n",
    "        t = t + P.Ts  # advance time by Ts\n",
    "    # update animation and data plots\n",
    "    animation.drawArm(arm.states())\n",
    "    dataPlot.updatePlots(t, ref_input, arm.states(), u)\n",
    "    plt.pause(0.0001)  # the pause causes the figure to be displayed during the simulation\n",
    "\n",
    "\n"
   ]
  },
  {
   "cell_type": "code",
   "execution_count": null,
   "metadata": {},
   "outputs": [],
   "source": []
  }
 ],
 "metadata": {
  "kernelspec": {
   "display_name": "Python 3",
   "language": "python",
   "name": "python3"
  },
  "language_info": {
   "codemirror_mode": {
    "name": "ipython",
    "version": 3
   },
   "file_extension": ".py",
   "mimetype": "text/x-python",
   "name": "python",
   "nbconvert_exporter": "python",
   "pygments_lexer": "ipython3",
   "version": "3.5.6"
  }
 },
 "nbformat": 4,
 "nbformat_minor": 2
}
