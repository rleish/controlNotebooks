{
 "cells": [
  {
   "cell_type": "code",
   "execution_count": null,
   "metadata": {},
   "outputs": [],
   "source": [
    "%%latex\n",
    "from IPython.display import Latex"
   ]
  },
  {
   "cell_type": "code",
   "execution_count": null,
   "metadata": {},
   "outputs": [],
   "source": [
    "# Imports for the notebook\n",
    "import sys\n",
    "import numpy as np\n",
    "import control as c\n",
    "import matplotlib.pyplot as plt\n",
    "\n",
    "# TODO: Place these in the appropriate example folder below\n",
    "# Design Problem A : Arm\n",
    "sys.path.append('./arm/')\n",
    "sys.path.append('./arm/hw7/')  # add homework directory\n",
    "import armParam as P\n",
    "from armDynamics import armDynamics\n",
    "from armController import armController\n",
    "from signalGenerator import signalGenerator\n",
    "from armAnimation import armAnimation\n",
    "from plotData import plotData"
   ]
  },
  {
   "cell_type": "markdown",
   "metadata": {},
   "source": []
  }
 ],
 "metadata": {
  "kernelspec": {
   "display_name": "Python 3",
   "language": "python",
   "name": "python3"
  },
  "language_info": {
   "codemirror_mode": {
    "name": "ipython",
    "version": 3
   },
   "file_extension": ".py",
   "mimetype": "text/x-python",
   "name": "python",
   "nbconvert_exporter": "python",
   "pygments_lexer": "ipython3",
   "version": "3.5.5"
  }
 },
 "nbformat": 4,
 "nbformat_minor": 2
}
