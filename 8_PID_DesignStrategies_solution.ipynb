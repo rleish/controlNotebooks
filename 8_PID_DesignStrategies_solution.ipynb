{
  "nbformat": 4,
  "nbformat_minor": 0,
  "metadata": {
    "colab": {
      "name": "8_PID_DesignStrategies_solution.ipynb",
      "version": "0.3.2",
      "provenance": [],
      "toc_visible": true,
      "include_colab_link": true
    },
    "kernelspec": {
      "display_name": "Python 3",
      "language": "python",
      "name": "python3"
    }
  },
  "cells": [
    {
      "cell_type": "markdown",
      "metadata": {
        "id": "view-in-github",
        "colab_type": "text"
      },
      "source": [
        "[![Open In Colab](https://colab.research.google.com/assets/colab-badge.svg)](https://colab.research.google.com/github/rleish/controlNotebooks/blob/feature/colab/8_PID_DesignStrategies_solution.ipynb)"
      ]
    },
    {
      "metadata": {
        "id": "Li4BDKYOu8Xo",
        "colab_type": "code",
        "colab": {}
      },
      "cell_type": "code",
      "source": [
        "#from google.colab import drive\n",
        "#drive.mount('/content/gdrive')\n",
        "\n",
        "from google.colab import auth\n",
        "auth.authenticate_user()"
      ],
      "execution_count": 0,
      "outputs": []
    },
    {
      "metadata": {
        "id": "nEYzsRsdAH6n",
        "colab_type": "code",
        "colab": {}
      },
      "cell_type": "code",
      "source": [
        "from googleapiclient.discovery import build\n",
        "drive_service = build('drive', 'v3')"
      ],
      "execution_count": 0,
      "outputs": []
    },
    {
      "metadata": {
        "id": "gSTDz-RK2snM",
        "colab_type": "code",
        "colab": {
          "base_uri": "https://localhost:8080/",
          "height": 86
        },
        "outputId": "26e7a0d5-a749-48db-b87f-89a0487aebd2"
      },
      "cell_type": "code",
      "source": [
        "!ls \"/content/gdrive/My Drive/Teaching/EENG 562 - Controls/notebooks\""
      ],
      "execution_count": 5,
      "outputs": [
        {
          "output_type": "stream",
          "text": [
            "10_PID_DigitalPIDImplementation_solution.ipynb\tfigures_ch7\t    README.md\n",
            "7_PID_PolePlacement_solution.ipynb\t\tfigures_ch8\t    satellite\n",
            "8_PID_DesignStrategies_solution.ipynb\t\tpendulum\n",
            "arm\t\t\t\t\t\tpid_PD_control.pdf\n"
          ],
          "name": "stdout"
        }
      ]
    },
    {
      "metadata": {
        "id": "MQtqzk_1vWSS",
        "colab_type": "code",
        "colab": {
          "base_uri": "https://localhost:8080/",
          "height": 10159
        },
        "outputId": "82bf1f77-cb73-4c28-e34d-24d827ccac9b"
      },
      "cell_type": "code",
      "source": [
        "# import the extra stuff from Google Drive\n",
        "import sys\n",
        "sys.path.append(\"/content/gdrive/My Drive/Teaching/EENG 562 - Controls/notebooks\")\n",
        "\n",
        "# Install dependencies above what is automatic\n",
        "!apt-get install libmagickwand-dev\n",
        "\n",
        "!pip install control wand\n"
      ],
      "execution_count": 6,
      "outputs": [
        {
          "output_type": "stream",
          "text": [
            "Reading package lists... Done\n",
            "Building dependency tree       \n",
            "Reading state information... Done\n",
            "The following additional packages will be installed:\n",
            "  autotools-dev bzip2-doc file fontconfig fonts-droid-fallback fonts-noto-mono\n",
            "  ghostscript gir1.2-freedesktop gir1.2-gdkpixbuf-2.0 gir1.2-rsvg-2.0 gsfonts\n",
            "  imagemagick-6-common javascript-common libavahi-client3 libavahi-common-data\n",
            "  libavahi-common3 libbz2-dev libcairo-gobject2 libcairo-script-interpreter2\n",
            "  libcairo2 libcairo2-dev libcroco3 libcups2 libcupsfilters1 libcupsimage2\n",
            "  libdatrie1 libdjvulibre-dev libdjvulibre-text libdjvulibre21 libexif-dev\n",
            "  libexif-doc libexif12 libfftw3-double3 libgdk-pixbuf2.0-0\n",
            "  libgdk-pixbuf2.0-bin libgdk-pixbuf2.0-common libgdk-pixbuf2.0-dev libgs9\n",
            "  libgs9-common libice-dev libidn11 libijs-0.35 libilmbase-dev libilmbase12\n",
            "  libjbig-dev libjbig0 libjbig2dec0 libjs-jquery liblcms2-2 liblcms2-dev\n",
            "  liblqr-1-0 liblqr-1-0-dev libltdl-dev libltdl7 liblzma-dev liblzo2-2\n",
            "  libmagic-mgc libmagic1 libmagickcore-6-arch-config libmagickcore-6-headers\n",
            "  libmagickcore-6.q16-3 libmagickcore-6.q16-3-extra libmagickcore-6.q16-dev\n",
            "  libmagickwand-6-headers libmagickwand-6.q16-3 libmagickwand-6.q16-dev\n",
            "  libopenexr-dev libopenexr22 libpango-1.0-0 libpangocairo-1.0-0\n",
            "  libpangoft2-1.0-0 libpaper-utils libpaper1 libpixman-1-0 libpixman-1-dev\n",
            "  librsvg2-2 librsvg2-common librsvg2-dev libsm-dev libthai-data libthai0\n",
            "  libtiff-dev libtiff5 libtiff5-dev libtiffxx5 libtool libwmf-dev libwmf0.2-7\n",
            "  libxcb-render0 libxcb-render0-dev libxcb-shm0 libxcb-shm0-dev libxext-dev\n",
            "  libxt-dev libxt6 poppler-data shared-mime-info x11proto-xext-dev\n",
            "Suggested packages:\n",
            "  fonts-noto ghostscript-x apache2 | lighttpd | httpd libcairo2-doc\n",
            "  cups-common libfftw3-bin libfftw3-dev libice-doc liblcms2-utils libtool-doc\n",
            "  liblzma-doc inkscape libjxr-tools librsvg2-bin librsvg2-doc libsm-doc\n",
            "  autoconf automaken gcj-jdk libwmf-doc libwmf0.2-7-gtk libxext-doc libxt-doc\n",
            "  poppler-utils fonts-japanese-mincho | fonts-ipafont-mincho\n",
            "  fonts-japanese-gothic | fonts-ipafont-gothic fonts-arphic-ukai\n",
            "  fonts-arphic-uming fonts-nanum\n",
            "The following NEW packages will be installed:\n",
            "  autotools-dev bzip2-doc file fontconfig fonts-droid-fallback fonts-noto-mono\n",
            "  ghostscript gir1.2-freedesktop gir1.2-gdkpixbuf-2.0 gir1.2-rsvg-2.0 gsfonts\n",
            "  imagemagick-6-common javascript-common libavahi-client3 libavahi-common-data\n",
            "  libavahi-common3 libbz2-dev libcairo-gobject2 libcairo-script-interpreter2\n",
            "  libcairo2 libcairo2-dev libcroco3 libcups2 libcupsfilters1 libcupsimage2\n",
            "  libdatrie1 libdjvulibre-dev libdjvulibre-text libdjvulibre21 libexif-dev\n",
            "  libexif-doc libexif12 libfftw3-double3 libgdk-pixbuf2.0-0\n",
            "  libgdk-pixbuf2.0-bin libgdk-pixbuf2.0-common libgdk-pixbuf2.0-dev libgs9\n",
            "  libgs9-common libice-dev libidn11 libijs-0.35 libilmbase-dev libilmbase12\n",
            "  libjbig-dev libjbig0 libjbig2dec0 libjs-jquery liblcms2-2 liblcms2-dev\n",
            "  liblqr-1-0 liblqr-1-0-dev libltdl-dev libltdl7 liblzma-dev liblzo2-2\n",
            "  libmagic-mgc libmagic1 libmagickcore-6-arch-config libmagickcore-6-headers\n",
            "  libmagickcore-6.q16-3 libmagickcore-6.q16-3-extra libmagickcore-6.q16-dev\n",
            "  libmagickwand-6-headers libmagickwand-6.q16-3 libmagickwand-6.q16-dev\n",
            "  libmagickwand-dev libopenexr-dev libopenexr22 libpango-1.0-0\n",
            "  libpangocairo-1.0-0 libpangoft2-1.0-0 libpaper-utils libpaper1 libpixman-1-0\n",
            "  libpixman-1-dev librsvg2-2 librsvg2-common librsvg2-dev libsm-dev\n",
            "  libthai-data libthai0 libtiff-dev libtiff5 libtiff5-dev libtiffxx5 libtool\n",
            "  libwmf-dev libwmf0.2-7 libxcb-render0 libxcb-render0-dev libxcb-shm0\n",
            "  libxcb-shm0-dev libxext-dev libxt-dev libxt6 poppler-data shared-mime-info\n",
            "  x11proto-xext-dev\n",
            "0 upgraded, 99 newly installed, 0 to remove and 3 not upgraded.\n",
            "Need to get 38.8 MB of archives.\n",
            "After this operation, 129 MB of additional disk space will be used.\n",
            "Get:1 http://archive.ubuntu.com/ubuntu bionic/main amd64 fontconfig amd64 2.12.6-0ubuntu2 [169 kB]\n",
            "Get:2 http://archive.ubuntu.com/ubuntu bionic/main amd64 fonts-droid-fallback all 1:6.0.1r16-1.1 [1,805 kB]\n",
            "Get:3 http://archive.ubuntu.com/ubuntu bionic/main amd64 liblzo2-2 amd64 2.08-1.2 [48.7 kB]\n",
            "Get:4 http://archive.ubuntu.com/ubuntu bionic-updates/main amd64 imagemagick-6-common all 8:6.9.7.4+dfsg-16ubuntu6.4 [60.9 kB]\n",
            "Get:5 http://archive.ubuntu.com/ubuntu bionic-updates/main amd64 libmagickcore-6-arch-config amd64 8:6.9.7.4+dfsg-16ubuntu6.4 [25.8 kB]\n",
            "Get:6 http://archive.ubuntu.com/ubuntu bionic-updates/main amd64 libmagickcore-6-headers all 8:6.9.7.4+dfsg-16ubuntu6.4 [46.9 kB]\n",
            "Get:7 http://archive.ubuntu.com/ubuntu bionic/main amd64 libfftw3-double3 amd64 3.3.7-1 [735 kB]\n",
            "Get:8 http://archive.ubuntu.com/ubuntu bionic/main amd64 libjbig0 amd64 2.1-3.1build1 [26.7 kB]\n",
            "Get:9 http://archive.ubuntu.com/ubuntu bionic-updates/main amd64 liblcms2-2 amd64 2.9-1ubuntu0.1 [139 kB]\n",
            "Get:10 http://archive.ubuntu.com/ubuntu bionic/main amd64 liblqr-1-0 amd64 0.4.2-2.1 [27.7 kB]\n",
            "Get:11 http://archive.ubuntu.com/ubuntu bionic/main amd64 libltdl7 amd64 2.4.6-2 [38.8 kB]\n",
            "Get:12 http://archive.ubuntu.com/ubuntu bionic/main amd64 libtiff5 amd64 4.0.9-5 [152 kB]\n",
            "Get:13 http://archive.ubuntu.com/ubuntu bionic-updates/main amd64 libmagickcore-6.q16-3 amd64 8:6.9.7.4+dfsg-16ubuntu6.4 [1,616 kB]\n",
            "Get:14 http://archive.ubuntu.com/ubuntu bionic-updates/main amd64 libmagickwand-6-headers all 8:6.9.7.4+dfsg-16ubuntu6.4 [10.5 kB]\n",
            "Get:15 http://archive.ubuntu.com/ubuntu bionic-updates/main amd64 libmagickwand-6.q16-3 amd64 8:6.9.7.4+dfsg-16ubuntu6.4 [293 kB]\n",
            "Get:16 http://archive.ubuntu.com/ubuntu bionic/main amd64 libpixman-1-0 amd64 0.34.0-2 [229 kB]\n",
            "Get:17 http://archive.ubuntu.com/ubuntu bionic/main amd64 libxcb-render0 amd64 1.13-1 [14.7 kB]\n",
            "Get:18 http://archive.ubuntu.com/ubuntu bionic/main amd64 libxcb-shm0 amd64 1.13-1 [5,572 B]\n",
            "Get:19 http://archive.ubuntu.com/ubuntu bionic/main amd64 libcairo2 amd64 1.15.10-2 [580 kB]\n",
            "Get:20 http://archive.ubuntu.com/ubuntu bionic/main amd64 libdjvulibre-text all 3.5.27.1-8 [49.1 kB]\n",
            "Get:21 http://archive.ubuntu.com/ubuntu bionic/main amd64 libdjvulibre21 amd64 3.5.27.1-8 [559 kB]\n",
            "Get:22 http://archive.ubuntu.com/ubuntu bionic/main amd64 libilmbase12 amd64 2.2.0-11ubuntu2 [71.4 kB]\n",
            "Get:23 http://archive.ubuntu.com/ubuntu bionic/main amd64 libopenexr22 amd64 2.2.0-11.1ubuntu1 [560 kB]\n",
            "Get:24 http://archive.ubuntu.com/ubuntu bionic/main amd64 libthai-data all 0.1.27-2 [133 kB]\n",
            "Get:25 http://archive.ubuntu.com/ubuntu bionic/main amd64 libdatrie1 amd64 0.2.10-7 [17.8 kB]\n",
            "Get:26 http://archive.ubuntu.com/ubuntu bionic/main amd64 libthai0 amd64 0.1.27-2 [18.0 kB]\n",
            "Get:27 http://archive.ubuntu.com/ubuntu bionic-updates/main amd64 libpango-1.0-0 amd64 1.40.14-1ubuntu0.1 [153 kB]\n",
            "Get:28 http://archive.ubuntu.com/ubuntu bionic-updates/main amd64 libpangoft2-1.0-0 amd64 1.40.14-1ubuntu0.1 [33.2 kB]\n",
            "Get:29 http://archive.ubuntu.com/ubuntu bionic-updates/main amd64 libpangocairo-1.0-0 amd64 1.40.14-1ubuntu0.1 [20.8 kB]\n",
            "Get:30 http://archive.ubuntu.com/ubuntu bionic/main amd64 libwmf0.2-7 amd64 0.2.8.4-12 [150 kB]\n",
            "Get:31 http://archive.ubuntu.com/ubuntu bionic-updates/main amd64 libmagickcore-6.q16-3-extra amd64 8:6.9.7.4+dfsg-16ubuntu6.4 [62.3 kB]\n",
            "Get:32 http://archive.ubuntu.com/ubuntu bionic/main amd64 libbz2-dev amd64 1.0.6-8.1 [29.5 kB]\n",
            "Get:33 http://archive.ubuntu.com/ubuntu bionic/main amd64 libdjvulibre-dev amd64 3.5.27.1-8 [2,379 kB]\n",
            "Get:34 http://archive.ubuntu.com/ubuntu bionic/main amd64 libexif12 amd64 0.6.21-4 [77.2 kB]\n",
            "Get:35 http://archive.ubuntu.com/ubuntu bionic/main amd64 libexif-dev amd64 0.6.21-4 [82.0 kB]\n",
            "Get:36 http://archive.ubuntu.com/ubuntu bionic-updates/main amd64 liblcms2-dev amd64 2.9-1ubuntu0.1 [9,096 kB]\n",
            "Get:37 http://archive.ubuntu.com/ubuntu bionic/main amd64 liblqr-1-0-dev amd64 0.4.2-2.1 [69.1 kB]\n",
            "Get:38 http://archive.ubuntu.com/ubuntu bionic/main amd64 libltdl-dev amd64 2.4.6-2 [162 kB]\n",
            "Get:39 http://archive.ubuntu.com/ubuntu bionic/main amd64 libilmbase-dev amd64 2.2.0-11ubuntu2 [70.8 kB]\n",
            "Get:40 http://archive.ubuntu.com/ubuntu bionic/main amd64 libopenexr-dev amd64 2.2.0-11.1ubuntu1 [681 kB]\n",
            "Get:41 http://archive.ubuntu.com/ubuntu bionic/main amd64 libcroco3 amd64 0.6.12-2 [81.3 kB]\n",
            "Get:42 http://archive.ubuntu.com/ubuntu bionic/main amd64 shared-mime-info amd64 1.9-2 [426 kB]\n",
            "Get:43 http://archive.ubuntu.com/ubuntu bionic/main amd64 libgdk-pixbuf2.0-common all 2.36.11-2 [4,536 B]\n",
            "Get:44 http://archive.ubuntu.com/ubuntu bionic/main amd64 libgdk-pixbuf2.0-0 amd64 2.36.11-2 [165 kB]\n",
            "Get:45 http://archive.ubuntu.com/ubuntu bionic/main amd64 librsvg2-2 amd64 2.40.20-2 [98.6 kB]\n",
            "Get:46 http://archive.ubuntu.com/ubuntu bionic/main amd64 librsvg2-common amd64 2.40.20-2 [5,124 B]\n",
            "Get:47 http://archive.ubuntu.com/ubuntu bionic/main amd64 gir1.2-freedesktop amd64 1.56.1-1 [9,080 B]\n",
            "Get:48 http://archive.ubuntu.com/ubuntu bionic/main amd64 gir1.2-gdkpixbuf-2.0 amd64 2.36.11-2 [7,748 B]\n",
            "Get:49 http://archive.ubuntu.com/ubuntu bionic/main amd64 gir1.2-rsvg-2.0 amd64 2.40.20-2 [3,756 B]\n",
            "Get:50 http://archive.ubuntu.com/ubuntu bionic/main amd64 libgdk-pixbuf2.0-dev amd64 2.36.11-2 [46.8 kB]\n",
            "Get:51 http://archive.ubuntu.com/ubuntu bionic/main amd64 libcairo-gobject2 amd64 1.15.10-2 [17.2 kB]\n",
            "Get:52 http://archive.ubuntu.com/ubuntu bionic/main amd64 libcairo-script-interpreter2 amd64 1.15.10-2 [53.4 kB]\n",
            "Get:53 http://archive.ubuntu.com/ubuntu bionic/main amd64 x11proto-xext-dev all 2018.4-4 [2,620 B]\n",
            "Get:54 http://archive.ubuntu.com/ubuntu bionic/main amd64 libxext-dev amd64 2:1.3.3-1 [82.1 kB]\n",
            "Get:55 http://archive.ubuntu.com/ubuntu bionic/main amd64 libice-dev amd64 2:1.0.9-2 [46.8 kB]\n",
            "Get:56 http://archive.ubuntu.com/ubuntu bionic/main amd64 libsm-dev amd64 2:1.2.2-1 [16.2 kB]\n",
            "Get:57 http://archive.ubuntu.com/ubuntu bionic/main amd64 libpixman-1-dev amd64 0.34.0-2 [244 kB]\n",
            "Get:58 http://archive.ubuntu.com/ubuntu bionic/main amd64 libxcb-render0-dev amd64 1.13-1 [18.4 kB]\n",
            "Get:59 http://archive.ubuntu.com/ubuntu bionic/main amd64 libxcb-shm0-dev amd64 1.13-1 [6,676 B]\n",
            "Get:60 http://archive.ubuntu.com/ubuntu bionic/main amd64 libcairo2-dev amd64 1.15.10-2 [626 kB]\n",
            "Get:61 http://archive.ubuntu.com/ubuntu bionic/main amd64 librsvg2-dev amd64 2.40.20-2 [10.6 kB]\n",
            "Get:62 http://archive.ubuntu.com/ubuntu bionic/main amd64 libjbig-dev amd64 2.1-3.1build1 [25.2 kB]\n",
            "Get:63 http://archive.ubuntu.com/ubuntu bionic/main amd64 liblzma-dev amd64 5.2.2-1.3 [145 kB]\n",
            "Get:64 http://archive.ubuntu.com/ubuntu bionic/main amd64 libtiffxx5 amd64 4.0.9-5 [5,804 B]\n",
            "Get:65 http://archive.ubuntu.com/ubuntu bionic/main amd64 libtiff5-dev amd64 4.0.9-5 [273 kB]\n",
            "Get:66 http://archive.ubuntu.com/ubuntu bionic/main amd64 libtiff-dev amd64 4.0.9-5 [2,248 B]\n",
            "Get:67 http://archive.ubuntu.com/ubuntu bionic/main amd64 libwmf-dev amd64 0.2.8.4-12 [172 kB]\n",
            "Get:68 http://archive.ubuntu.com/ubuntu bionic/main amd64 libxt6 amd64 1:1.1.5-1 [160 kB]\n",
            "Get:69 http://archive.ubuntu.com/ubuntu bionic/main amd64 libxt-dev amd64 1:1.1.5-1 [395 kB]\n",
            "Get:70 http://archive.ubuntu.com/ubuntu bionic-updates/main amd64 libmagickcore-6.q16-dev amd64 8:6.9.7.4+dfsg-16ubuntu6.4 [970 kB]\n",
            "Get:71 http://archive.ubuntu.com/ubuntu bionic-updates/main amd64 libmagickwand-6.q16-dev amd64 8:6.9.7.4+dfsg-16ubuntu6.4 [290 kB]\n",
            "Get:72 http://archive.ubuntu.com/ubuntu bionic-updates/main amd64 libmagickwand-dev all 8:6.9.7.4+dfsg-16ubuntu6.4 [1,368 B]\n",
            "Get:73 http://archive.ubuntu.com/ubuntu bionic/main amd64 poppler-data all 0.4.8-2 [1,479 kB]\n",
            "Get:74 http://archive.ubuntu.com/ubuntu bionic-updates/main amd64 libmagic-mgc amd64 1:5.32-2ubuntu0.1 [184 kB]\n",
            "Get:75 http://archive.ubuntu.com/ubuntu bionic-updates/main amd64 libmagic1 amd64 1:5.32-2ubuntu0.1 [68.4 kB]\n",
            "Get:76 http://archive.ubuntu.com/ubuntu bionic-updates/main amd64 file amd64 1:5.32-2ubuntu0.1 [22.1 kB]\n",
            "Get:77 http://archive.ubuntu.com/ubuntu bionic/main amd64 libidn11 amd64 1.33-2.1ubuntu1 [45.7 kB]\n",
            "Get:78 http://archive.ubuntu.com/ubuntu bionic/main amd64 autotools-dev all 20180224.1 [39.6 kB]\n",
            "Get:79 http://archive.ubuntu.com/ubuntu bionic/main amd64 bzip2-doc all 1.0.6-8.1 [294 kB]\n",
            "Get:80 http://archive.ubuntu.com/ubuntu bionic/main amd64 fonts-noto-mono all 20171026-2 [75.5 kB]\n",
            "Get:81 http://archive.ubuntu.com/ubuntu bionic-updates/main amd64 libavahi-common-data amd64 0.7-3.1ubuntu1.1 [22.1 kB]\n",
            "Get:82 http://archive.ubuntu.com/ubuntu bionic-updates/main amd64 libavahi-common3 amd64 0.7-3.1ubuntu1.1 [21.7 kB]\n",
            "Get:83 http://archive.ubuntu.com/ubuntu bionic-updates/main amd64 libavahi-client3 amd64 0.7-3.1ubuntu1.1 [25.3 kB]\n",
            "Get:84 http://archive.ubuntu.com/ubuntu bionic-updates/main amd64 libcups2 amd64 2.2.7-1ubuntu2.1 [211 kB]\n",
            "Get:85 http://archive.ubuntu.com/ubuntu bionic-updates/main amd64 libcupsimage2 amd64 2.2.7-1ubuntu2.1 [18.6 kB]\n",
            "Get:86 http://archive.ubuntu.com/ubuntu bionic/main amd64 libijs-0.35 amd64 0.35-13 [15.5 kB]\n",
            "Get:87 http://archive.ubuntu.com/ubuntu bionic/main amd64 libjbig2dec0 amd64 0.13-6 [55.9 kB]\n",
            "Get:88 http://archive.ubuntu.com/ubuntu bionic/main amd64 libpaper1 amd64 1.1.24+nmu5ubuntu1 [13.6 kB]\n",
            "Get:89 http://archive.ubuntu.com/ubuntu bionic-updates/main amd64 libgs9-common all 9.25~dfsg+1-0ubuntu0.18.04.1 [5,092 kB]\n",
            "Get:90 http://archive.ubuntu.com/ubuntu bionic-updates/main amd64 libgs9 amd64 9.25~dfsg+1-0ubuntu0.18.04.1 [2,252 kB]\n",
            "Get:91 http://archive.ubuntu.com/ubuntu bionic-updates/main amd64 ghostscript amd64 9.25~dfsg+1-0ubuntu0.18.04.1 [52.2 kB]\n",
            "Get:92 http://archive.ubuntu.com/ubuntu bionic/main amd64 gsfonts all 1:8.11+urwcyr1.0.7~pre44-4.4 [3,120 kB]\n",
            "Get:93 http://archive.ubuntu.com/ubuntu bionic/main amd64 javascript-common all 11 [6,066 B]\n",
            "Get:94 http://archive.ubuntu.com/ubuntu bionic/main amd64 libcupsfilters1 amd64 1.20.2-0ubuntu3 [108 kB]\n",
            "Get:95 http://archive.ubuntu.com/ubuntu bionic/main amd64 libjs-jquery all 3.2.1-1 [152 kB]\n",
            "Get:96 http://archive.ubuntu.com/ubuntu bionic/main amd64 libexif-doc all 0.6.21-4 [256 kB]\n",
            "Get:97 http://archive.ubuntu.com/ubuntu bionic/main amd64 libgdk-pixbuf2.0-bin amd64 2.36.11-2 [7,864 B]\n",
            "Get:98 http://archive.ubuntu.com/ubuntu bionic/main amd64 libpaper-utils amd64 1.1.24+nmu5ubuntu1 [8,170 B]\n",
            "Get:99 http://archive.ubuntu.com/ubuntu bionic/main amd64 libtool all 2.4.6-2 [194 kB]\n",
            "Fetched 38.8 MB in 3s (13.9 MB/s)\n",
            "Extracting templates from packages: 100%\n",
            "Preconfiguring packages ...\n",
            "Selecting previously unselected package fontconfig.\n",
            "(Reading database ... 22278 files and directories currently installed.)\n",
            "Preparing to unpack .../00-fontconfig_2.12.6-0ubuntu2_amd64.deb ...\n",
            "Unpacking fontconfig (2.12.6-0ubuntu2) ...\n",
            "Selecting previously unselected package fonts-droid-fallback.\n",
            "Preparing to unpack .../01-fonts-droid-fallback_1%3a6.0.1r16-1.1_all.deb ...\n",
            "Unpacking fonts-droid-fallback (1:6.0.1r16-1.1) ...\n",
            "Selecting previously unselected package liblzo2-2:amd64.\n",
            "Preparing to unpack .../02-liblzo2-2_2.08-1.2_amd64.deb ...\n",
            "Unpacking liblzo2-2:amd64 (2.08-1.2) ...\n",
            "Selecting previously unselected package imagemagick-6-common.\n",
            "Preparing to unpack .../03-imagemagick-6-common_8%3a6.9.7.4+dfsg-16ubuntu6.4_all.deb ...\n",
            "Unpacking imagemagick-6-common (8:6.9.7.4+dfsg-16ubuntu6.4) ...\n",
            "Selecting previously unselected package libmagickcore-6-arch-config:amd64.\n",
            "Preparing to unpack .../04-libmagickcore-6-arch-config_8%3a6.9.7.4+dfsg-16ubuntu6.4_amd64.deb ...\n",
            "Unpacking libmagickcore-6-arch-config:amd64 (8:6.9.7.4+dfsg-16ubuntu6.4) ...\n",
            "Selecting previously unselected package libmagickcore-6-headers.\n",
            "Preparing to unpack .../05-libmagickcore-6-headers_8%3a6.9.7.4+dfsg-16ubuntu6.4_all.deb ...\n",
            "Unpacking libmagickcore-6-headers (8:6.9.7.4+dfsg-16ubuntu6.4) ...\n",
            "Selecting previously unselected package libfftw3-double3:amd64.\n",
            "Preparing to unpack .../06-libfftw3-double3_3.3.7-1_amd64.deb ...\n",
            "Unpacking libfftw3-double3:amd64 (3.3.7-1) ...\n",
            "Selecting previously unselected package libjbig0:amd64.\n",
            "Preparing to unpack .../07-libjbig0_2.1-3.1build1_amd64.deb ...\n",
            "Unpacking libjbig0:amd64 (2.1-3.1build1) ...\n",
            "Selecting previously unselected package liblcms2-2:amd64.\n",
            "Preparing to unpack .../08-liblcms2-2_2.9-1ubuntu0.1_amd64.deb ...\n",
            "Unpacking liblcms2-2:amd64 (2.9-1ubuntu0.1) ...\n",
            "Selecting previously unselected package liblqr-1-0:amd64.\n",
            "Preparing to unpack .../09-liblqr-1-0_0.4.2-2.1_amd64.deb ...\n",
            "Unpacking liblqr-1-0:amd64 (0.4.2-2.1) ...\n",
            "Selecting previously unselected package libltdl7:amd64.\n",
            "Preparing to unpack .../10-libltdl7_2.4.6-2_amd64.deb ...\n",
            "Unpacking libltdl7:amd64 (2.4.6-2) ...\n",
            "Selecting previously unselected package libtiff5:amd64.\n",
            "Preparing to unpack .../11-libtiff5_4.0.9-5_amd64.deb ...\n",
            "Unpacking libtiff5:amd64 (4.0.9-5) ...\n",
            "Selecting previously unselected package libmagickcore-6.q16-3:amd64.\n",
            "Preparing to unpack .../12-libmagickcore-6.q16-3_8%3a6.9.7.4+dfsg-16ubuntu6.4_amd64.deb ...\n",
            "Unpacking libmagickcore-6.q16-3:amd64 (8:6.9.7.4+dfsg-16ubuntu6.4) ...\n",
            "Selecting previously unselected package libmagickwand-6-headers.\n",
            "Preparing to unpack .../13-libmagickwand-6-headers_8%3a6.9.7.4+dfsg-16ubuntu6.4_all.deb ...\n",
            "Unpacking libmagickwand-6-headers (8:6.9.7.4+dfsg-16ubuntu6.4) ...\n",
            "Selecting previously unselected package libmagickwand-6.q16-3:amd64.\n",
            "Preparing to unpack .../14-libmagickwand-6.q16-3_8%3a6.9.7.4+dfsg-16ubuntu6.4_amd64.deb ...\n",
            "Unpacking libmagickwand-6.q16-3:amd64 (8:6.9.7.4+dfsg-16ubuntu6.4) ...\n",
            "Selecting previously unselected package libpixman-1-0:amd64.\n",
            "Preparing to unpack .../15-libpixman-1-0_0.34.0-2_amd64.deb ...\n",
            "Unpacking libpixman-1-0:amd64 (0.34.0-2) ...\n",
            "Selecting previously unselected package libxcb-render0:amd64.\n",
            "Preparing to unpack .../16-libxcb-render0_1.13-1_amd64.deb ...\n",
            "Unpacking libxcb-render0:amd64 (1.13-1) ...\n",
            "Selecting previously unselected package libxcb-shm0:amd64.\n",
            "Preparing to unpack .../17-libxcb-shm0_1.13-1_amd64.deb ...\n",
            "Unpacking libxcb-shm0:amd64 (1.13-1) ...\n",
            "Selecting previously unselected package libcairo2:amd64.\n",
            "Preparing to unpack .../18-libcairo2_1.15.10-2_amd64.deb ...\n",
            "Unpacking libcairo2:amd64 (1.15.10-2) ...\n",
            "Selecting previously unselected package libdjvulibre-text.\n",
            "Preparing to unpack .../19-libdjvulibre-text_3.5.27.1-8_all.deb ...\n",
            "Unpacking libdjvulibre-text (3.5.27.1-8) ...\n",
            "Selecting previously unselected package libdjvulibre21:amd64.\n",
            "Preparing to unpack .../20-libdjvulibre21_3.5.27.1-8_amd64.deb ...\n",
            "Unpacking libdjvulibre21:amd64 (3.5.27.1-8) ...\n",
            "Selecting previously unselected package libilmbase12:amd64.\n",
            "Preparing to unpack .../21-libilmbase12_2.2.0-11ubuntu2_amd64.deb ...\n",
            "Unpacking libilmbase12:amd64 (2.2.0-11ubuntu2) ...\n",
            "Selecting previously unselected package libopenexr22:amd64.\n",
            "Preparing to unpack .../22-libopenexr22_2.2.0-11.1ubuntu1_amd64.deb ...\n",
            "Unpacking libopenexr22:amd64 (2.2.0-11.1ubuntu1) ...\n",
            "Selecting previously unselected package libthai-data.\n",
            "Preparing to unpack .../23-libthai-data_0.1.27-2_all.deb ...\n",
            "Unpacking libthai-data (0.1.27-2) ...\n",
            "Selecting previously unselected package libdatrie1:amd64.\n",
            "Preparing to unpack .../24-libdatrie1_0.2.10-7_amd64.deb ...\n",
            "Unpacking libdatrie1:amd64 (0.2.10-7) ...\n",
            "Selecting previously unselected package libthai0:amd64.\n",
            "Preparing to unpack .../25-libthai0_0.1.27-2_amd64.deb ...\n",
            "Unpacking libthai0:amd64 (0.1.27-2) ...\n",
            "Selecting previously unselected package libpango-1.0-0:amd64.\n",
            "Preparing to unpack .../26-libpango-1.0-0_1.40.14-1ubuntu0.1_amd64.deb ...\n",
            "Unpacking libpango-1.0-0:amd64 (1.40.14-1ubuntu0.1) ...\n",
            "Selecting previously unselected package libpangoft2-1.0-0:amd64.\n",
            "Preparing to unpack .../27-libpangoft2-1.0-0_1.40.14-1ubuntu0.1_amd64.deb ...\n",
            "Unpacking libpangoft2-1.0-0:amd64 (1.40.14-1ubuntu0.1) ...\n",
            "Selecting previously unselected package libpangocairo-1.0-0:amd64.\n",
            "Preparing to unpack .../28-libpangocairo-1.0-0_1.40.14-1ubuntu0.1_amd64.deb ...\n",
            "Unpacking libpangocairo-1.0-0:amd64 (1.40.14-1ubuntu0.1) ...\n",
            "Selecting previously unselected package libwmf0.2-7:amd64.\n",
            "Preparing to unpack .../29-libwmf0.2-7_0.2.8.4-12_amd64.deb ...\n",
            "Unpacking libwmf0.2-7:amd64 (0.2.8.4-12) ...\n",
            "Selecting previously unselected package libmagickcore-6.q16-3-extra:amd64.\n",
            "Preparing to unpack .../30-libmagickcore-6.q16-3-extra_8%3a6.9.7.4+dfsg-16ubuntu6.4_amd64.deb ...\n",
            "Unpacking libmagickcore-6.q16-3-extra:amd64 (8:6.9.7.4+dfsg-16ubuntu6.4) ...\n",
            "Selecting previously unselected package libbz2-dev:amd64.\n",
            "Preparing to unpack .../31-libbz2-dev_1.0.6-8.1_amd64.deb ...\n",
            "Unpacking libbz2-dev:amd64 (1.0.6-8.1) ...\n",
            "Selecting previously unselected package libdjvulibre-dev:amd64.\n",
            "Preparing to unpack .../32-libdjvulibre-dev_3.5.27.1-8_amd64.deb ...\n",
            "Unpacking libdjvulibre-dev:amd64 (3.5.27.1-8) ...\n",
            "Selecting previously unselected package libexif12:amd64.\n",
            "Preparing to unpack .../33-libexif12_0.6.21-4_amd64.deb ...\n",
            "Unpacking libexif12:amd64 (0.6.21-4) ...\n",
            "Selecting previously unselected package libexif-dev:amd64.\n",
            "Preparing to unpack .../34-libexif-dev_0.6.21-4_amd64.deb ...\n",
            "Unpacking libexif-dev:amd64 (0.6.21-4) ...\n",
            "Selecting previously unselected package liblcms2-dev:amd64.\n",
            "Preparing to unpack .../35-liblcms2-dev_2.9-1ubuntu0.1_amd64.deb ...\n",
            "Unpacking liblcms2-dev:amd64 (2.9-1ubuntu0.1) ...\n",
            "Selecting previously unselected package liblqr-1-0-dev:amd64.\n",
            "Preparing to unpack .../36-liblqr-1-0-dev_0.4.2-2.1_amd64.deb ...\n",
            "Unpacking liblqr-1-0-dev:amd64 (0.4.2-2.1) ...\n",
            "Selecting previously unselected package libltdl-dev:amd64.\n",
            "Preparing to unpack .../37-libltdl-dev_2.4.6-2_amd64.deb ...\n",
            "Unpacking libltdl-dev:amd64 (2.4.6-2) ...\n",
            "Selecting previously unselected package libilmbase-dev.\n",
            "Preparing to unpack .../38-libilmbase-dev_2.2.0-11ubuntu2_amd64.deb ...\n",
            "Unpacking libilmbase-dev (2.2.0-11ubuntu2) ...\n",
            "Selecting previously unselected package libopenexr-dev.\n",
            "Preparing to unpack .../39-libopenexr-dev_2.2.0-11.1ubuntu1_amd64.deb ...\n",
            "Unpacking libopenexr-dev (2.2.0-11.1ubuntu1) ...\n",
            "Selecting previously unselected package libcroco3:amd64.\n",
            "Preparing to unpack .../40-libcroco3_0.6.12-2_amd64.deb ...\n",
            "Unpacking libcroco3:amd64 (0.6.12-2) ...\n",
            "Selecting previously unselected package shared-mime-info.\n",
            "Preparing to unpack .../41-shared-mime-info_1.9-2_amd64.deb ...\n",
            "Unpacking shared-mime-info (1.9-2) ...\n",
            "Selecting previously unselected package libgdk-pixbuf2.0-common.\n",
            "Preparing to unpack .../42-libgdk-pixbuf2.0-common_2.36.11-2_all.deb ...\n",
            "Unpacking libgdk-pixbuf2.0-common (2.36.11-2) ...\n",
            "Selecting previously unselected package libgdk-pixbuf2.0-0:amd64.\n",
            "Preparing to unpack .../43-libgdk-pixbuf2.0-0_2.36.11-2_amd64.deb ...\n",
            "Unpacking libgdk-pixbuf2.0-0:amd64 (2.36.11-2) ...\n",
            "Selecting previously unselected package librsvg2-2:amd64.\n",
            "Preparing to unpack .../44-librsvg2-2_2.40.20-2_amd64.deb ...\n",
            "Unpacking librsvg2-2:amd64 (2.40.20-2) ...\n",
            "Selecting previously unselected package librsvg2-common:amd64.\n",
            "Preparing to unpack .../45-librsvg2-common_2.40.20-2_amd64.deb ...\n",
            "Unpacking librsvg2-common:amd64 (2.40.20-2) ...\n",
            "Selecting previously unselected package gir1.2-freedesktop:amd64.\n",
            "Preparing to unpack .../46-gir1.2-freedesktop_1.56.1-1_amd64.deb ...\n",
            "Unpacking gir1.2-freedesktop:amd64 (1.56.1-1) ...\n",
            "Selecting previously unselected package gir1.2-gdkpixbuf-2.0:amd64.\n",
            "Preparing to unpack .../47-gir1.2-gdkpixbuf-2.0_2.36.11-2_amd64.deb ...\n",
            "Unpacking gir1.2-gdkpixbuf-2.0:amd64 (2.36.11-2) ...\n",
            "Selecting previously unselected package gir1.2-rsvg-2.0:amd64.\n",
            "Preparing to unpack .../48-gir1.2-rsvg-2.0_2.40.20-2_amd64.deb ...\n",
            "Unpacking gir1.2-rsvg-2.0:amd64 (2.40.20-2) ...\n",
            "Selecting previously unselected package libgdk-pixbuf2.0-dev.\n",
            "Preparing to unpack .../49-libgdk-pixbuf2.0-dev_2.36.11-2_amd64.deb ...\n",
            "Unpacking libgdk-pixbuf2.0-dev (2.36.11-2) ...\n",
            "Selecting previously unselected package libcairo-gobject2:amd64.\n",
            "Preparing to unpack .../50-libcairo-gobject2_1.15.10-2_amd64.deb ...\n",
            "Unpacking libcairo-gobject2:amd64 (1.15.10-2) ...\n",
            "Selecting previously unselected package libcairo-script-interpreter2:amd64.\n",
            "Preparing to unpack .../51-libcairo-script-interpreter2_1.15.10-2_amd64.deb ...\n",
            "Unpacking libcairo-script-interpreter2:amd64 (1.15.10-2) ...\n",
            "Selecting previously unselected package x11proto-xext-dev.\n",
            "Preparing to unpack .../52-x11proto-xext-dev_2018.4-4_all.deb ...\n",
            "Unpacking x11proto-xext-dev (2018.4-4) ...\n",
            "Selecting previously unselected package libxext-dev:amd64.\n",
            "Preparing to unpack .../53-libxext-dev_2%3a1.3.3-1_amd64.deb ...\n",
            "Unpacking libxext-dev:amd64 (2:1.3.3-1) ...\n",
            "Selecting previously unselected package libice-dev:amd64.\n",
            "Preparing to unpack .../54-libice-dev_2%3a1.0.9-2_amd64.deb ...\n",
            "Unpacking libice-dev:amd64 (2:1.0.9-2) ...\n",
            "Selecting previously unselected package libsm-dev:amd64.\n",
            "Preparing to unpack .../55-libsm-dev_2%3a1.2.2-1_amd64.deb ...\n",
            "Unpacking libsm-dev:amd64 (2:1.2.2-1) ...\n",
            "Selecting previously unselected package libpixman-1-dev:amd64.\n",
            "Preparing to unpack .../56-libpixman-1-dev_0.34.0-2_amd64.deb ...\n",
            "Unpacking libpixman-1-dev:amd64 (0.34.0-2) ...\n",
            "Selecting previously unselected package libxcb-render0-dev:amd64.\n",
            "Preparing to unpack .../57-libxcb-render0-dev_1.13-1_amd64.deb ...\n",
            "Unpacking libxcb-render0-dev:amd64 (1.13-1) ...\n",
            "Selecting previously unselected package libxcb-shm0-dev:amd64.\n",
            "Preparing to unpack .../58-libxcb-shm0-dev_1.13-1_amd64.deb ...\n",
            "Unpacking libxcb-shm0-dev:amd64 (1.13-1) ...\n",
            "Selecting previously unselected package libcairo2-dev:amd64.\n",
            "Preparing to unpack .../59-libcairo2-dev_1.15.10-2_amd64.deb ...\n",
            "Unpacking libcairo2-dev:amd64 (1.15.10-2) ...\n",
            "Selecting previously unselected package librsvg2-dev:amd64.\n",
            "Preparing to unpack .../60-librsvg2-dev_2.40.20-2_amd64.deb ...\n",
            "Unpacking librsvg2-dev:amd64 (2.40.20-2) ...\n",
            "Selecting previously unselected package libjbig-dev:amd64.\n",
            "Preparing to unpack .../61-libjbig-dev_2.1-3.1build1_amd64.deb ...\n",
            "Unpacking libjbig-dev:amd64 (2.1-3.1build1) ...\n",
            "Selecting previously unselected package liblzma-dev:amd64.\n",
            "Preparing to unpack .../62-liblzma-dev_5.2.2-1.3_amd64.deb ...\n",
            "Unpacking liblzma-dev:amd64 (5.2.2-1.3) ...\n",
            "Selecting previously unselected package libtiffxx5:amd64.\n",
            "Preparing to unpack .../63-libtiffxx5_4.0.9-5_amd64.deb ...\n",
            "Unpacking libtiffxx5:amd64 (4.0.9-5) ...\n",
            "Selecting previously unselected package libtiff5-dev:amd64.\n",
            "Preparing to unpack .../64-libtiff5-dev_4.0.9-5_amd64.deb ...\n",
            "Unpacking libtiff5-dev:amd64 (4.0.9-5) ...\n",
            "Selecting previously unselected package libtiff-dev.\n",
            "Preparing to unpack .../65-libtiff-dev_4.0.9-5_amd64.deb ...\n",
            "Unpacking libtiff-dev (4.0.9-5) ...\n",
            "Selecting previously unselected package libwmf-dev.\n",
            "Preparing to unpack .../66-libwmf-dev_0.2.8.4-12_amd64.deb ...\n",
            "Unpacking libwmf-dev (0.2.8.4-12) ...\n",
            "Selecting previously unselected package libxt6:amd64.\n",
            "Preparing to unpack .../67-libxt6_1%3a1.1.5-1_amd64.deb ...\n",
            "Unpacking libxt6:amd64 (1:1.1.5-1) ...\n",
            "Selecting previously unselected package libxt-dev:amd64.\n",
            "Preparing to unpack .../68-libxt-dev_1%3a1.1.5-1_amd64.deb ...\n",
            "Unpacking libxt-dev:amd64 (1:1.1.5-1) ...\n",
            "Selecting previously unselected package libmagickcore-6.q16-dev:amd64.\n",
            "Preparing to unpack .../69-libmagickcore-6.q16-dev_8%3a6.9.7.4+dfsg-16ubuntu6.4_amd64.deb ...\n",
            "Unpacking libmagickcore-6.q16-dev:amd64 (8:6.9.7.4+dfsg-16ubuntu6.4) ...\n",
            "Selecting previously unselected package libmagickwand-6.q16-dev:amd64.\n",
            "Preparing to unpack .../70-libmagickwand-6.q16-dev_8%3a6.9.7.4+dfsg-16ubuntu6.4_amd64.deb ...\n",
            "Unpacking libmagickwand-6.q16-dev:amd64 (8:6.9.7.4+dfsg-16ubuntu6.4) ...\n",
            "Selecting previously unselected package libmagickwand-dev.\n",
            "Preparing to unpack .../71-libmagickwand-dev_8%3a6.9.7.4+dfsg-16ubuntu6.4_all.deb ...\n",
            "Unpacking libmagickwand-dev (8:6.9.7.4+dfsg-16ubuntu6.4) ...\n",
            "Selecting previously unselected package poppler-data.\n",
            "Preparing to unpack .../72-poppler-data_0.4.8-2_all.deb ...\n",
            "Unpacking poppler-data (0.4.8-2) ...\n",
            "Selecting previously unselected package libmagic-mgc.\n",
            "Preparing to unpack .../73-libmagic-mgc_1%3a5.32-2ubuntu0.1_amd64.deb ...\n",
            "Unpacking libmagic-mgc (1:5.32-2ubuntu0.1) ...\n",
            "Selecting previously unselected package libmagic1:amd64.\n",
            "Preparing to unpack .../74-libmagic1_1%3a5.32-2ubuntu0.1_amd64.deb ...\n",
            "Unpacking libmagic1:amd64 (1:5.32-2ubuntu0.1) ...\n",
            "Selecting previously unselected package file.\n",
            "Preparing to unpack .../75-file_1%3a5.32-2ubuntu0.1_amd64.deb ...\n",
            "Unpacking file (1:5.32-2ubuntu0.1) ...\n",
            "Selecting previously unselected package libidn11:amd64.\n",
            "Preparing to unpack .../76-libidn11_1.33-2.1ubuntu1_amd64.deb ...\n",
            "Unpacking libidn11:amd64 (1.33-2.1ubuntu1) ...\n",
            "Selecting previously unselected package autotools-dev.\n",
            "Preparing to unpack .../77-autotools-dev_20180224.1_all.deb ...\n",
            "Unpacking autotools-dev (20180224.1) ...\n",
            "Selecting previously unselected package bzip2-doc.\n",
            "Preparing to unpack .../78-bzip2-doc_1.0.6-8.1_all.deb ...\n",
            "Unpacking bzip2-doc (1.0.6-8.1) ...\n",
            "Selecting previously unselected package fonts-noto-mono.\n",
            "Preparing to unpack .../79-fonts-noto-mono_20171026-2_all.deb ...\n",
            "Unpacking fonts-noto-mono (20171026-2) ...\n",
            "Selecting previously unselected package libavahi-common-data:amd64.\n",
            "Preparing to unpack .../80-libavahi-common-data_0.7-3.1ubuntu1.1_amd64.deb ...\n",
            "Unpacking libavahi-common-data:amd64 (0.7-3.1ubuntu1.1) ...\n",
            "Selecting previously unselected package libavahi-common3:amd64.\n",
            "Preparing to unpack .../81-libavahi-common3_0.7-3.1ubuntu1.1_amd64.deb ...\n",
            "Unpacking libavahi-common3:amd64 (0.7-3.1ubuntu1.1) ...\n",
            "Selecting previously unselected package libavahi-client3:amd64.\n",
            "Preparing to unpack .../82-libavahi-client3_0.7-3.1ubuntu1.1_amd64.deb ...\n",
            "Unpacking libavahi-client3:amd64 (0.7-3.1ubuntu1.1) ...\n",
            "Selecting previously unselected package libcups2:amd64.\n",
            "Preparing to unpack .../83-libcups2_2.2.7-1ubuntu2.1_amd64.deb ...\n",
            "Unpacking libcups2:amd64 (2.2.7-1ubuntu2.1) ...\n",
            "Selecting previously unselected package libcupsimage2:amd64.\n",
            "Preparing to unpack .../84-libcupsimage2_2.2.7-1ubuntu2.1_amd64.deb ...\n",
            "Unpacking libcupsimage2:amd64 (2.2.7-1ubuntu2.1) ...\n",
            "Selecting previously unselected package libijs-0.35:amd64.\n",
            "Preparing to unpack .../85-libijs-0.35_0.35-13_amd64.deb ...\n",
            "Unpacking libijs-0.35:amd64 (0.35-13) ...\n",
            "Selecting previously unselected package libjbig2dec0:amd64.\n",
            "Preparing to unpack .../86-libjbig2dec0_0.13-6_amd64.deb ...\n",
            "Unpacking libjbig2dec0:amd64 (0.13-6) ...\n",
            "Selecting previously unselected package libpaper1:amd64.\n",
            "Preparing to unpack .../87-libpaper1_1.1.24+nmu5ubuntu1_amd64.deb ...\n",
            "Unpacking libpaper1:amd64 (1.1.24+nmu5ubuntu1) ...\n",
            "Selecting previously unselected package libgs9-common.\n",
            "Preparing to unpack .../88-libgs9-common_9.25~dfsg+1-0ubuntu0.18.04.1_all.deb ...\n",
            "Unpacking libgs9-common (9.25~dfsg+1-0ubuntu0.18.04.1) ...\n",
            "Selecting previously unselected package libgs9:amd64.\n",
            "Preparing to unpack .../89-libgs9_9.25~dfsg+1-0ubuntu0.18.04.1_amd64.deb ...\n",
            "Unpacking libgs9:amd64 (9.25~dfsg+1-0ubuntu0.18.04.1) ...\n",
            "Selecting previously unselected package ghostscript.\n",
            "Preparing to unpack .../90-ghostscript_9.25~dfsg+1-0ubuntu0.18.04.1_amd64.deb ...\n",
            "Unpacking ghostscript (9.25~dfsg+1-0ubuntu0.18.04.1) ...\n",
            "Selecting previously unselected package gsfonts.\n",
            "Preparing to unpack .../91-gsfonts_1%3a8.11+urwcyr1.0.7~pre44-4.4_all.deb ...\n",
            "Unpacking gsfonts (1:8.11+urwcyr1.0.7~pre44-4.4) ...\n",
            "Selecting previously unselected package javascript-common.\n",
            "Preparing to unpack .../92-javascript-common_11_all.deb ...\n",
            "Unpacking javascript-common (11) ...\n",
            "Selecting previously unselected package libcupsfilters1:amd64.\n",
            "Preparing to unpack .../93-libcupsfilters1_1.20.2-0ubuntu3_amd64.deb ...\n",
            "Unpacking libcupsfilters1:amd64 (1.20.2-0ubuntu3) ...\n",
            "Selecting previously unselected package libjs-jquery.\n",
            "Preparing to unpack .../94-libjs-jquery_3.2.1-1_all.deb ...\n",
            "Unpacking libjs-jquery (3.2.1-1) ...\n",
            "Selecting previously unselected package libexif-doc.\n",
            "Preparing to unpack .../95-libexif-doc_0.6.21-4_all.deb ...\n",
            "Unpacking libexif-doc (0.6.21-4) ...\n",
            "Selecting previously unselected package libgdk-pixbuf2.0-bin.\n",
            "Preparing to unpack .../96-libgdk-pixbuf2.0-bin_2.36.11-2_amd64.deb ...\n",
            "Unpacking libgdk-pixbuf2.0-bin (2.36.11-2) ...\n",
            "Selecting previously unselected package libpaper-utils.\n",
            "Preparing to unpack .../97-libpaper-utils_1.1.24+nmu5ubuntu1_amd64.deb ...\n",
            "Unpacking libpaper-utils (1.1.24+nmu5ubuntu1) ...\n",
            "Selecting previously unselected package libtool.\n",
            "Preparing to unpack .../98-libtool_2.4.6-2_all.deb ...\n",
            "Unpacking libtool (2.4.6-2) ...\n",
            "Setting up libgs9-common (9.25~dfsg+1-0ubuntu0.18.04.1) ...\n",
            "Setting up libjs-jquery (3.2.1-1) ...\n",
            "Setting up libpaper1:amd64 (1.1.24+nmu5ubuntu1) ...\n",
            "\n",
            "Creating config file /etc/papersize with new version\n",
            "Setting up imagemagick-6-common (8:6.9.7.4+dfsg-16ubuntu6.4) ...\n",
            "Setting up fonts-droid-fallback (1:6.0.1r16-1.1) ...\n",
            "Setting up libpaper-utils (1.1.24+nmu5ubuntu1) ...\n",
            "Setting up libbz2-dev:amd64 (1.0.6-8.1) ...\n",
            "Setting up libxcb-render0:amd64 (1.13-1) ...\n",
            "Setting up gsfonts (1:8.11+urwcyr1.0.7~pre44-4.4) ...\n",
            "Setting up liblcms2-2:amd64 (2.9-1ubuntu0.1) ...\n",
            "Setting up libjbig0:amd64 (2.1-3.1build1) ...\n",
            "Setting up poppler-data (0.4.8-2) ...\n",
            "Setting up libdjvulibre-text (3.5.27.1-8) ...\n",
            "Setting up gir1.2-freedesktop:amd64 (1.56.1-1) ...\n",
            "Setting up libmagickcore-6-arch-config:amd64 (8:6.9.7.4+dfsg-16ubuntu6.4) ...\n",
            "Setting up libgdk-pixbuf2.0-common (2.36.11-2) ...\n",
            "Setting up libdatrie1:amd64 (0.2.10-7) ...\n",
            "Setting up libtiff5:amd64 (4.0.9-5) ...\n",
            "Setting up libfftw3-double3:amd64 (3.3.7-1) ...\n",
            "Setting up libmagic-mgc (1:5.32-2ubuntu0.1) ...\n",
            "Setting up fonts-noto-mono (20171026-2) ...\n",
            "Setting up libmagic1:amd64 (1:5.32-2ubuntu0.1) ...\n",
            "Setting up libjbig-dev:amd64 (2.1-3.1build1) ...\n",
            "Setting up libcroco3:amd64 (0.6.12-2) ...\n",
            "Setting up libxcb-render0-dev:amd64 (1.13-1) ...\n",
            "Setting up libilmbase12:amd64 (2.2.0-11ubuntu2) ...\n",
            "Setting up liblqr-1-0:amd64 (0.4.2-2.1) ...\n",
            "Setting up libjbig2dec0:amd64 (0.13-6) ...\n",
            "Setting up libpixman-1-0:amd64 (0.34.0-2) ...\n",
            "Setting up libexif-doc (0.6.21-4) ...\n",
            "Setting up x11proto-xext-dev (2018.4-4) ...\n",
            "Processing triggers for libc-bin (2.27-3ubuntu1) ...\n",
            "Setting up autotools-dev (20180224.1) ...\n",
            "Setting up bzip2-doc (1.0.6-8.1) ...\n",
            "Setting up libice-dev:amd64 (2:1.0.9-2) ...\n",
            "Setting up libpixman-1-dev:amd64 (0.34.0-2) ...\n",
            "Setting up libxext-dev:amd64 (2:1.3.3-1) ...\n",
            "Setting up libltdl7:amd64 (2.4.6-2) ...\n",
            "Setting up libijs-0.35:amd64 (0.35-13) ...\n",
            "Setting up libtiffxx5:amd64 (4.0.9-5) ...\n",
            "Setting up libxcb-shm0:amd64 (1.13-1) ...\n",
            "Setting up libxt6:amd64 (1:1.1.5-1) ...\n",
            "Setting up libmagickcore-6-headers (8:6.9.7.4+dfsg-16ubuntu6.4) ...\n",
            "Setting up shared-mime-info (1.9-2) ...\n",
            "Setting up libthai-data (0.1.27-2) ...\n",
            "Setting up liblzma-dev:amd64 (5.2.2-1.3) ...\n",
            "Setting up javascript-common (11) ...\n",
            "Setting up libexif12:amd64 (0.6.21-4) ...\n",
            "Setting up libwmf0.2-7:amd64 (0.2.8.4-12) ...\n",
            "Setting up libidn11:amd64 (1.33-2.1ubuntu1) ...\n",
            "Setting up fontconfig (2.12.6-0ubuntu2) ...\n",
            "Regenerating fonts cache... done.\n",
            "Setting up liblzo2-2:amd64 (2.08-1.2) ...\n",
            "Setting up libavahi-common-data:amd64 (0.7-3.1ubuntu1.1) ...\n",
            "Setting up libwmf-dev (0.2.8.4-12) ...\n",
            "Setting up libcairo2:amd64 (1.15.10-2) ...\n",
            "Setting up libsm-dev:amd64 (2:1.2.2-1) ...\n",
            "Setting up libmagickcore-6.q16-3:amd64 (8:6.9.7.4+dfsg-16ubuntu6.4) ...\n",
            "Setting up liblqr-1-0-dev:amd64 (0.4.2-2.1) ...\n",
            "Setting up liblcms2-dev:amd64 (2.9-1ubuntu0.1) ...\n",
            "Setting up libltdl-dev:amd64 (2.4.6-2) ...\n",
            "Setting up libilmbase-dev (2.2.0-11ubuntu2) ...\n",
            "Setting up libdjvulibre21:amd64 (3.5.27.1-8) ...\n",
            "Setting up libmagickwand-6-headers (8:6.9.7.4+dfsg-16ubuntu6.4) ...\n",
            "Setting up libcairo-script-interpreter2:amd64 (1.15.10-2) ...\n",
            "Setting up libdjvulibre-dev:amd64 (3.5.27.1-8) ...\n",
            "Setting up libgdk-pixbuf2.0-0:amd64 (2.36.11-2) ...\n",
            "Setting up libcairo-gobject2:amd64 (1.15.10-2) ...\n",
            "Setting up libxcb-shm0-dev:amd64 (1.13-1) ...\n",
            "Setting up libtiff5-dev:amd64 (4.0.9-5) ...\n",
            "Setting up libgdk-pixbuf2.0-bin (2.36.11-2) ...\n",
            "Setting up gir1.2-gdkpixbuf-2.0:amd64 (2.36.11-2) ...\n",
            "Setting up libthai0:amd64 (0.1.27-2) ...\n",
            "Setting up libopenexr22:amd64 (2.2.0-11.1ubuntu1) ...\n",
            "Setting up file (1:5.32-2ubuntu0.1) ...\n",
            "Setting up libgdk-pixbuf2.0-dev (2.36.11-2) ...\n",
            "Setting up libexif-dev:amd64 (0.6.21-4) ...\n",
            "Setting up libpango-1.0-0:amd64 (1.40.14-1ubuntu0.1) ...\n",
            "Setting up libmagickwand-6.q16-3:amd64 (8:6.9.7.4+dfsg-16ubuntu6.4) ...\n",
            "Setting up libopenexr-dev (2.2.0-11.1ubuntu1) ...\n",
            "Setting up libavahi-common3:amd64 (0.7-3.1ubuntu1.1) ...\n",
            "Setting up libtool (2.4.6-2) ...\n",
            "Setting up libtiff-dev (4.0.9-5) ...\n",
            "Setting up libxt-dev:amd64 (1:1.1.5-1) ...\n",
            "Setting up libcairo2-dev:amd64 (1.15.10-2) ...\n",
            "Setting up libpangoft2-1.0-0:amd64 (1.40.14-1ubuntu0.1) ...\n",
            "Setting up libavahi-client3:amd64 (0.7-3.1ubuntu1.1) ...\n",
            "Setting up libcups2:amd64 (2.2.7-1ubuntu2.1) ...\n",
            "Setting up libpangocairo-1.0-0:amd64 (1.40.14-1ubuntu0.1) ...\n",
            "Setting up libcupsfilters1:amd64 (1.20.2-0ubuntu3) ...\n",
            "Setting up libcupsimage2:amd64 (2.2.7-1ubuntu2.1) ...\n",
            "Setting up libmagickcore-6.q16-3-extra:amd64 (8:6.9.7.4+dfsg-16ubuntu6.4) ...\n",
            "Setting up libgs9:amd64 (9.25~dfsg+1-0ubuntu0.18.04.1) ...\n",
            "Setting up librsvg2-2:amd64 (2.40.20-2) ...\n",
            "Setting up ghostscript (9.25~dfsg+1-0ubuntu0.18.04.1) ...\n",
            "Setting up librsvg2-common:amd64 (2.40.20-2) ...\n",
            "Setting up gir1.2-rsvg-2.0:amd64 (2.40.20-2) ...\n",
            "Setting up librsvg2-dev:amd64 (2.40.20-2) ...\n",
            "Setting up libmagickcore-6.q16-dev:amd64 (8:6.9.7.4+dfsg-16ubuntu6.4) ...\n",
            "Setting up libmagickwand-6.q16-dev:amd64 (8:6.9.7.4+dfsg-16ubuntu6.4) ...\n",
            "Setting up libmagickwand-dev (8:6.9.7.4+dfsg-16ubuntu6.4) ...\n",
            "Processing triggers for libc-bin (2.27-3ubuntu1) ...\n",
            "Processing triggers for libgdk-pixbuf2.0-0:amd64 (2.36.11-2) ...\n",
            "Collecting control\n",
            "\u001b[?25l  Downloading https://files.pythonhosted.org/packages/89/6b/5ab127da1f93d8f12d108194b0ae4d245c77b97aa57ac01e9200a70d15b9/control-0.8.0.tar.gz (165kB)\n",
            "\u001b[K    100% |████████████████████████████████| 174kB 4.6MB/s \n",
            "\u001b[?25hCollecting wand\n",
            "\u001b[?25l  Downloading https://files.pythonhosted.org/packages/c5/0e/4c7846ffac7a478578ff77c93d6aff3da2c181972d9447c74bfe1e87ac06/Wand-0.4.4.tar.gz (65kB)\n",
            "\u001b[K    100% |████████████████████████████████| 71kB 5.2MB/s \n",
            "\u001b[?25hRequirement already satisfied: numpy in /usr/local/lib/python3.6/dist-packages (from control) (1.14.6)\n",
            "Requirement already satisfied: scipy in /usr/local/lib/python3.6/dist-packages (from control) (0.19.1)\n",
            "Requirement already satisfied: matplotlib in /usr/local/lib/python3.6/dist-packages (from control) (2.1.2)\n",
            "Requirement already satisfied: cycler>=0.10 in /usr/local/lib/python3.6/dist-packages (from matplotlib->control) (0.10.0)\n",
            "Requirement already satisfied: python-dateutil>=2.1 in /usr/local/lib/python3.6/dist-packages (from matplotlib->control) (2.5.3)\n",
            "Requirement already satisfied: pytz in /usr/local/lib/python3.6/dist-packages (from matplotlib->control) (2018.5)\n",
            "Requirement already satisfied: six>=1.10 in /usr/local/lib/python3.6/dist-packages (from matplotlib->control) (1.11.0)\n",
            "Requirement already satisfied: pyparsing!=2.0.4,!=2.1.2,!=2.1.6,>=2.0.1 in /usr/local/lib/python3.6/dist-packages (from matplotlib->control) (2.2.2)\n",
            "Building wheels for collected packages: control, wand\n",
            "  Running setup.py bdist_wheel for control ... \u001b[?25l-\b \b\\\b \bdone\n",
            "\u001b[?25h  Stored in directory: /root/.cache/pip/wheels/d2/8f/04/16760efa8227635eced77a90b880f874bfbb7c91d6272bda14\n",
            "  Running setup.py bdist_wheel for wand ... \u001b[?25l-\b \bdone\n",
            "\u001b[?25h  Stored in directory: /root/.cache/pip/wheels/69/27/bf/e3a7915d1ac83745a9486cb50f1cb0d676cc8642ae711193a6\n",
            "Successfully built control wand\n",
            "Installing collected packages: control, wand\n",
            "Successfully installed control-0.8.0 wand-0.4.4\n"
          ],
          "name": "stdout"
        }
      ]
    },
    {
      "metadata": {
        "id": "KX-YBYjOslEm",
        "colab_type": "code",
        "colab": {}
      },
      "cell_type": "code",
      "source": [
        "# Imports for the notebook\n",
        "import sys\n",
        "import numpy as np\n",
        "import control as c\n",
        "from control.matlab import *\n",
        "import matplotlib.pyplot as plt\n",
        "from IPython.display import Latex"
      ],
      "execution_count": 0,
      "outputs": []
    },
    {
      "metadata": {
        "id": "Qqt36oj32JK_",
        "colab_type": "code",
        "colab": {}
      },
      "cell_type": "code",
      "source": [
        "class PDF(object):\n",
        "  def __init__(self, pdf, size=(200,200)):\n",
        "    self.pdf = pdf\n",
        "    self.size = size\n",
        "\n",
        "  def _repr_html_(self):\n",
        "    return '<iframe src={0} width={1[0]} height={1[1]}></iframe>'.format(self.pdf, self.size)\n",
        "\n",
        "  def _repr_latex_(self):\n",
        "    return r'\\includegraphics[width=1.0\\textwidth]{{{0}}}'.format(self.pdf)"
      ],
      "execution_count": 0,
      "outputs": []
    },
    {
      "metadata": {
        "id": "ECujVKBz6KZ4",
        "colab_type": "code",
        "colab": {
          "base_uri": "https://localhost:8080/",
          "height": 325
        },
        "outputId": "169977aa-8bf2-4053-cf12-234304fc06c1"
      },
      "cell_type": "code",
      "source": [
        "PDF(\"./figures_ch8/pid_complex_poles.pdf\",size=(300,300))"
      ],
      "execution_count": 9,
      "outputs": [
        {
          "output_type": "execute_result",
          "data": {
            "text/latex": "\\includegraphics[width=1.0\\textwidth]{./figures_ch8/pid_complex_poles.pdf}",
            "text/html": [
              "<iframe src=./figures_ch8/pid_complex_poles.pdf width=300 height=300></iframe>"
            ],
            "text/plain": [
              "<__main__.PDF at 0x7fd4eb187be0>"
            ]
          },
          "metadata": {
            "tags": []
          },
          "execution_count": 9
        }
      ]
    },
    {
      "metadata": {
        "id": "2Z3u7LVyslEw",
        "colab_type": "code",
        "colab": {
          "base_uri": "https://localhost:8080/",
          "height": 600
        },
        "outputId": "6aa6f469-4efe-4aa3-a049-b4e6b364c54d"
      },
      "cell_type": "code",
      "source": [
        "from wand.image import Image as WImage\n",
        "# Insert figures: \n",
        "img1 = WImage(filename=\"./figures_ch8/pid_complex_poles.pdf\")\n",
        "img2 = WImage(filename='./figures_ch8/pid_damping_ratio.pdf')\n",
        "img3 = WImage(filename='./figures_ch8/pid_loop-SLC-OL.pdf')\n",
        "img4 = WImage(filename='./figures_ch8/pid_loop-SLC-12.pdf')\n",
        "img5 = WImage(filename='./figures_ch8/pid_loop-SLC-2.pdf')\n",
        "img6 = WImage(filename='./figures_ch8/hw_pendulum_PD_inner.pdf')\n",
        "img7 = WImage(filename='./figures_ch8/hw_pendulum_PD_outer.pdf')\n",
        "img8 = WImage(filename='./figures_ch8/hw_satellite_PD_inner.pdf')\n",
        "img9 = WImage(filename='./figures_ch8/hw_satellite_PD_outer.pdf')"
      ],
      "execution_count": 10,
      "outputs": [
        {
          "output_type": "error",
          "ename": "PolicyError",
          "evalue": "ignored",
          "traceback": [
            "\u001b[0;31m---------------------------------------------------------------------------\u001b[0m",
            "\u001b[0;31mPolicyError\u001b[0m                               Traceback (most recent call last)",
            "\u001b[0;32m<ipython-input-10-9433d4806447>\u001b[0m in \u001b[0;36m<module>\u001b[0;34m()\u001b[0m\n\u001b[1;32m      1\u001b[0m \u001b[0;32mfrom\u001b[0m \u001b[0mwand\u001b[0m\u001b[0;34m.\u001b[0m\u001b[0mimage\u001b[0m \u001b[0;32mimport\u001b[0m \u001b[0mImage\u001b[0m \u001b[0;32mas\u001b[0m \u001b[0mWImage\u001b[0m\u001b[0;34m\u001b[0m\u001b[0m\n\u001b[1;32m      2\u001b[0m \u001b[0;31m# Insert figures:\u001b[0m\u001b[0;34m\u001b[0m\u001b[0;34m\u001b[0m\u001b[0m\n\u001b[0;32m----> 3\u001b[0;31m \u001b[0mimg1\u001b[0m \u001b[0;34m=\u001b[0m \u001b[0mWImage\u001b[0m\u001b[0;34m(\u001b[0m\u001b[0mfilename\u001b[0m\u001b[0;34m=\u001b[0m\u001b[0;34m\"./figures_ch8/pid_complex_poles.pdf\"\u001b[0m\u001b[0;34m)\u001b[0m\u001b[0;34m\u001b[0m\u001b[0m\n\u001b[0m\u001b[1;32m      4\u001b[0m \u001b[0mimg2\u001b[0m \u001b[0;34m=\u001b[0m \u001b[0mWImage\u001b[0m\u001b[0;34m(\u001b[0m\u001b[0mfilename\u001b[0m\u001b[0;34m=\u001b[0m\u001b[0;34m'./figures_ch8/pid_damping_ratio.pdf'\u001b[0m\u001b[0;34m)\u001b[0m\u001b[0;34m\u001b[0m\u001b[0m\n\u001b[1;32m      5\u001b[0m \u001b[0mimg3\u001b[0m \u001b[0;34m=\u001b[0m \u001b[0mWImage\u001b[0m\u001b[0;34m(\u001b[0m\u001b[0mfilename\u001b[0m\u001b[0;34m=\u001b[0m\u001b[0;34m'./figures_ch8/pid_loop-SLC-OL.pdf'\u001b[0m\u001b[0;34m)\u001b[0m\u001b[0;34m\u001b[0m\u001b[0m\n",
            "\u001b[0;32m/usr/local/lib/python3.6/dist-packages/wand/image.py\u001b[0m in \u001b[0;36m__init__\u001b[0;34m(self, image, blob, file, filename, format, width, height, depth, background, resolution)\u001b[0m\n\u001b[1;32m   2742\u001b[0m                     \u001b[0mself\u001b[0m\u001b[0;34m.\u001b[0m\u001b[0mread\u001b[0m\u001b[0;34m(\u001b[0m\u001b[0mblob\u001b[0m\u001b[0;34m=\u001b[0m\u001b[0mblob\u001b[0m\u001b[0;34m,\u001b[0m \u001b[0mresolution\u001b[0m\u001b[0;34m=\u001b[0m\u001b[0mresolution\u001b[0m\u001b[0;34m)\u001b[0m\u001b[0;34m\u001b[0m\u001b[0m\n\u001b[1;32m   2743\u001b[0m                 \u001b[0;32melif\u001b[0m \u001b[0mfilename\u001b[0m \u001b[0;32mis\u001b[0m \u001b[0;32mnot\u001b[0m \u001b[0;32mNone\u001b[0m\u001b[0;34m:\u001b[0m\u001b[0;34m\u001b[0m\u001b[0m\n\u001b[0;32m-> 2744\u001b[0;31m                     \u001b[0mself\u001b[0m\u001b[0;34m.\u001b[0m\u001b[0mread\u001b[0m\u001b[0;34m(\u001b[0m\u001b[0mfilename\u001b[0m\u001b[0;34m=\u001b[0m\u001b[0mfilename\u001b[0m\u001b[0;34m,\u001b[0m \u001b[0mresolution\u001b[0m\u001b[0;34m=\u001b[0m\u001b[0mresolution\u001b[0m\u001b[0;34m)\u001b[0m\u001b[0;34m\u001b[0m\u001b[0m\n\u001b[0m\u001b[1;32m   2745\u001b[0m                 \u001b[0;31m# clear the wand format, otherwise any subsequent call to\u001b[0m\u001b[0;34m\u001b[0m\u001b[0;34m\u001b[0m\u001b[0m\n\u001b[1;32m   2746\u001b[0m                 \u001b[0;31m# MagickGetImageBlob will silently change the image to this\u001b[0m\u001b[0;34m\u001b[0m\u001b[0;34m\u001b[0m\u001b[0m\n",
            "\u001b[0;32m/usr/local/lib/python3.6/dist-packages/wand/image.py\u001b[0m in \u001b[0;36mread\u001b[0;34m(self, file, filename, blob, resolution)\u001b[0m\n\u001b[1;32m   2820\u001b[0m             \u001b[0mr\u001b[0m \u001b[0;34m=\u001b[0m \u001b[0mlibrary\u001b[0m\u001b[0;34m.\u001b[0m\u001b[0mMagickReadImage\u001b[0m\u001b[0;34m(\u001b[0m\u001b[0mself\u001b[0m\u001b[0;34m.\u001b[0m\u001b[0mwand\u001b[0m\u001b[0;34m,\u001b[0m \u001b[0mfilename\u001b[0m\u001b[0;34m)\u001b[0m\u001b[0;34m\u001b[0m\u001b[0m\n\u001b[1;32m   2821\u001b[0m         \u001b[0;32mif\u001b[0m \u001b[0;32mnot\u001b[0m \u001b[0mr\u001b[0m\u001b[0;34m:\u001b[0m\u001b[0;34m\u001b[0m\u001b[0m\n\u001b[0;32m-> 2822\u001b[0;31m             \u001b[0mself\u001b[0m\u001b[0;34m.\u001b[0m\u001b[0mraise_exception\u001b[0m\u001b[0;34m(\u001b[0m\u001b[0;34m)\u001b[0m\u001b[0;34m\u001b[0m\u001b[0m\n\u001b[0m\u001b[1;32m   2823\u001b[0m \u001b[0;34m\u001b[0m\u001b[0m\n\u001b[1;32m   2824\u001b[0m     \u001b[0;32mdef\u001b[0m \u001b[0mclose\u001b[0m\u001b[0;34m(\u001b[0m\u001b[0mself\u001b[0m\u001b[0;34m)\u001b[0m\u001b[0;34m:\u001b[0m\u001b[0;34m\u001b[0m\u001b[0m\n",
            "\u001b[0;32m/usr/local/lib/python3.6/dist-packages/wand/resource.py\u001b[0m in \u001b[0;36mraise_exception\u001b[0;34m(self, stacklevel)\u001b[0m\n\u001b[1;32m    220\u001b[0m             \u001b[0mwarnings\u001b[0m\u001b[0;34m.\u001b[0m\u001b[0mwarn\u001b[0m\u001b[0;34m(\u001b[0m\u001b[0me\u001b[0m\u001b[0;34m,\u001b[0m \u001b[0mstacklevel\u001b[0m\u001b[0;34m=\u001b[0m\u001b[0mstacklevel\u001b[0m \u001b[0;34m+\u001b[0m \u001b[0;36m1\u001b[0m\u001b[0;34m)\u001b[0m\u001b[0;34m\u001b[0m\u001b[0m\n\u001b[1;32m    221\u001b[0m         \u001b[0;32melif\u001b[0m \u001b[0misinstance\u001b[0m\u001b[0;34m(\u001b[0m\u001b[0me\u001b[0m\u001b[0;34m,\u001b[0m \u001b[0mException\u001b[0m\u001b[0;34m)\u001b[0m\u001b[0;34m:\u001b[0m\u001b[0;34m\u001b[0m\u001b[0m\n\u001b[0;32m--> 222\u001b[0;31m             \u001b[0;32mraise\u001b[0m \u001b[0me\u001b[0m\u001b[0;34m\u001b[0m\u001b[0m\n\u001b[0m\u001b[1;32m    223\u001b[0m \u001b[0;34m\u001b[0m\u001b[0m\n\u001b[1;32m    224\u001b[0m     \u001b[0;32mdef\u001b[0m \u001b[0m__enter__\u001b[0m\u001b[0;34m(\u001b[0m\u001b[0mself\u001b[0m\u001b[0;34m)\u001b[0m\u001b[0;34m:\u001b[0m\u001b[0;34m\u001b[0m\u001b[0m\n",
            "\u001b[0;31mPolicyError\u001b[0m: not authorized `./figures_ch8/pid_complex_poles.pdf' @ error/constitute.c/ReadImage/412"
          ]
        }
      ]
    },
    {
      "metadata": {
        "id": "d75KD17UslE3",
        "colab_type": "text"
      },
      "cell_type": "markdown",
      "source": [
        "# Part 3: PID Control Design\n",
        "## Chapter 8: Design Strategies for Second-order Systems\n",
        "\n",
        "### Lecture Notes\n",
        "\n",
        "This notebook covers the material in Chapter 8 of the [text](http://controlbook.byu.edu/doku.php) in brief form, allowing you to make changes and manipulate the examples.  The goal is for this resource to help you bridge the gap between theory and the practical. \n",
        "\n",
        "## A: First Order Response"
      ]
    },
    {
      "metadata": {
        "id": "97AfkWZ5slE6",
        "colab_type": "text"
      },
      "cell_type": "markdown",
      "source": [
        "Consider a first order system given by\n",
        "$$Y(s) = \\frac{p}{s+p} U(s),$$\n",
        "where $p>0$.  The pole location of the first order system is then at $-p$.  \n",
        "\n",
        "If $U(s)=\\frac{A}{s}$ is a step of magnitude $A$, then the response of our first-order system to the step is \n",
        "$$Y(s) = \\frac{Ap}{s(s+p)}.$$\n",
        "\n",
        "We can simulate what the response of the system is to the step of magnitude $A$ by using the `step` command in the control library.   \n",
        "\n",
        "### Step Size Impacts\n",
        "The response is shown in the figure below, which shows the response to steps of size $A=1$, $A=2$, and $A=3$, respectively."
      ]
    },
    {
      "metadata": {
        "id": "kt3doGOoslE8",
        "colab_type": "code",
        "colab": {}
      },
      "cell_type": "code",
      "source": [
        "## Plot our basic TF with different magnitudes of A\n",
        "\n",
        "# Feel free to adjust the pole position p or the elements of A and see what changes:\n",
        "p = 1\n",
        "A = [1,2,3]\n",
        "\n",
        "\n",
        "# TODO: wrap it all up in a function in a separate file\n",
        "fig, ax = plt.subplots()\n",
        "for a in A:\n",
        "    num = a*p\n",
        "    den = [1.,p]\n",
        "    H0 = c.tf(num,den)\n",
        "    # Step responses\n",
        "    y0, t = step(H0)\n",
        "    # Initial slopes:\n",
        "    ts = t[1:10]\n",
        "    s0 = (a/p)*ts \n",
        "    # 90% rise times\n",
        "    t9 = t[1:35]\n",
        "    r0 = 0.9*a*np.ones(t9.size)\n",
        "    ax.plot(t,y0,label='A='+str(a))\n",
        "    ax.plot(ts,s0,'k--',label='Slope '+str(a))\n",
        "    ax.plot(t9,r0,'k-.',label='90%Rise '+str(a))\n",
        "plt.title('Performance Changes with Step Size')\n",
        "plt.xlabel('Time (s)')\n",
        "plt.ylabel('Response')\n",
        "plt.legend()"
      ],
      "execution_count": 0,
      "outputs": []
    },
    {
      "metadata": {
        "id": "fBhO6vRxslFH",
        "colab_type": "text"
      },
      "cell_type": "markdown",
      "source": [
        "If we define the rise time $t_r$ of the system to be the **time after the step when the response reaches 90\\%** of its final value, then note from the figure above that the *rise time is independent of the step size $A$.*  \n",
        "\n",
        "By differentiating the time response equation above,at time $t=0$, it is straightforward to show that the slope of the response at $t=0$ is equal to $Ap$.  This is also shown graphically in the figure above."
      ]
    },
    {
      "metadata": {
        "id": "VVl9wSP9slFJ",
        "colab_type": "text"
      },
      "cell_type": "markdown",
      "source": [
        "### Pole Location Impacts\n",
        "Next we discuss how changes in the pole location $p$ adjust the performance of the system.  As we vary p, see what takes place: "
      ]
    },
    {
      "metadata": {
        "id": "LD1NObjzslFK",
        "colab_type": "code",
        "colab": {}
      },
      "cell_type": "code",
      "source": [
        "# Feel free to adjust the elements of p2 or the magnitude of of A2 to see what happens\n",
        "p2 = [1,2,3]\n",
        "A2 = 1\n",
        "\n",
        "# TODO: wrap up into function and place in other file. \n",
        "# TODO: wrap it all up in a function in a separate file\n",
        "fig, ax = plt.subplots()\n",
        "for p in p2:\n",
        "    num = p*A2\n",
        "    den = [1.,p]\n",
        "    H0 = c.tf(num,den)\n",
        "    # Step responses\n",
        "    y0, t = step(H0)\n",
        "    ax.plot(t,y0,label='p='+str(p))\n",
        "plt.title('Performance Changes with Pole Location')\n",
        "plt.xlabel('Time (s)')\n",
        "plt.ylabel('Response')\n",
        "plt.legend()"
      ],
      "execution_count": 0,
      "outputs": []
    },
    {
      "metadata": {
        "id": "hOtV3EolslFT",
        "colab_type": "text"
      },
      "cell_type": "markdown",
      "source": [
        "Note that as the pole location moves further into the left half of the complex plane, the rise time decreases."
      ]
    },
    {
      "metadata": {
        "id": "WtIMo2tsslFV",
        "colab_type": "text"
      },
      "cell_type": "markdown",
      "source": [
        "## DC Gain\n",
        "An important concept for the steady state response of a system (any order, not just 1st order) is the **DC-gain**, which is defined as follows.\n",
        "\n",
        "**Definition:**\n",
        "The DC-gain of a transfer function $H(s)$ is \n",
        "$$\\left. H(s)\\right|_{\\text{DC-gain}} = \\lim_{s\\to 0} H(s).$$\n",
        "\n",
        "An important fact is that if the poles of $H(s)$ are in the open left half plane, then the response of $H(s)$ to a step of size $A$ approaches $A \\left.H(s)\\right|_{\\text{DC-gain}}$ as $t\\to\\infty$.  This is true for first order systems, as well general $H(s)$. \n",
        "\n",
        "The DC gain, for our first example above, is then \n",
        "$$\\left. H(s)\\right|_{\\text{DC-gain}} = \\lim_{s\\to 0}  \\frac{p}{s+p} =  1.$$"
      ]
    },
    {
      "metadata": {
        "id": "cM6nl2GYslFZ",
        "colab_type": "text"
      },
      "cell_type": "markdown",
      "source": [
        "## B: Second Order Response\n",
        "Suppose that the closed-loop system has a second order transfer function with two real poles and no zeros:\n",
        "$$Y(s) = \\frac{K}{(s+p_1)(s+p_2)}Y_r(s).$$\n",
        "\n",
        "To find the output of the system when the input is a step of magnitude $A$, we find the inverse Laplace transform of\n",
        "$$Y(s) = \\frac{K}{(s+p_1)(s+p_2)}\\frac{A}{s}.$$ (See text for more steps)\n",
        "\n",
        "Likewise here, we can simulate the response to a step of magnitude $A$ for a second order system with the `step` command in the control library.  \n",
        "\n",
        "Note that DC Gain for this system is: \n",
        "$$\\lim_{s\\to 0} \\frac{K}{(s+p_1)(s+p_2)} $$\n",
        "which results in: $\\frac{K}{p_1 p_2}$\n",
        "\n",
        "### Generic Second Order System\n",
        "Now suppose that the closed loop system has two complex poles and no zeros.  We will write a generic second order system with poles in the left half plane using the notation\n",
        "$$H(s) = \\frac{K\\omega_n^2}{s^2 + 2\\zeta\\omega_n s + \\omega_n^2},$$\n",
        "\n",
        "were $K$ is the DC-gain of the system (typically $K=1$), $\\omega_n>0$ is called the **natural frequency**, and $\\zeta>0$ is called the **damping ratio**. \n",
        "\n",
        "The poles are given by the roots of the characteristic polynomial\n",
        "$$\\Delta(s) = s^2 + 2\\zeta\\omega_n s + \\omega_n^2,$$\n",
        "in other words, the poles are\n",
        "\\begin{align*}\n",
        "p_{1,2} &= -\\zeta\\omega_n \\pm \\sqrt{(\\zeta\\omega_n)^2-\\omega_n^2} \\\\\n",
        "  &= -\\zeta\\omega_n \\pm \\omega_n\\sqrt{\\zeta^2-1}.\n",
        "\\end{align*}\n",
        "\n",
        "Below we investigate how the step response of the second order system varies with changes in $\\zeta$ and $\\omega_n$.  "
      ]
    },
    {
      "metadata": {
        "id": "7tWZszwxslFb",
        "colab_type": "code",
        "colab": {}
      },
      "cell_type": "code",
      "source": [
        "# Show how the step repsonse of the system changes with w_n and zeta\n",
        "\n",
        "# Feel free to change zeta and the elements of wn and investigate the changes in plot below\n",
        "zeta = 0.707\n",
        "wn  = [.5,1.,2.,5.]\n",
        "\n",
        "#Hold zeta constant, vary wn\n",
        "fig, ax = plt.subplots()\n",
        "for w in wn:\n",
        "    G = tf(w*w,[1,2*zeta*w,w*w])\n",
        "    g,t = step(G)\n",
        "    ax.plot(t,g,label='wn='+str(w))\n",
        "plt.legend()\n",
        "plt.xlabel('Time (s)')\n",
        "plt.ylabel('Response')\n",
        "plt.title('Performance Changes with $w_n$')"
      ],
      "execution_count": 0,
      "outputs": []
    },
    {
      "metadata": {
        "id": "Z2WCSfcUslFk",
        "colab_type": "code",
        "colab": {}
      },
      "cell_type": "code",
      "source": [
        "# Now hold wn constant, and vary zeta\n",
        "# Feel free to vary the parameters and see how things change: \n",
        "wn = 1\n",
        "zeta=[.2,.4,.707,1.,2.]\n",
        "\n",
        "fig, ax = plt.subplots()\n",
        "for z in zeta:\n",
        "    G = tf(wn*wn,[1,2*z*wn,wn*wn])\n",
        "    g,t = step(G)\n",
        "    ax.plot(t,g,label='zeta='+str(z))\n",
        "plt.legend()\n",
        "plt.xlabel('Time (s)')\n",
        "plt.ylabel('Response')\n",
        "plt.title('Performance Changes with $\\zeta$')"
      ],
      "execution_count": 0,
      "outputs": []
    },
    {
      "metadata": {
        "id": "60LXu-maslFu",
        "colab_type": "text"
      },
      "cell_type": "markdown",
      "source": [
        "Note from the figures above that as the natural frequency increases, the rise time decreases. We should note that a similar phenomena to the first order response also occurs, where the rise time is independent of the size of the step.  \n",
        "\n",
        "Note from the above figures that the damping ratio effects the amount of ringing in the system.  For a small damping ratio, e.g., $\\zeta=0.2$ there is a large overshoot and significant ringing in the system.  At the other extreme, when $\\zeta$ is larger than one, the poles are real and the response is highly damped.  The sweet spot is when $\\zeta=0.707$ where the rise time is small, but the overshoot is minimal. \n",
        "\n",
        "### Complex Plane\n",
        "In the complex plane, the pole locations are shown in the next figure, where $\\omega_n$ is the distance from origin to the poles.  When $\\zeta=\\frac{1}{\\sqrt{2}}$ the angle $\\theta$ equals $45$ degrees.  "
      ]
    },
    {
      "metadata": {
        "id": "SEj4hrg_slFw",
        "colab_type": "code",
        "colab": {}
      },
      "cell_type": "code",
      "source": [
        "img1"
      ],
      "execution_count": 0,
      "outputs": []
    },
    {
      "metadata": {
        "id": "bLhmlZdJslF4",
        "colab_type": "text"
      },
      "cell_type": "markdown",
      "source": [
        "In rectangular coordinates, the poles are given by\n",
        "\\begin{equation}\\label{eq:complex_rectangular}\n",
        "p_{1,2} = -\\sigma \\pm j\\omega_d,\n",
        "\\end{equation}\n",
        "as shown above. \n",
        "\n",
        "We also have\n",
        "\\begin{align*}\n",
        "\\sigma &= \\zeta \\omega_n \\\\\n",
        "\\omega_d &= \\omega_n\\sqrt{1-\\zeta^2}.\n",
        "\\end{align*}\n",
        "\n",
        "From the above figure, it is also clear that\n",
        "$$\\sin\\theta = \\frac{\\sigma}{\\omega_n} = \\zeta.$$\n",
        "Therefore\n",
        "$$\\theta = \\sin^{-1} \\zeta.$$\n",
        "\n",
        "### System Damping\n",
        "Since the pole locations are at $-\\zeta \\omega_n \\pm \\omega_n \\sqrt{\\zeta^2-1}$ there are three possible configurations:\n",
        "* The poles are both real if $\\zeta> 1$. The system is referred to as **over damped**. \n",
        "* When $\\zeta=1$ the poles are real and both located at $-\\omega_n$.  The system is referred to as **critically damped** \n",
        "* When $0<\\zeta<1$ the are imaginary and occur in complex conjugate pairs.  The system is referred to as **under damped**   \n",
        "\n",
        "This concept is demonstrated visually in the figure below. "
      ]
    },
    {
      "metadata": {
        "id": "IoAcRvG5slF5",
        "colab_type": "code",
        "colab": {}
      },
      "cell_type": "code",
      "source": [
        "img2"
      ],
      "execution_count": 0,
      "outputs": []
    },
    {
      "metadata": {
        "id": "db9hJWKdslGC",
        "colab_type": "text"
      },
      "cell_type": "markdown",
      "source": [
        "TODO: Remake this plot into an interactive plot. "
      ]
    },
    {
      "metadata": {
        "id": "A-OtvOUeslGF",
        "colab_type": "text"
      },
      "cell_type": "markdown",
      "source": [
        "### Rise Time for Second Order Systems\n",
        "\n",
        "The rise time is defined to be time that it takes the output to transition from 10\\% to 90\\% of its final value $A$. A suitable approximation is that the rise time is one half of the peak time, which is the time when $y(t)$ reaches its first peak.  \n",
        "\n",
        "To find the peak time $t_p$, differentiate $y(t)$ and then solve for the first instant of time when the derivative is zero.  The result is\n",
        "$$\n",
        "t_p = \\frac{\\pi}{\\omega_d} = \\frac{\\pi}{\\omega_n\\sqrt{1-\\zeta^2}}.\n",
        "$$\n",
        "Therefore, the rise time is approximately\n",
        "$$\n",
        "t_r \\approx \\frac{1}{2}t_p = \\frac{1}{2}\\frac{\\pi}{\\omega_n\\sqrt{1-\\zeta^2}}.\n",
        "$$\n",
        "When $\\zeta=0.707$ we get\n",
        "\\begin{equation}\\label{eq:rise_time}\n",
        "t_r \\approx \\frac{2.2}{\\omega_n}.\n",
        "\\end{equation}\n",
        "\n",
        "Specifications for second order systems are usually given either in terms of the rise time $t_r$ and the damping ratio $\\zeta$, or in terms of the natural frequency $\\omega_n$ and the damping ratio $\\zeta$."
      ]
    },
    {
      "metadata": {
        "id": "2EZrVH0zslGJ",
        "colab_type": "text"
      },
      "cell_type": "markdown",
      "source": [
        "## C: Impact of Zero on Step Response\n",
        "\n",
        "Review the deriation of the effects of a zero on a notional second order system in the text.  Here we demonstrate an interactive plot for seeing the effect of the zero.  Try placing the zero closer to the origin than the poles, at or near one of the poles, and to the left of the poles and see how the response changes.  For a denominator of type `[1.,5.,6.]` the poles are at `-2.0` and `-3.0`.  "
      ]
    },
    {
      "metadata": {
        "id": "j_g_b7ZWslGK",
        "colab_type": "code",
        "colab": {}
      },
      "cell_type": "code",
      "source": [
        "# Select the zero location and observe the impact on the overall system performance\n",
        "z = .5; # Want z to be in the left-half plane (make it negative or zero)\n",
        "\n",
        "# You can also play with the locations of the poles, the numerator will be computed to maintain a DC gain of 1 \n",
        "# (with exception of having a pole at the origin):\n",
        "den = [1.,5.,6.]\n",
        "\n",
        "\n",
        "\n",
        "A = den[2]\n",
        "num = A\n",
        "if z==0.:\n",
        "    numz = [A,0.]\n",
        "    #NOTE: `elif [cond]:` is python for `else if ( [cond] )` in other languages\n",
        "else:\n",
        "    numz = [A/z*1.,A]\n",
        "    \n",
        "H0 = c.tf(num,den)\n",
        "Hz = c.tf(numz,den)\n",
        "# Print our transfer functions:\n",
        "print('No Zero:',H0,'Including Zero:',Hz,sep='\\n')\n",
        "\n",
        "# Look at the step response:\n",
        "fig, ax = plt.subplots()\n",
        "h0,t = step(H0)\n",
        "hz,tz = step(Hz)\n",
        "ax.plot(t,h0,label='NoZero')\n",
        "ax.plot(tz,hz,label='Zero')\n",
        "plt.legend()\n",
        "plt.xlabel('Time (s)')\n",
        "plt.ylabel('Response')\n",
        "plt.title('Performance Changes with a Zero at -'+str(z))\n"
      ],
      "execution_count": 0,
      "outputs": []
    },
    {
      "metadata": {
        "id": "FPSwFgIMslGR",
        "colab_type": "text"
      },
      "cell_type": "markdown",
      "source": [
        "## D: Successive Loop Closure\n",
        "The natural frequency $\\omega_n$ and the damping ratio $\\zeta$ are only defined for second order systems, and therefore, the PD design technique based on $\\omega_n$ and $\\zeta$ are only valid for second order systems.  However, these concepts can be extended to higher order systems through a technique called successive loop closure\\index{successive loop closure}, or inner-loop, outer-loop design.\n",
        "\n",
        "So for a system that we can configure to be like the following (may have to make simplifying assumptions to make this possible), "
      ]
    },
    {
      "metadata": {
        "id": "vaUFY995slGc",
        "colab_type": "code",
        "colab": {}
      },
      "cell_type": "code",
      "source": [
        "img3"
      ],
      "execution_count": 0,
      "outputs": []
    },
    {
      "metadata": {
        "id": "5WSAkZJoslGk",
        "colab_type": "text"
      },
      "cell_type": "markdown",
      "source": [
        "we can design a successive system of controllers using 2nd order principles, like so: "
      ]
    },
    {
      "metadata": {
        "id": "FK7Mwj7mslGl",
        "colab_type": "code",
        "colab": {}
      },
      "cell_type": "code",
      "source": [
        "img4"
      ],
      "execution_count": 0,
      "outputs": []
    },
    {
      "metadata": {
        "id": "kPFBbUygslG0",
        "colab_type": "text"
      },
      "cell_type": "markdown",
      "source": [
        "The open-loop dynamics are given by\n",
        "the product of two transfer functions in series:  $P(s)=P_1(s)P_2(s)$.\n",
        "We assume that each of the transfer functions has an output ($y_1$, $y_2$) that can\n",
        "be measured and used for feedback.  Typically, each of the transfer functions,\n",
        "$P_1(s)$, and $P_2(s)$, is of relatively low order - usually first or\n",
        "second order.  In this case, we are interested in controlling\n",
        "the output $y_2$.\n",
        "\n",
        "A necessary condition in the design process is that the inner loop must be much faster than each successive loop.  As a rule of thumb, if the rise time of the inner loop is $t_{r_1}$, the rise time of the next loop should be 5 to 10 times longer, i.e., $t_{r_2}> W_1 t_{r_1}$, where $W_1$ is a design parameter, usually on the order of $5-10$.\n",
        "\n",
        "Examining the inner loop shown above, the goal is to\n",
        "design a closed-loop system from $r_1$ to $y_1$ having a rise time of $t_{r_1}$.  If the rise time of the inner loop is significantly faster than the rise time of the outer loop, and if the DC-gain of the inner loop is $k_{DC_1}$, then relative to the outer loop the inner loop can be effectively modeled as the DC-gain.  This is depicted schematically below.\n",
        "\n",
        "With the inner-loop transfer function modeled as its DC-gain, design of the outer loop\n",
        "is simplified because it only includes the plant transfer function $P_2(s)$ and the\n",
        "compensator $C_2(s)$ and the DC-gain $k_{DC_1}$. "
      ]
    },
    {
      "metadata": {
        "id": "gGWU1OC5slG2",
        "colab_type": "code",
        "colab": {}
      },
      "cell_type": "code",
      "source": [
        "img5"
      ],
      "execution_count": 0,
      "outputs": []
    },
    {
      "metadata": {
        "id": "Yqrrg1SqslHF",
        "colab_type": "code",
        "colab": {}
      },
      "cell_type": "code",
      "source": [
        "#TODO Add an interactive example with successive loop closure"
      ],
      "execution_count": 0,
      "outputs": []
    },
    {
      "metadata": {
        "id": "G-qcn7qgslHL",
        "colab_type": "text"
      },
      "cell_type": "markdown",
      "source": [
        "## E. Input Saturation and Limits of Performance\n",
        "TODO: Make this an interactive section!!!\n",
        "\n",
        "All physical systems have saturation limit on their actuators.  For example, in the robot arm problem, the torque that can be applied to the arm is limited by the motor that is used to apply that torque.  Force and torque will always be limited by physical constraints like current limits.  Similarly, for an airplane, the rudder command is limited by how far the rudder can physically move, which is typically on the order of $\\pm 40$~degrees.  A natural way to model input constraints is to add a saturation block preceding the physical plant. \n",
        "\n",
        "If the system is to be kept just out of saturation, then immediately after the step we have $|u|=u_\\text{max} = k_p e_\\text{max}$.  Rearranging this expression, we find that the proportional control gain can be determined from the maximum anticipated output error and the saturation limits of the actuator as\n",
        "\\begin{equation}\n",
        "\tk_p = \\pm \\frac{u_\\text{max}}{e_\\text{max}},\n",
        "\t\\label{eq:loop-sat-kp}\n",
        "\\end{equation}\n",
        "where $u_{\\max}$ is the maximum control effort the system can provide, and $e_{\\max}$ is the step error that results from a step input of nominal size, and the sign of $k_p$ is determined by the physics of the system.\n",
        "\n",
        "Suppose that the desired closed loop characteristic polynomial is given by\n",
        "$$ \\Delta_{cl}^d(s) = s^2 + 2\\zeta\\omega_n s + \\omega_n^2,$$\n",
        "then by comparing with the actual closed loop characteristic polynomial\n",
        "$$ \\Delta_{cl}(s) = s^2 + (a_1 + b_0 k_d)s + (a_0 + b_0 k_p) $$\n",
        "we have that \n",
        "\\begin{align*}\n",
        "\t\\omega_n &= \\sqrt{a_0 + b_0 k_p} \\\\\n",
        "\t &\\leq \\sqrt{a_0 + b_0 \\frac{u_\\text{max}}{e_\\text{max}}},\n",
        "\\end{align*}\n",
        "\n",
        "which is an upper limit on the natural frequency of the closed-loop system, ensuring that saturation of the actuator is avoided.  The corresponding rise time constraint is\n",
        "$$ t_r \\geq \\frac{2.2}{\\omega_n} = \\frac{2.2}{\\sqrt{a_0 + b_0 \\frac{u_\\text{max}}{e_\\text{max}}}},$$\n",
        "which is the smallest possible rise time for an error step of $e_{\\text{max}}$.  \n"
      ]
    },
    {
      "metadata": {
        "id": "XjMC_n06slHN",
        "colab_type": "text"
      },
      "cell_type": "markdown",
      "source": [
        "# Example: Design Study A: Single-link Robot Arm\n",
        "For the single link robot arm, do the following:\n",
        "\n",
        "> (a) Suppose that the design requirements are that the rise time is\n",
        "$t_r \\approx 0.8$ seconds, with a damping ratio of $\\zeta=0.707$.  Find the desired closed loop characteristic polynomial $\\Delta_{cl}^d(s)$, and the associated pole locations. Find the proportional and derivative gains $k_P$ and $k_D$ to achieve these specifications, and modify the Simulink simulation from HW A.8 to verify that the step response satisfies the requirements.\n",
        "\n",
        "> (b) Suppose that the input torque for the robot arm is limited to $|\\tau| \\leq\\tau_{\\max}=1$ Nm.  Modify the Simulink diagram to include a saturation block on the torque $\\tau$.  Using the rise time $t_r$ and damping ratio $\\zeta$ as tuning parameters, tune the PD control law  so that the input just saturates when a step of size $50$~degrees is placed on $\\tilde{\\theta}^r$.\n"
      ]
    },
    {
      "metadata": {
        "id": "5NV9Qtv-slHO",
        "colab_type": "code",
        "colab": {}
      },
      "cell_type": "code",
      "source": [
        "# Design Problem A : Arm\n",
        "sys.path.append('./arm/')\n",
        "sys.path.append('./arm/hw8/')  # add homework directory\n",
        "import armParam as P\n",
        "from armDynamics import armDynamics\n",
        "from armController import armController\n",
        "from signalGenerator import signalGenerator\n",
        "from armAnimation import armAnimation\n",
        "from armPlotData import armPlotData\n",
        "# TODO: rename the plotData classes, one for each of the Design Studies, as they really are different. "
      ],
      "execution_count": 0,
      "outputs": []
    },
    {
      "metadata": {
        "id": "MPZLjVRuslHX",
        "colab_type": "text"
      },
      "cell_type": "markdown",
      "source": [
        "## A - (a): Find PD gains, Simulate"
      ]
    },
    {
      "metadata": {
        "id": "bOxnAUB-slHZ",
        "colab_type": "code",
        "colab": {}
      },
      "cell_type": "code",
      "source": [
        "tr=0.8\n",
        "zeta=0.707\n",
        "\n",
        "#From eq 8.5 in text\n",
        "wn=2.2/tr\n",
        "print('Desired natural freq: ',str(wn))\n",
        "\n",
        "# Desired closed loop polynomial is then: \n",
        "den=[1.,2.*zeta*wn,wn*wn]\n",
        "print('Desired Closed Loop Polynomial:',den)\n",
        "\n",
        "# The closed loop polynomial gives us our \\alpha values, from Ch 7:\n",
        "alpha0 = den[2]\n",
        "alpha1 = den[1]\n",
        "\n",
        "# Use the information from the open loop characteristic polynomial, from Ch 7.  \n",
        "b0 = 66.667\n",
        "a0 = 0.\n",
        "a1 = 3.333\n",
        "\n",
        "kP = (alpha0 - a0)/b0\n",
        "kD = (alpha1 - a1)/b0\n",
        "\n",
        "print('Defined kP is then:',kP,'Defined kD is then:',kD,sep='\\n')\n",
        "\n",
        "# Now animate with the selected gains: \n",
        "%matplotlib tk  \n",
        "#Allows the images to come up as pop-up, so that the animations will occur properly\n",
        "import armParam as P\n",
        "from armDynamics import armDynamics\n",
        "from armController import armController\n",
        "from signalGenerator import signalGenerator\n",
        "from armAnimation import armAnimation\n",
        "from armPlotData import armPlotData\n",
        "\n",
        "# instantiate arm, controller, and reference classes\n",
        "arm = armDynamics()\n",
        "ctrl = armController(kP,kD)\n",
        "reference = signalGenerator(amplitude=30*np.pi/180.0, frequency=0.05)"
      ],
      "execution_count": 0,
      "outputs": []
    },
    {
      "metadata": {
        "id": "pgcMGEwvslHc",
        "colab_type": "code",
        "colab": {}
      },
      "cell_type": "code",
      "source": [
        "tr=0.8\n",
        "zeta=0.707\n",
        "\n",
        "#From eq 8.5 in text\n",
        "wn=2.2/tr\n",
        "print('Desired natural freq: ',str(wn))\n",
        "\n",
        "# Desired closed loop polynomial is then: \n",
        "den=[1.,2.*zeta*wn,wn*wn]\n",
        "print('Desired Closed Loop Polynomial:',den)\n",
        "\n",
        "# The closed loop polynomial gives us our \\alpha values, from Ch 7:\n",
        "alpha0 = den[2]\n",
        "alpha1 = den[1]\n",
        "\n",
        "# Use the information from the open loop characteristic polynomial, from Ch 7.  \n",
        "b0 = 66.667\n",
        "a0 = 0.\n",
        "a1 = 3.333\n",
        "\n",
        "kP = (alpha0 - a0)/b0\n",
        "kD = (alpha1 - a1)/b0\n",
        "\n",
        "print('Defined kP is then:',kP,'Defined kD is then:',kD,sep='\\n')"
      ],
      "execution_count": 0,
      "outputs": []
    },
    {
      "metadata": {
        "id": "ozrFIGxuslHg",
        "colab_type": "code",
        "colab": {}
      },
      "cell_type": "code",
      "source": [
        "# Now animate with the selected gains: \n",
        "# instantiate arm, controller, and reference classes\n",
        "arm = armDynamics()\n",
        "ctrl = armController(kP,kD)\n",
        "reference = signalGenerator(amplitude=30*np.pi/180.0, frequency=0.05)\n",
        "\n",
        "# instantiate the simulation plots and animation\n",
        "dataPlot = armPlotData()\n",
        "animation = armAnimation()\n",
        "\n",
        "t = P.t_start  # time starts at t_start\n",
        "while t < P.t_end:  # main simulation loop\n",
        "    # Get referenced inputs from signal generators\n",
        "    ref_input = reference.square(t)\n",
        "    # Propagate dynamics in between plot samples\n",
        "    t_next_plot = t + P.t_plot\n",
        "    while t < t_next_plot: # updates control and dynamics at faster simulation rate\n",
        "        u = ctrl.u(ref_input, arm.outputs())  # Calculate the control value\n",
        "        arm.propagateDynamics(u)  # Propagate the dynamics\n",
        "        t = t + P.Ts  # advance time by Ts\n",
        "    # update animation and data plots\n",
        "    animation.drawArm(arm.states())\n",
        "    dataPlot.updatePlots(t, ref_input, arm.states(), u)\n",
        "    plt.pause(0.0001)  # the pause causes the figure to be displayed during the simulation\n",
        "    "
      ],
      "execution_count": 0,
      "outputs": []
    },
    {
      "metadata": {
        "id": "uZbrBsXgslHn",
        "colab_type": "text"
      },
      "cell_type": "markdown",
      "source": [
        "## A - (b) Saturation and Quick Response"
      ]
    },
    {
      "metadata": {
        "id": "UE1mEWZcslHo",
        "colab_type": "code",
        "colab": {}
      },
      "cell_type": "code",
      "source": [
        "tmax = 1.\n",
        "emax = 50.*np.pi/180.\n",
        "tr = 2.2/(np.sqrt(a0+b0*tmax/emax))\n",
        "print('Rise Time: ',tr)\n",
        "wnd = 2.2/tr\n",
        "print('Desired wn: ',wnd)\n",
        "zeta = 0.707\n",
        "den=[1.,2.*zeta*wnd,wnd*wnd]\n",
        "alpha0 = den[2]\n",
        "alpha1 = den[1]\n",
        "kP = (alpha0 - a0)/b0\n",
        "kD = (alpha1 - a1)/b0\n",
        "\n",
        "print('Defined kP is then:',kP,'Defined kD is then:',kD,sep='\\n')"
      ],
      "execution_count": 0,
      "outputs": []
    },
    {
      "metadata": {
        "id": "oq759oeFslHu",
        "colab_type": "code",
        "colab": {}
      },
      "cell_type": "code",
      "source": [
        "#Animate with our new kp & kd: \n",
        "# instantiate arm, controller, and reference classes\n",
        "arm = armDynamics()\n",
        "ctrl = armController(kP,kD)\n",
        "#ctrl = armController()\n",
        "reference = signalGenerator(amplitude=30*np.pi/180.0, frequency=0.05)\n",
        "\n",
        "# instantiate the simulation plots and animation\n",
        "dataPlot = armPlotData()\n",
        "animation = armAnimation()\n",
        "\n",
        "t = P.t_start  # time starts at t_start\n",
        "while t < P.t_end:  # main simulation loop\n",
        "    # Get referenced inputs from signal generators\n",
        "    ref_input = reference.square(t)\n",
        "    # Propagate dynamics in between plot samples\n",
        "    t_next_plot = t + P.t_plot\n",
        "    while t < t_next_plot: # updates control and dynamics at faster simulation rate\n",
        "        u = ctrl.u(ref_input, arm.outputs())  # Calculate the control value\n",
        "        arm.propagateDynamics(u)  # Propagate the dynamics\n",
        "        t = t + P.Ts  # advance time by Ts\n",
        "    # update animation and data plots\n",
        "    animation.drawArm(arm.states())\n",
        "    dataPlot.updatePlots(t, ref_input, arm.states(), u)\n",
        "    plt.pause(0.0001)  # the pause causes the figure to be displayed during the simulation"
      ],
      "execution_count": 0,
      "outputs": []
    },
    {
      "metadata": {
        "id": "uxVkLc3DslHx",
        "colab_type": "text"
      },
      "cell_type": "markdown",
      "source": [
        "# Design Study B: Inverted Pendulum Example"
      ]
    },
    {
      "metadata": {
        "id": "TxRU6-uBslHy",
        "colab_type": "text"
      },
      "cell_type": "markdown",
      "source": [
        "> (a) Using the principle of successive loop closure, draw a block diagram that uses PD control for both inner loop control and outer loop control. The input to the outer loop controller is the desired cart position $z^d$ and the output of the controller is the desired pendulum angle $\\theta^d$.  The input to the inner loop controller is the desired pendulum angle $\\theta^d$ and the output is the force $F$ on the cart.\n",
        "\n",
        "> (b) Focusing on the inner loop, find the PD gains $k_{P_\\theta}$ and $k_{D_\\theta}$ so that the rise time of the inner loop is $t_{r_\\theta}=0.5$ seconds, and the damping ratio is $\\zeta_{\\theta}=0.707$.\n",
        "\n",
        "> (c) Find the DC gain $k_{DC_\\theta}$ of the inner loop.\n",
        "\n",
        "> (d) Replacing the inner loop by its DC-gain and considering the outer loop, show that it is not possible to use the coefficient-matching approach to determine PD control gains. Further, convince yourself that using the DC-gain approximation for the inner loop, it is not possible to stabilize the position of the cart with PD control alone. We will investigate other methods to solve this problem in future assignments.\n",
        "\n",
        ">(e) Implement the inner-loop control design to control the pendulum angle in Simulink where the commanded pendulum angle is zero. Modify the Simulink diagram to include a saturation block on the force $F$ to limit the size of the input force on the cart to $F_{\\max}=5$ N. Give the pendulum angle an initial condition of 10~deg and simulate the response of the system for 10~seconds to verify that the cart is able to balance the pendulum. "
      ]
    },
    {
      "metadata": {
        "id": "pyEo1itSslH1",
        "colab_type": "code",
        "colab": {}
      },
      "cell_type": "code",
      "source": [
        "# Design Problem B : Pendulum\n",
        "sys.path.remove('./arm/')\n",
        "sys.path.remove('./arm/hw8/')"
      ],
      "execution_count": 0,
      "outputs": []
    },
    {
      "metadata": {
        "id": "09DE0s7jslH5",
        "colab_type": "code",
        "colab": {}
      },
      "cell_type": "code",
      "source": [
        "sys.path.append('./pendulum/')\n",
        "sys.path.append('./pendulum/hw8/')  # add homework directory\n",
        "import pendulumParam as P\n",
        "from pendulumDynamics import pendulumDynamics\n",
        "from pendulumController import pendulumController\n",
        "from signalGenerator import signalGenerator\n",
        "from pendulumAnimation import pendulumAnimation\n",
        "from pendulumPlotData import pendulumPlotData\n",
        "# TODO: rename all the plot data classes, as they are different for each design problem. "
      ],
      "execution_count": 0,
      "outputs": []
    },
    {
      "metadata": {
        "id": "wxPoUfNlslIG",
        "colab_type": "text"
      },
      "cell_type": "markdown",
      "source": [
        "## B Part (a): Draw block diagrams for two successive loops"
      ]
    },
    {
      "metadata": {
        "id": "IW9YO1nJslII",
        "colab_type": "text"
      },
      "cell_type": "markdown",
      "source": [
        "From the solution in Chapter 5, we have the open-loop expressions: \n",
        "$$ \\frac{\\tilde{\\Theta}(s)}{\\tilde{F}(s)} = \\frac{\\frac{-2}{m_2 \\ell}}{ s^2 -\\frac{(m_1+m_2)g}{m_2 \\ell}} $$\n",
        "$$ \\frac{\\tilde{Z}(s)}{\\tilde{\\Theta}(s)} = -\\frac{\\frac{\\ell}{2} s^2 - g}{s^2} .$$\n",
        "\n",
        "Now we need to close a PD feedback loop around each of these open loop plants.  Below is a block diagram for the inner feedback loop."
      ]
    },
    {
      "metadata": {
        "id": "v-Z8xoldslIJ",
        "colab_type": "code",
        "colab": {}
      },
      "cell_type": "code",
      "source": [
        "img6"
      ],
      "execution_count": 0,
      "outputs": []
    },
    {
      "metadata": {
        "id": "XTf4q6RKslIM",
        "colab_type": "code",
        "colab": {}
      },
      "cell_type": "code",
      "source": [
        ""
      ],
      "execution_count": 0,
      "outputs": []
    },
    {
      "metadata": {
        "id": "cTddlcv6slIP",
        "colab_type": "text"
      },
      "cell_type": "markdown",
      "source": [
        "Below is a block diagram for the outer feedback loop"
      ]
    },
    {
      "metadata": {
        "id": "ma4qjtddslIQ",
        "colab_type": "code",
        "colab": {}
      },
      "cell_type": "code",
      "source": [
        "img7"
      ],
      "execution_count": 0,
      "outputs": []
    },
    {
      "metadata": {
        "id": "Dce7dmMNslIT",
        "colab_type": "text"
      },
      "cell_type": "markdown",
      "source": [
        "## B Part (b): Find kP and kD for Inner Loop"
      ]
    },
    {
      "metadata": {
        "scrolled": true,
        "id": "UR4byvVSslIT",
        "colab_type": "code",
        "colab": {}
      },
      "cell_type": "code",
      "source": [
        "tr=0.5\n",
        "zeta=0.707\n",
        "\n",
        "#From eq 8.5 in text\n",
        "wn=2.2/tr\n",
        "print('Desired natural freq: ',str(wn))\n",
        "\n",
        "# Desired closed loop polynomial is then: \n",
        "den=[1.,2.*zeta*wn,wn*wn]\n",
        "print('Desired Closed Loop Polynomial:',den)\n",
        "\n",
        "# The closed loop polynomial gives us our \\alpha values, from Ch 7:\n",
        "alpha0 = den[2]\n",
        "alpha1 = den[1]\n",
        "\n",
        "# Use the information from the open loop characteristic polynomial \n",
        "b0 = -2./(P.m2*P.ell)\n",
        "a0 = -2*(P.m1 + P.m2)*P.g/(P.m2*P.ell)\n",
        "a1 = 0.\n",
        "\n",
        "kP = (alpha0 - a0)/b0\n",
        "kD = (alpha1 - a1)/b0\n",
        "\n",
        "print('Defined kP is then:',kP,'Defined kD is then:',kD,sep='\\n')"
      ],
      "execution_count": 0,
      "outputs": []
    },
    {
      "metadata": {
        "id": "oTjewBuCslId",
        "colab_type": "text"
      },
      "cell_type": "markdown",
      "source": [
        "## B Part (c): Find the DC Gain of the Inner Feedback Loop"
      ]
    },
    {
      "metadata": {
        "id": "xse831i-slIg",
        "colab_type": "text"
      },
      "cell_type": "markdown",
      "source": [
        "Looking at the expression in equation 7.3, and then applying the DC Gain equation, we have\n",
        "$$\\frac{b_0 k_P}{(a_0 + b_0 k_P)} $$"
      ]
    },
    {
      "metadata": {
        "id": "_thc6BIlslIh",
        "colab_type": "code",
        "colab": {}
      },
      "cell_type": "code",
      "source": [
        "DC = b0*kP/(a0 + b0*kP)\n",
        "print('DC Gain: ',DC)"
      ],
      "execution_count": 0,
      "outputs": []
    },
    {
      "metadata": {
        "id": "eWL_yEf4slIk",
        "colab_type": "text"
      },
      "cell_type": "markdown",
      "source": [
        "## B Part (d): Consider the Outer Loop"
      ]
    },
    {
      "metadata": {
        "id": "All9ye8TslIn",
        "colab_type": "text"
      },
      "cell_type": "markdown",
      "source": [
        "Consider the following figure again: "
      ]
    },
    {
      "metadata": {
        "id": "1D3uePaislIn",
        "colab_type": "code",
        "colab": {}
      },
      "cell_type": "code",
      "source": [
        "img7"
      ],
      "execution_count": 0,
      "outputs": []
    },
    {
      "metadata": {
        "id": "Q_SGSrLYslIs",
        "colab_type": "text"
      },
      "cell_type": "markdown",
      "source": [
        "For the comparison approach to set the kP and kD gains, we assume that the 2nd order system doesn't have any zeros, which this plant has two. Those zeros can cause large discrepancies to the desired plant rise time and overshoot, like you can examine above.  \n",
        "\n",
        "The book pushes forward and uses the proposed method anyway (and ignors the zeros) to derive some PD gains, to be able to implment for the visualization.  \n",
        "\n"
      ]
    },
    {
      "metadata": {
        "id": "cLa8OmEIslIt",
        "colab_type": "text"
      },
      "cell_type": "markdown",
      "source": [
        "## B Part (e): Visualize the system with some initial conditions. "
      ]
    },
    {
      "metadata": {
        "id": "s-QG3d5jslIu",
        "colab_type": "code",
        "colab": {}
      },
      "cell_type": "code",
      "source": [
        "# Visualize the system: \n",
        "\n",
        "%matplotlib tk   #Allows the images to come up as pop-up, so that the animations will occur properly\n",
        "\n",
        "# Overwrite the intial conditions: \n",
        "P.theta0 = 10.0*np.pi/180\n",
        "P.t_end = 10.\n",
        "\n",
        "pendulum = pendulumDynamics()\n",
        "ctrl = pendulumController(kP,kD) # put in the gains we computed above for the inner loop. \n",
        "#reference = signalGenerator(amplitude=0.5, frequency=0.02)\n",
        "\n",
        "# instantiate the simulation plots and animation\n",
        "dataPlot = pendulumPlotData()\n",
        "animation = pendulumAnimation()\n",
        "\n",
        "t = P.t_start  # time starts at t_start\n",
        "while t < P.t_end:  # main simulation loop\n",
        "    # Get referenced inputs from signal generators\n",
        "    #ref_input = reference.square(t)\n",
        "    # Propagate dynamics in between plot samples\n",
        "    t_next_plot = t + P.t_plot\n",
        "    while t < t_next_plot: # updates control and dynamics at faster simulation rate\n",
        "        #u = ctrl.u(ref_input, pendulum.outputs())  # Calculate the control value\n",
        "        u = ctrl.u([0.,0.], pendulum.outputs())  # Calculate the control value\n",
        "        pendulum.propagateDynamics(u)  # Propagate the dynamics\n",
        "        t = t + P.Ts  # advance time by Ts\n",
        "    # update animation and data plots\n",
        "    animation.drawPendulum(pendulum.states())\n",
        "    #dataPlot.updatePlots(t, ref_input, pendulum.states(), u)\n",
        "    dataPlot.updatePlots(t, [0.0,0.0], pendulum.states(), u)\n",
        "    plt.pause(0.0001)  # the pause causes the figure to be displayed during the simulation"
      ],
      "execution_count": 0,
      "outputs": []
    },
    {
      "metadata": {
        "id": "S4Ftg3WQslIx",
        "colab_type": "text"
      },
      "cell_type": "markdown",
      "source": [
        "# Design Study C: Satellite Example"
      ]
    },
    {
      "metadata": {
        "id": "7n3HaWCqslIx",
        "colab_type": "text"
      },
      "cell_type": "markdown",
      "source": [
        ">(a) **For this problem and future problems**, change the satellite spring constant to $k = 0.1$ N m. For the simple satellite system, using the principle of successive loop closure, draw a block diagram that uses PD control for the inner and the outer loop control. The input to the outer loop controller is the desired angle of the solar panel $\\phi_r$ and the output is the desired angle of the satellite $\\theta_r$.  The input to the inner loop controller is $\\theta_r$ and the output is the torque on the satellite $\\tau$.\n",
        "\n",
        ">(b) Focusing on the inner loop, find the PD gains $k_{P_\\theta}$ and $k_{D_\\theta}$ so that the rise time of the inner loop is $t_{r_\\theta}=1$ second, and the damping ratio is $\\zeta_{\\theta}=0.9$.\n",
        "\n",
        ">(c) Find the DC gain $k_{DC_\\theta}$ of the inner loop.\n",
        "\n",
        ">(d) Replacing the inner loop by its DC-gain, find the PD gains $k_{P_\\phi}$ and $k_{D_\\phi}$ so that the rise time of the outer loop is $t_{r_\\phi}= 10 t_{r_\\theta}$ with damping ratio $\\zeta_{\\phi}=0.9$.\n",
        "\n",
        ">(f) Implement the successive loop closure design for the satellite system in Simulink where the commanded solar panel angle is given by a square wave with magnitude $15$ degrees and frequency $0.015$ Hz.\n",
        "\n",
        ">(g) Suppose that the size of the input torque on the satellite is limited to $\\tau_{\\max}=5$ Nm.  Modify the Simulink diagram to include a saturation block on the torque $\\tau$.  Using the rise time of the outer loop as a tuning parameter, tune the PD control law to get the fastest possible response without input saturation when a step of size $30$ degrees is placed on $\\phi^r$.  "
      ]
    },
    {
      "metadata": {
        "id": "MRsXI8lkslIy",
        "colab_type": "code",
        "colab": {}
      },
      "cell_type": "code",
      "source": [
        "# Design Problem B : Pendulum\n",
        "sys.path.remove('./pendulum/')\n",
        "sys.path.remove('./pendulum/hw8/')"
      ],
      "execution_count": 0,
      "outputs": []
    },
    {
      "metadata": {
        "id": "wQOWuZEaslI1",
        "colab_type": "code",
        "colab": {}
      },
      "cell_type": "code",
      "source": [
        "sys.path.append('./satellite/')\n",
        "sys.path.append('./satellite/hw8/')  # add homework directory\n",
        "import satelliteParam as P\n",
        "from satelliteDynamics import satelliteDynamics\n",
        "from satelliteController import satelliteController\n",
        "from signalGenerator import signalGenerator\n",
        "from satelliteAnimation import satelliteAnimation\n",
        "from satellitePlotData import satellitePlotData\n",
        "# TODO: rename all the plot data classes, as they are different for each design problem. \n",
        "\n",
        "P.k = 0.1"
      ],
      "execution_count": 0,
      "outputs": []
    },
    {
      "metadata": {
        "id": "Vbks5noUslI5",
        "colab_type": "text"
      },
      "cell_type": "markdown",
      "source": [
        "## C Part (a) Block Diagrams"
      ]
    },
    {
      "metadata": {
        "id": "xZ48C59lslI7",
        "colab_type": "text"
      },
      "cell_type": "markdown",
      "source": [
        "Block diagram for the inner loop for the satellite "
      ]
    },
    {
      "metadata": {
        "id": "Zy-VS-WkslI7",
        "colab_type": "code",
        "colab": {}
      },
      "cell_type": "code",
      "source": [
        "img8"
      ],
      "execution_count": 0,
      "outputs": []
    },
    {
      "metadata": {
        "id": "JrqGRLH0slI_",
        "colab_type": "text"
      },
      "cell_type": "markdown",
      "source": [
        "Block diagram for the outer loop of the satellite"
      ]
    },
    {
      "metadata": {
        "id": "CVcDoUF_slI_",
        "colab_type": "code",
        "colab": {}
      },
      "cell_type": "code",
      "source": [
        "img9"
      ],
      "execution_count": 0,
      "outputs": []
    },
    {
      "metadata": {
        "id": "649sTWoxslJC",
        "colab_type": "text"
      },
      "cell_type": "markdown",
      "source": [
        "## C Part (b): Find PD gains"
      ]
    },
    {
      "metadata": {
        "id": "cf5xH8wNslJC",
        "colab_type": "code",
        "colab": {}
      },
      "cell_type": "code",
      "source": [
        "tr = 1\n",
        "zeta = 0.9\n",
        "\n",
        "#From eq 8.5 in text\n",
        "wn=2.2/tr\n",
        "print('Desired natural freq: ',str(wn))\n",
        "\n",
        "# Desired closed loop polynomial is then: \n",
        "den=[1.,2.*zeta*wn,wn*wn]\n",
        "print('Desired Closed Loop Polynomial:',den)\n",
        "\n",
        "# The closed loop polynomial gives us our \\alpha values, from Ch 7:\n",
        "alpha0 = den[2]\n",
        "alpha1 = den[1]\n",
        "\n",
        "# Use the information from the open loop characteristic polynomial \n",
        "b0 = 1./(P.Jp + P.Js)\n",
        "a0 = 0. \n",
        "a1 = 0.\n",
        "\n",
        "kP_th = (alpha0 - a0)/b0\n",
        "kD_th = (alpha1 - a1)/b0\n",
        "\n",
        "print('Defined kP for theta is then:',kP_th,'Defined kD for theta is then:',kD_th,sep='\\n')\n"
      ],
      "execution_count": 0,
      "outputs": []
    },
    {
      "metadata": {
        "id": "oxi8Y6VsslJF",
        "colab_type": "text"
      },
      "cell_type": "markdown",
      "source": [
        "## C Part (c): Find DC Gain of the inner loop"
      ]
    },
    {
      "metadata": {
        "id": "4LoZHPQAslJG",
        "colab_type": "text"
      },
      "cell_type": "markdown",
      "source": [
        " The desired characteristic equation for the closed loop is: \n",
        " $$ \\Theta(s) = \\frac{\\frac{k_{P_\\theta}}{J_s + J_p}}{s^2 +\\left(\\frac{k_{D_\\theta}}{J_s + J_p}\\right)s+\\left(\\frac{k_{P_\\theta}}{J_s + J_p}\\right)} \\Theta^d(s).$$\n",
        " \n",
        " Therefore, the DC gain is `1`"
      ]
    },
    {
      "metadata": {
        "id": "OGa58dCZslJM",
        "colab_type": "text"
      },
      "cell_type": "markdown",
      "source": [
        "## C Part (d): Find PD gains of the outer loop"
      ]
    },
    {
      "metadata": {
        "id": "AQZHWwNEslJO",
        "colab_type": "code",
        "colab": {}
      },
      "cell_type": "code",
      "source": [
        "tr = 10\n",
        "zeta = 0.9\n",
        "k_DC_th = 1.\n",
        "\n",
        "#From eq 8.5 in text\n",
        "wn=2.2/tr\n",
        "print('Desired natural freq: ',str(wn))\n",
        "\n",
        "# Desired closed loop polynomial is then: \n",
        "den=[1.,2.*zeta*wn,wn*wn]\n",
        "print('Desired Closed Loop Polynomial:',den)\n",
        "\n",
        "# The closed loop polynomial gives us our \\alpha values, from Ch 7:\n",
        "alpha0 = den[2]\n",
        "alpha1 = den[1]\n",
        "\n",
        "# Need to use the closed-loop TF characteristic equation to compare to the one above, since we have the zero involved. \n",
        "AA = np.matrix([\n",
        "    [P.k*k_DC_th, -P.Jp*P.b*k_DC_th],\n",
        "    [P.b*k_DC_th, P.k*k_DC_th-2*zeta*wn*P.b*k_DC_th]])\n",
        "bb = np.matrix([\n",
        "    [-P.k+P.Jp*wn**2],\n",
        "    [-P.b+2*P.Jp*zeta*wn]])\n",
        "tmp = np.linalg.inv(AA)*bb\n",
        "kP_ph = tmp.item(0)\n",
        "kD_ph = tmp.item(1)\n",
        "\n",
        "print('Defined kP for phi is then:',kP_ph,'Defined kD for phi is then:',kD_ph,sep='\\n')"
      ],
      "execution_count": 0,
      "outputs": []
    },
    {
      "metadata": {
        "id": "bxqYAjgKslJV",
        "colab_type": "text"
      },
      "cell_type": "markdown",
      "source": [
        "## C Part (f - really e): Simulate the system\n"
      ]
    },
    {
      "metadata": {
        "id": "bwB7HnBtslJW",
        "colab_type": "code",
        "colab": {}
      },
      "cell_type": "code",
      "source": [
        "%matplotlib tk  \n",
        "# instantiate satellite, controller, and reference classes\n",
        "satellite = satelliteDynamics()\n",
        "ctrl = satelliteController()#kP_th,kD_th,kP_ph,kD_ph)\n",
        "reference = signalGenerator(amplitude=15.0*np.pi/180.0, frequency=0.015)\n",
        "\n",
        "# set disturbance input (unused here)\n",
        "disturbance = 0.0\n",
        "\n",
        "# instantiate the simulation plots and animation\n",
        "dataPlot = satellitePlotData()\n",
        "animation = satelliteAnimation()\n",
        "\n",
        "t = P.t_start  # time starts at t_start\n",
        "while t < P.t_end:  # main simulation loop\n",
        "    # Get referenced inputs from signal generators\n",
        "    ref_input = reference.square(t)\n",
        "    # Propagate dynamics in between plot samples\n",
        "    t_next_plot = t + P.t_plot\n",
        "    while t < t_next_plot: # updates control and dynamics at faster simulation rate\n",
        "        u = ctrl.u(ref_input, satellite.outputs())  # Calculate the control value\n",
        "        sys_input = [u[0]+disturbance]  # input to plant is control input + disturbance (formatted as a list)\n",
        "        satellite.propagateDynamics(sys_input)  # Propagate the dynamics with disturbance input\n",
        "        t = t + P.Ts  # advance time by Ts\n",
        "    # update animation and data plots\n",
        "    animation.drawSatellite(satellite.states())\n",
        "    dataPlot.updatePlots(t, ref_input, satellite.states(), u)\n",
        "    plt.pause(0.0001)  # the pause causes the figure to be displayed during the simulation"
      ],
      "execution_count": 0,
      "outputs": []
    },
    {
      "metadata": {
        "id": "aIFkH-cAslJZ",
        "colab_type": "text"
      },
      "cell_type": "markdown",
      "source": [
        "## C Part (g - really f): Saturation and Quick Response"
      ]
    },
    {
      "metadata": {
        "id": "aWyO3hUuslJa",
        "colab_type": "code",
        "colab": {}
      },
      "cell_type": "code",
      "source": [
        "tmax = 5.\n",
        "emax = 30.*np.pi/180.\n",
        "tr = 5 #2.2/(np.sqrt(a0+b0*tmax/emax))\n",
        "print('Rise Time: ',tr)\n",
        "wn = 2.2/tr\n",
        "print('Desired wn: ',wnd)\n",
        "zeta = 0.9\n",
        "den=[1.,2.*zeta*wnd,wnd*wnd]\n",
        "alpha0 = den[2]\n",
        "alpha1 = den[1]\n",
        "\n",
        "# Need to use the closed-loop TF characteristic equation to compare to the one above, since we have the zero involved. \n",
        "AA = np.matrix([\n",
        "    [P.k*k_DC_th, -P.Jp*P.b*k_DC_th],\n",
        "    [P.b*k_DC_th, P.k*k_DC_th-2*zeta*wn*P.b*k_DC_th]])\n",
        "bb = np.matrix([\n",
        "    [-P.k+P.Jp*wn**2],\n",
        "    [-P.b+2*P.Jp*zeta*wn]])\n",
        "tmp = np.linalg.inv(AA)*bb\n",
        "kP_ph = tmp.item(0)\n",
        "kD_ph = tmp.item(1)\n",
        "\n",
        "print('Defined kP is then:',kP_ph,'Defined kD is then:',kD_ph,sep='\\n')"
      ],
      "execution_count": 0,
      "outputs": []
    },
    {
      "metadata": {
        "id": "00nsH7ZgslJf",
        "colab_type": "code",
        "colab": {}
      },
      "cell_type": "code",
      "source": [
        "# instantiate satellite, controller, and reference classes\n",
        "satellite = satelliteDynamics()\n",
        "ctrl = satelliteController(kP_th,kD_th,kP_ph,kD_ph)\n",
        "reference = signalGenerator(amplitude=30.0*np.pi/180.0, frequency=0.015)\n",
        "\n",
        "# set disturbance input (unused here)\n",
        "disturbance = 0.0\n",
        "\n",
        "# instantiate the simulation plots and animation\n",
        "dataPlot = satellitePlotData()\n",
        "animation = satelliteAnimation()\n",
        "\n",
        "t = P.t_start  # time starts at t_start\n",
        "while t < P.t_end:  # main simulation loop\n",
        "    # Get referenced inputs from signal generators\n",
        "    ref_input = reference.square(t)\n",
        "    # Propagate dynamics in between plot samples\n",
        "    t_next_plot = t + P.t_plot\n",
        "    while t < t_next_plot: # updates control and dynamics at faster simulation rate\n",
        "        u = ctrl.u(ref_input, satellite.outputs())  # Calculate the control value\n",
        "        sys_input = [u[0]+disturbance]  # input to plant is control input + disturbance (formatted as a list)\n",
        "        satellite.propagateDynamics(sys_input)  # Propagate the dynamics with disturbance input\n",
        "        t = t + P.Ts  # advance time by Ts\n",
        "    # update animation and data plots\n",
        "    animation.drawSatellite(satellite.states())\n",
        "    dataPlot.updatePlots(t, ref_input, satellite.states(), u)\n",
        "    plt.pause(0.0001)  # the pause causes the figure to be displayed during the simulation"
      ],
      "execution_count": 0,
      "outputs": []
    },
    {
      "metadata": {
        "id": "J4XPN2QdslJ0",
        "colab_type": "text"
      },
      "cell_type": "markdown",
      "source": [
        "Note that the DC gain of the outer closed loop $\\ne$ 1, so there will be steady-state error in the system.  We will deal with this in a future chapter. "
      ]
    },
    {
      "metadata": {
        "id": "B_mH1YmDslJ1",
        "colab_type": "code",
        "colab": {}
      },
      "cell_type": "code",
      "source": [
        ""
      ],
      "execution_count": 0,
      "outputs": []
    },
    {
      "metadata": {
        "id": "sZrw7r2Lu4pD",
        "colab_type": "code",
        "colab": {}
      },
      "cell_type": "code",
      "source": [
        ""
      ],
      "execution_count": 0,
      "outputs": []
    }
  ]
}